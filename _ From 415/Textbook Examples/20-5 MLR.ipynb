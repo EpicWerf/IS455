{
 "metadata": {
  "language_info": {
   "codemirror_mode": {
    "name": "ipython",
    "version": 3
   },
   "file_extension": ".py",
   "mimetype": "text/x-python",
   "name": "python",
   "nbconvert_exporter": "python",
   "pygments_lexer": "ipython3",
   "version": "3.8.5-final"
  },
  "orig_nbformat": 2,
  "kernelspec": {
   "name": "Python 3.8.5 64-bit",
   "display_name": "Python 3.8.5 64-bit",
   "metadata": {
    "interpreter": {
     "hash": "f8ec8e2802e9ec64c1de1126b52a3a3eba2bbbc7f0465a520b33d3486dfa46c4"
    }
   }
  }
 },
 "nbformat": 4,
 "nbformat_minor": 2,
 "cells": [
  {
   "cell_type": "code",
   "execution_count": 15,
   "metadata": {},
   "outputs": [
    {
     "output_type": "stream",
     "name": "stdout",
     "text": [
      "                            OLS Regression Results                            \n==============================================================================\nDep. Variable:                charges   R-squared:                       0.751\nModel:                            OLS   Adj. R-squared:                  0.749\nMethod:                 Least Squares   F-statistic:                     500.8\nDate:                Tue, 13 Oct 2020   Prob (F-statistic):               0.00\nTime:                        18:25:11   Log-Likelihood:                -13548.\nNo. Observations:                1338   AIC:                         2.711e+04\nDf Residuals:                    1329   BIC:                         2.716e+04\nDf Model:                           8                                         \nCovariance Type:            nonrobust                                         \n====================================================================================\n                       coef    std err          t      P>|t|      [0.025      0.975]\n------------------------------------------------------------------------------------\nage                256.8564     11.899     21.587      0.000     233.514     280.199\nbmi                339.1935     28.599     11.860      0.000     283.088     395.298\nchildren           475.5005    137.804      3.451      0.001     205.163     745.838\nsex_female         -82.5512    269.226     -0.307      0.759    -610.706     445.604\nsex_male          -213.8656    274.976     -0.778      0.437    -753.299     325.568\nsmoker_no        -1.207e+04    282.338    -42.759      0.000   -1.26e+04   -1.15e+04\nsmoker_yes        1.178e+04    313.530     37.560      0.000    1.12e+04    1.24e+04\nregion_northeast   512.9050    300.348      1.708      0.088     -76.303    1102.113\nregion_northwest   159.9411    301.334      0.531      0.596    -431.201     751.083\nregion_southeast  -522.1170    330.759     -1.579      0.115   -1170.983     126.749\nregion_southwest  -447.1459    310.933     -1.438      0.151   -1057.119     162.827\nconst             -296.4168    430.507     -0.689      0.491   -1140.964     548.130\n==============================================================================\nOmnibus:                      300.366   Durbin-Watson:                   2.088\nProb(Omnibus):                  0.000   Jarque-Bera (JB):              718.887\nSkew:                           1.211   Prob(JB):                    7.86e-157\nKurtosis:                       5.651   Cond. No.                     5.17e+17\n==============================================================================\n\nNotes:\n[1] Standard Errors assume that the covariance matrix of the errors is correctly specified.\n[2] The smallest eigenvalue is 1.31e-29. This might indicate that there are\nstrong multicollinearity problems or that the design matrix is singular.\n"
     ]
    }
   ],
   "source": [
    "import numpy as np\n",
    "import pandas as pd\n",
    "import statsmodels.api as sm\n",
    "\n",
    "data = \"insurance\"\n",
    "label = \"charges\"\n",
    "df = pd.read_csv('http://www.ishelp.info/data/' + data + '.csv')\n",
    "\n",
    "# Generate dummy variables\n",
    "for col in df:\n",
    "    if not pd.api.types.is_numeric_dtype(df[col]):\n",
    "        df = df.join(pd.get_dummies(df[col], prefix=col))\n",
    "\n",
    "# Set label and features\n",
    "y = df[label]\n",
    "X = df.select_dtypes(np.number).assign(const=1)\n",
    "X = X.drop(columns=[label])\n",
    "\n",
    "# Run the multiple linear regression model\n",
    "model = sm.OLS(y, X)\n",
    "results = model.fit()\n",
    "print(results.summary())  # View results"
   ]
  },
  {
   "cell_type": "code",
   "execution_count": 16,
   "metadata": {},
   "outputs": [
    {
     "output_type": "stream",
     "name": "stdout",
     "text": [
      "                            OLS Regression Results                            \n==============================================================================\nDep. Variable:                charges   R-squared:                       0.751\nModel:                            OLS   Adj. R-squared:                  0.749\nMethod:                 Least Squares   F-statistic:                     500.8\nDate:                Tue, 13 Oct 2020   Prob (F-statistic):               0.00\nTime:                        18:25:14   Log-Likelihood:                -13548.\nNo. Observations:                1338   AIC:                         2.711e+04\nDf Residuals:                    1329   BIC:                         2.716e+04\nDf Model:                           8                                         \nCovariance Type:            nonrobust                                         \n====================================================================================\n                       coef    std err          t      P>|t|      [0.025      0.975]\n------------------------------------------------------------------------------------\nage                256.8564     11.899     21.587      0.000     233.514     280.199\nbmi                339.1935     28.599     11.860      0.000     283.088     395.298\nchildren           475.5005    137.804      3.451      0.001     205.163     745.838\nsex_female         -82.5512    269.226     -0.307      0.759    -610.706     445.604\nsex_male          -213.8656    274.976     -0.778      0.437    -753.299     325.568\nsmoker_no        -1.207e+04    282.338    -42.759      0.000   -1.26e+04   -1.15e+04\nsmoker_yes        1.178e+04    313.530     37.560      0.000    1.12e+04    1.24e+04\nregion_northeast   512.9050    300.348      1.708      0.088     -76.303    1102.113\nregion_northwest   159.9411    301.334      0.531      0.596    -431.201     751.083\nregion_southeast  -522.1170    330.759     -1.579      0.115   -1170.983     126.749\nregion_southwest  -447.1459    310.933     -1.438      0.151   -1057.119     162.827\nconst             -296.4168    430.507     -0.689      0.491   -1140.964     548.130\n==============================================================================\nOmnibus:                      300.366   Durbin-Watson:                   2.088\nProb(Omnibus):                  0.000   Jarque-Bera (JB):              718.887\nSkew:                           1.211   Prob(JB):                    7.86e-157\nKurtosis:                       5.651   Cond. No.                     5.17e+17\n==============================================================================\n\nNotes:\n[1] Standard Errors assume that the covariance matrix of the errors is correctly specified.\n[2] The smallest eigenvalue is 1.31e-29. This might indicate that there are\nstrong multicollinearity problems or that the design matrix is singular.\n"
     ]
    }
   ],
   "source": [
    "import numpy as np\n",
    "import pandas as pd\n",
    "import statsmodels.api as sm\n",
    "\n",
    "data = \"insurance\"\n",
    "label = \"charges\"\n",
    "df = pd.read_csv('http://www.ishelp.info/data/' + data + '.csv')\n",
    "\n",
    "# Generate dummy variables\n",
    "for col in df:\n",
    "        if not pd.api.types.is_numeric_dtype(df[col]):\n",
    "                df = df.join(pd.get_dummies(df[col], prefix=col))\n",
    "\n",
    "# Set label and features\n",
    "y = df[label]\n",
    "X = df.select_dtypes(np.number).assign(const=1)\n",
    "X = X.drop(columns=[label])\n",
    "\n",
    "# Run the multiple linear regression model\n",
    "model = sm.OLS(y, X)\n",
    "results = model.fit()\n",
    "print(results.summary())  # View results"
   ]
  },
  {
   "cell_type": "code",
   "execution_count": 17,
   "metadata": {},
   "outputs": [
    {
     "output_type": "execute_result",
     "data": {
      "text/plain": [
       "                       VIF  Tolerance\n",
       "age               1.016822   0.983456\n",
       "bmi               1.106630   0.903645\n",
       "children          1.004011   0.996005\n",
       "sex_female             inf   0.000000\n",
       "sex_male               inf   0.000000\n",
       "smoker_no              inf   0.000000\n",
       "smoker_yes             inf   0.000000\n",
       "region_northeast       inf   0.000000\n",
       "region_northwest       inf   0.000000\n",
       "region_southeast       inf   0.000000\n",
       "region_southwest       inf   0.000000"
      ],
      "text/html": "<div>\n<style scoped>\n    .dataframe tbody tr th:only-of-type {\n        vertical-align: middle;\n    }\n\n    .dataframe tbody tr th {\n        vertical-align: top;\n    }\n\n    .dataframe thead th {\n        text-align: right;\n    }\n</style>\n<table border=\"1\" class=\"dataframe\">\n  <thead>\n    <tr style=\"text-align: right;\">\n      <th></th>\n      <th>VIF</th>\n      <th>Tolerance</th>\n    </tr>\n  </thead>\n  <tbody>\n    <tr>\n      <th>age</th>\n      <td>1.016822</td>\n      <td>0.983456</td>\n    </tr>\n    <tr>\n      <th>bmi</th>\n      <td>1.106630</td>\n      <td>0.903645</td>\n    </tr>\n    <tr>\n      <th>children</th>\n      <td>1.004011</td>\n      <td>0.996005</td>\n    </tr>\n    <tr>\n      <th>sex_female</th>\n      <td>inf</td>\n      <td>0.000000</td>\n    </tr>\n    <tr>\n      <th>sex_male</th>\n      <td>inf</td>\n      <td>0.000000</td>\n    </tr>\n    <tr>\n      <th>smoker_no</th>\n      <td>inf</td>\n      <td>0.000000</td>\n    </tr>\n    <tr>\n      <th>smoker_yes</th>\n      <td>inf</td>\n      <td>0.000000</td>\n    </tr>\n    <tr>\n      <th>region_northeast</th>\n      <td>inf</td>\n      <td>0.000000</td>\n    </tr>\n    <tr>\n      <th>region_northwest</th>\n      <td>inf</td>\n      <td>0.000000</td>\n    </tr>\n    <tr>\n      <th>region_southeast</th>\n      <td>inf</td>\n      <td>0.000000</td>\n    </tr>\n    <tr>\n      <th>region_southwest</th>\n      <td>inf</td>\n      <td>0.000000</td>\n    </tr>\n  </tbody>\n</table>\n</div>"
     },
     "metadata": {},
     "execution_count": 17
    }
   ],
   "source": [
    "def vif(df):\n",
    "    import pandas as pd\n",
    "    from sklearn.linear_model import LinearRegression\n",
    "\n",
    "    # initialize dictionaries\n",
    "    vif_dict, tolerance_dict = {}, {}\n",
    "\n",
    "    # form input data for each exogenous variable\n",
    "    for col in df:\n",
    "        y = df[col]\n",
    "        X = df.drop(columns=[col])\n",
    "\n",
    "        # extract r-squared from the fit\n",
    "        r_squared = LinearRegression().fit(X, y).score(X, y)\n",
    "\n",
    "        # calculate VIF\n",
    "        vif = 1/(1 - r_squared)\n",
    "        vif_dict[col] = vif\n",
    "\n",
    "        # calculate tolerance\n",
    "        tolerance = 1 - r_squared\n",
    "        tolerance_dict[col] = tolerance\n",
    "\n",
    "    return pd.DataFrame({'VIF': vif_dict, 'Tolerance': tolerance_dict})\n",
    "\n",
    "vif_df = df.select_dtypes(np.number)\n",
    "vif_df = vif_df.drop(columns=['charges'])\n",
    "vif(vif_df)"
   ]
  },
  {
   "cell_type": "code",
   "execution_count": null,
   "metadata": {},
   "outputs": [],
   "source": []
  }
 ]
}