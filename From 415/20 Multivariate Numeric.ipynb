{
 "metadata": {
  "language_info": {
   "codemirror_mode": {
    "name": "ipython",
    "version": 3
   },
   "file_extension": ".py",
   "mimetype": "text/x-python",
   "name": "python",
   "nbconvert_exporter": "python",
   "pygments_lexer": "ipython3",
   "version": "3.8.5-final"
  },
  "orig_nbformat": 2,
  "kernelspec": {
   "name": "Python 3.8.5 64-bit",
   "display_name": "Python 3.8.5 64-bit",
   "metadata": {
    "interpreter": {
     "hash": "f8ec8e2802e9ec64c1de1126b52a3a3eba2bbbc7f0465a520b33d3486dfa46c4"
    }
   }
  }
 },
 "nbformat": 4,
 "nbformat_minor": 2,
 "cells": [
  {
   "cell_type": "code",
   "execution_count": 1,
   "metadata": {},
   "outputs": [
    {
     "output_type": "stream",
     "name": "stdout",
     "text": [
      "                            OLS Regression Results                            \n==============================================================================\nDep. Variable:                charges   R-squared:                       0.120\nModel:                            OLS   Adj. R-squared:                  0.118\nMethod:                 Least Squares   F-statistic:                     60.69\nDate:                Wed, 14 Oct 2020   Prob (F-statistic):           8.80e-37\nTime:                        15:23:07   Log-Likelihood:                -14392.\nNo. Observations:                1338   AIC:                         2.879e+04\nDf Residuals:                    1334   BIC:                         2.881e+04\nDf Model:                           3                                         \nCovariance Type:            nonrobust                                         \n==============================================================================\n                 coef    std err          t      P>|t|      [0.025      0.975]\n------------------------------------------------------------------------------\nage          239.9945     22.289     10.767      0.000     196.269     283.720\nbmi          332.0834     51.310      6.472      0.000     231.425     432.741\nchildren     542.8647    258.241      2.102      0.036      36.261    1049.468\nconst      -6916.2433   1757.480     -3.935      0.000   -1.04e+04   -3468.518\n==============================================================================\nOmnibus:                      325.395   Durbin-Watson:                   2.012\nProb(Omnibus):                  0.000   Jarque-Bera (JB):              603.372\nSkew:                           1.520   Prob(JB):                    9.54e-132\nKurtosis:                       4.255   Cond. No.                         290.\n==============================================================================\n\nNotes:\n[1] Standard Errors assume that the covariance matrix of the errors is correctly specified.\n"
     ]
    }
   ],
   "source": [
    "        import numpy as np\n",
    "        import pandas as pd\n",
    "        import statsmodels.api as sm\n",
    "        import matplotlib.pyplot as plt\n",
    "\n",
    "        data = \"insurance\"\n",
    "        label = \"charges\"\n",
    "        df = pd.read_csv('http://www.ishelp.info/data/' + data + '.csv')\n",
    "\n",
    "        # Set label and features\n",
    "        y = df[label]\n",
    "        X = df.select_dtypes(np.number).assign(const=1)\n",
    "        X = X.drop(columns=[label])\n",
    "\n",
    "        # Run the multiple linear regression model\n",
    "        model = sm.OLS(y, X)\n",
    "        results = model.fit()\n",
    "\n",
    "        # View results\n",
    "        print(results.summary())\n"
   ]
  },
  {
   "cell_type": "code",
   "execution_count": 2,
   "metadata": {},
   "outputs": [
    {
     "output_type": "stream",
     "name": "stdout",
     "text": [
      "R-squared:\t0.1201\nR2-adjusted:\t0.1181\nRMSE:\t\t11355.3179\nMAE:\t\t9015.4422\nLabel mean:\t13270.4223\n"
     ]
    }
   ],
   "source": [
    "        def mlr_fit(results, actual):\n",
    "          import numpy as np\n",
    "\n",
    "          residuals = np.array(actual) - np.array(results.fittedvalues)\n",
    "          rmse = np.sqrt(sum((residuals**2))/len(actual))\n",
    "\n",
    "          mae = np.mean(abs(np.array(actual) - np.array(results.fittedvalues)))\n",
    "\n",
    "          metrics  = \"R-squared:\\t\" + str(round(results.rsquared, 4)) + \"\\n\"\n",
    "          metrics += \"R2-adjusted:\\t\" + str(round(results.rsquared_adj, 4)) + \"\\n\"\n",
    "          metrics += \"RMSE:\\t\\t\" + str(round(rmse, 4)) + \"\\n\"\n",
    "          metrics += \"MAE:\\t\\t\" + str(round(mae, 4)) + \"\\n\"\n",
    "          metrics += \"Label mean:\\t\" + str(round(np.mean(actual), 4))\n",
    "\n",
    "          return metrics\n",
    "        print(mlr_fit(results, df[label]))\n"
   ]
  },
  {
   "cell_type": "code",
   "execution_count": null,
   "metadata": {},
   "outputs": [],
   "source": []
  }
 ]
}