{
 "cells": [
  {
   "cell_type": "markdown",
   "source": [
    "# Find Tweets about Manchester United"
   ],
   "metadata": {}
  },
  {
   "cell_type": "code",
   "execution_count": 1,
   "source": [
    "import requests\r\n",
    "import pandas as pd\r\n",
    "import json\r\n",
    "import time\r\n",
    "\r\n",
    "bearer_token = 'AAAAAAAAAAAAAAAAAAAAAGnaTwEAAAAAhRdM6yLmei6skyaWcjbx8IDFnlw%3DLPQHO2CTw1nVjjHLx3htgP9qmeCOgPpt96EdDujokNcWljI5iP'\r\n",
    "headers = {'Authorization':('Bearer '+ bearer_token)}\r\n",
    "\r\n",
    "n = 10000                             # The total number of tweets we want\r\n",
    "max_results = 10                      # The number of tweets to pull per request; must be between 10 and 100\r\n",
    "total_retrieved = 0                   # To keep track of when to stop\r\n",
    "next_token = \"\"                       # Must be empty on first iteration\r\n",
    "search_term = \"manchester%20united\"   # To form an advanced query, see here: https://twitter.com/search-advanced?lang=en\r\n",
    "\r\n",
    "# Create empty DataFrames and set columns\r\n",
    "df_tweets = pd.DataFrame(columns=['tweet_id', 'author_id', 'retweet_count', 'like_count', 'text', 'language', 'created_at', 'source', 'possibly_sensitive', 'image_url'])\r\n",
    "df_users = pd.DataFrame(columns=['user_id', 'username', 'created_at', 'description', 'profile_image_url', 'protected', 'verified', 'followers_count', 'following_count', 'tweet_count', 'listed_count'])\r\n",
    "\r\n",
    "# stop when we have n results\r\n",
    "while total_retrieved < n:\r\n",
    "\r\n",
    "  # the first time through the loop, we do not need the next_token parameter\r\n",
    "  if next_token == \"\":\r\n",
    "    url = f'https://api.twitter.com/2/tweets/search/recent?query={search_term}&max_results={max_results}'\r\n",
    "  else:\r\n",
    "    url = f'https://api.twitter.com/2/tweets/search/recent?query={search_term}&max_results={max_results}&next_token={next_token}'\r\n",
    "\r\n",
    "  # These are the extra parameters we will add to the querystring; we won't store them all though; just want you to see what's possible\r\n",
    "  url += f'&expansions=geo.place_id,author_id,attachments.media_keys'\r\n",
    "  url += f'&tweet.fields=attachments,author_id,context_annotations,conversation_id,created_at,entities,geo,id,in_reply_to_user_id,lang,possibly_sensitive,public_metrics,referenced_tweets,reply_settings,source,text,withheld'\r\n",
    "  url += f'&media.fields=media_key,type,url&user.fields=created_at,description,entities,id,location,name,pinned_tweet_id,profile_image_url,protected,public_metrics,url,username,verified,withheld'\r\n",
    "\r\n",
    "\r\n",
    "  # make the request to the Twitter API Recent Search endpoint\r\n",
    "  response = requests.request(\"GET\", url, headers=headers)\r\n",
    "  try:  # Just in case we get an error\r\n",
    "    json_data = json.loads(response.text)\r\n",
    "    # print(json_data)\r\n",
    "  except:\r\n",
    "    print(response.text)\r\n",
    "\r\n",
    "  for tweet in json_data['data']:\r\n",
    "    media_key = \"\"  # Reset to empty each time through the loop so that we can use it for a condition later\r\n",
    "\r\n",
    "    # Store the data into variables\r\n",
    "    tweet_id = tweet['id']\r\n",
    "    author_id = tweet['author_id']                               \r\n",
    "    retweet_count = tweet['public_metrics']['retweet_count']     #label\r\n",
    "    like_count = tweet['public_metrics']['like_count']           #label\r\n",
    "    image_url = \"\"                                               #image\r\n",
    "    text = tweet['text']                                         #text\r\n",
    "    created_at = tweet['created_at']                             #categorical\r\n",
    "    source = tweet['source']                                     #categorical\r\n",
    "    possibly_sensitive = tweet['possibly_sensitive']             #categorical\r\n",
    "    language = tweet['lang']                                     #categorical\r\n",
    "\r\n",
    "    # Find out if there is media\r\n",
    "    if 'attachments' in tweet:\r\n",
    "      if 'media_keys' in tweet['attachments']:\r\n",
    "        media_key = tweet['attachments']['media_keys'][0]\r\n",
    "\r\n",
    "    # If there is a media key in this tweet, iterate through tweet['includes']['media'] until we find it\r\n",
    "    if media_key != \"\":\r\n",
    "      for media in json_data['includes']['media']:\r\n",
    "        if media['media_key'] == media_key: # Only if the media_key matches the one we stored\r\n",
    "          if media['type'] == 'photo':      # Only if it is a photo; ignore videos\r\n",
    "            image_url = media['url']        # Store the url in a variable\r\n",
    "\r\n",
    "    # Add the new data to a new record in the DataFrame\r\n",
    "    df_tweets.loc[tweet_id] = [tweet_id, author_id, retweet_count, like_count, text, language, created_at, source, possibly_sensitive, image_url]\r\n",
    "\r\n",
    "  # keep track of how many results have been obtained so far:\r\n",
    "  total_retrieved += 10\r\n",
    "\r\n",
    "  # keep track of where to start next time, but quit if there are no more results\r\n",
    "  try:\r\n",
    "    next_token = json_data['meta']['next_token']\r\n",
    "  except:\r\n",
    "    break  \r\n",
    "\r\n",
    "  # get user info\r\n",
    "  for user in json_data['includes']['users']:\r\n",
    "    user_id = user['id']\r\n",
    "    user_name = user['username']\r\n",
    "    user_created_at = user['created_at']\r\n",
    "    user_description = user['description']\r\n",
    "    user_profile_image_url = user['profile_image_url']\r\n",
    "    user_protected = user['protected']\r\n",
    "    user_verified = user['verified']\r\n",
    "    user_followers_count = user['public_metrics']['followers_count']\r\n",
    "    user_following_count = user['public_metrics']['following_count']\r\n",
    "    user_tweet_count = user['public_metrics']['tweet_count']\r\n",
    "    user_listed_count = user['public_metrics']['listed_count']\r\n",
    "\r\n",
    "    #put user info into a user dataframe\r\n",
    "    df_users.loc[user_id] = [user_id, user_name, user_created_at, user_description, user_profile_image_url, user_protected, user_verified, user_followers_count, user_following_count, user_tweet_count, user_listed_count]\r\n",
    "  \r\n",
    "  #sleep to avoid hitting the rate limit\r\n",
    "  time.sleep(10)\r\n",
    "\r\n",
    "print('Got all the tweets!')\r\n",
    "\r\n",
    "#set df indexes. I\"m not doing that here as it messes up the indexes when sending it to a sqlite database\r\n",
    "# df_tweets.set_index('tweet_id', inplace=True)\r\n",
    "# df_users.set_index('user_id', inplace=True)\r\n",
    "\r\n",
    "# df_tweets.to_csv('tweets.csv')\r\n",
    "# df_users.to_csv('users.csv')\r\n"
   ],
   "outputs": [
    {
     "output_type": "stream",
     "name": "stdout",
     "text": [
      "Got all the tweets!\n"
     ]
    }
   ],
   "metadata": {}
  },
  {
   "cell_type": "code",
   "execution_count": 2,
   "source": [
    "# Read data from my server and store into a new sqlite3 database\r\n",
    "import pyodbc\r\n",
    "import sqlite3\r\n",
    "\r\n",
    "conn_write = sqlite3.connect('twitter.db')\r\n",
    "df_tweets.to_sql(name='tweets', con=conn_write, if_exists='replace', index=False)\r\n",
    "df_users.to_sql(name='users', con=conn_write, if_exists='replace', index=False)\r\n",
    "\r\n",
    "conn_write.close()\r\n",
    "\r\n",
    "print('Succesfully wrote to DB!')"
   ],
   "outputs": [
    {
     "output_type": "stream",
     "name": "stdout",
     "text": [
      "Succesfully wrote to DB!\n"
     ]
    }
   ],
   "metadata": {}
  }
 ],
 "metadata": {
  "orig_nbformat": 4,
  "language_info": {
   "name": "python",
   "version": "3.8.5",
   "mimetype": "text/x-python",
   "codemirror_mode": {
    "name": "ipython",
    "version": 3
   },
   "pygments_lexer": "ipython3",
   "nbconvert_exporter": "python",
   "file_extension": ".py"
  },
  "kernelspec": {
   "name": "python3",
   "display_name": "Python 3.8.5 64-bit"
  },
  "interpreter": {
   "hash": "f8ec8e2802e9ec64c1de1126b52a3a3eba2bbbc7f0465a520b33d3486dfa46c4"
  }
 },
 "nbformat": 4,
 "nbformat_minor": 2
}