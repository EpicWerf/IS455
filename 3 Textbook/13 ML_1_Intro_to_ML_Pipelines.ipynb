{
  "cells": [
    {
      "cell_type": "markdown",
      "metadata": {
        "id": "HhM_aKvy9vTp"
      },
      "source": [
        "# **Introduction to ML Pipelines**\n",
        "\n",
        "---\n",
        "\n"
      ]
    },
    {
      "cell_type": "markdown",
      "metadata": {
        "id": "LnMp5BBjt7Rs"
      },
      "source": [
        "## **Data Ingestion**"
      ]
    },
    {
      "cell_type": "code",
      "execution_count": 1,
      "metadata": {
        "colab": {
          "base_uri": "https://localhost:8080/",
          "height": 235
        },
        "id": "6JE1J48Xt7aO",
        "outputId": "734c8771-4d52-4444-c715-9d5d7fa96433"
      },
      "outputs": [
        {
          "data": {
            "text/html": [
              "<div>\n",
              "<style scoped>\n",
              "    .dataframe tbody tr th:only-of-type {\n",
              "        vertical-align: middle;\n",
              "    }\n",
              "\n",
              "    .dataframe tbody tr th {\n",
              "        vertical-align: top;\n",
              "    }\n",
              "\n",
              "    .dataframe thead th {\n",
              "        text-align: right;\n",
              "    }\n",
              "</style>\n",
              "<table border=\"1\" class=\"dataframe\">\n",
              "  <thead>\n",
              "    <tr style=\"text-align: right;\">\n",
              "      <th></th>\n",
              "      <th>MSSubClass</th>\n",
              "      <th>MSZoning</th>\n",
              "      <th>LotFrontage</th>\n",
              "      <th>LotArea</th>\n",
              "      <th>Street</th>\n",
              "      <th>...</th>\n",
              "      <th>MoSold</th>\n",
              "      <th>YrSold</th>\n",
              "      <th>SaleType</th>\n",
              "      <th>SaleCondition</th>\n",
              "      <th>SalePrice</th>\n",
              "    </tr>\n",
              "  </thead>\n",
              "  <tbody>\n",
              "    <tr>\n",
              "      <th>0</th>\n",
              "      <td>60</td>\n",
              "      <td>RL</td>\n",
              "      <td>65.0</td>\n",
              "      <td>8450</td>\n",
              "      <td>Pave</td>\n",
              "      <td>...</td>\n",
              "      <td>2</td>\n",
              "      <td>2008</td>\n",
              "      <td>WD</td>\n",
              "      <td>Normal</td>\n",
              "      <td>208500</td>\n",
              "    </tr>\n",
              "    <tr>\n",
              "      <th>1</th>\n",
              "      <td>20</td>\n",
              "      <td>RL</td>\n",
              "      <td>80.0</td>\n",
              "      <td>9600</td>\n",
              "      <td>Pave</td>\n",
              "      <td>...</td>\n",
              "      <td>5</td>\n",
              "      <td>2007</td>\n",
              "      <td>WD</td>\n",
              "      <td>Normal</td>\n",
              "      <td>181500</td>\n",
              "    </tr>\n",
              "    <tr>\n",
              "      <th>2</th>\n",
              "      <td>60</td>\n",
              "      <td>RL</td>\n",
              "      <td>68.0</td>\n",
              "      <td>11250</td>\n",
              "      <td>Pave</td>\n",
              "      <td>...</td>\n",
              "      <td>9</td>\n",
              "      <td>2008</td>\n",
              "      <td>WD</td>\n",
              "      <td>Normal</td>\n",
              "      <td>223500</td>\n",
              "    </tr>\n",
              "    <tr>\n",
              "      <th>3</th>\n",
              "      <td>70</td>\n",
              "      <td>RL</td>\n",
              "      <td>60.0</td>\n",
              "      <td>9550</td>\n",
              "      <td>Pave</td>\n",
              "      <td>...</td>\n",
              "      <td>2</td>\n",
              "      <td>2006</td>\n",
              "      <td>WD</td>\n",
              "      <td>Abnorml</td>\n",
              "      <td>140000</td>\n",
              "    </tr>\n",
              "    <tr>\n",
              "      <th>4</th>\n",
              "      <td>60</td>\n",
              "      <td>RL</td>\n",
              "      <td>84.0</td>\n",
              "      <td>14260</td>\n",
              "      <td>Pave</td>\n",
              "      <td>...</td>\n",
              "      <td>12</td>\n",
              "      <td>2008</td>\n",
              "      <td>WD</td>\n",
              "      <td>Normal</td>\n",
              "      <td>250000</td>\n",
              "    </tr>\n",
              "  </tbody>\n",
              "</table>\n",
              "<p>5 rows × 80 columns</p>\n",
              "</div>"
            ],
            "text/plain": [
              "   MSSubClass MSZoning  LotFrontage  LotArea Street  ... MoSold YrSold  \\\n",
              "0          60       RL         65.0     8450   Pave  ...      2   2008   \n",
              "1          20       RL         80.0     9600   Pave  ...      5   2007   \n",
              "2          60       RL         68.0    11250   Pave  ...      9   2008   \n",
              "3          70       RL         60.0     9550   Pave  ...      2   2006   \n",
              "4          60       RL         84.0    14260   Pave  ...     12   2008   \n",
              "\n",
              "  SaleType SaleCondition SalePrice  \n",
              "0       WD        Normal    208500  \n",
              "1       WD        Normal    181500  \n",
              "2       WD        Normal    223500  \n",
              "3       WD       Abnorml    140000  \n",
              "4       WD        Normal    250000  \n",
              "\n",
              "[5 rows x 80 columns]"
            ]
          },
          "execution_count": 1,
          "metadata": {},
          "output_type": "execute_result"
        }
      ],
      "source": [
        "def get_data(url, drop=[]):\n",
        "  import pandas as pd\n",
        "    \n",
        "  df = pd.read_csv(url)\n",
        "  if len(drop) > 0:\n",
        "    for col in drop:\n",
        "      # make sure the column exists. otherwise, skip it\n",
        "      try:\n",
        "        df.drop(columns=col, inplace=True)\n",
        "      except:\n",
        "        pass\n",
        "  \n",
        "  return df\n",
        "  \n",
        "# Call the funtion here to test it; however, we will use it again later\n",
        "import pandas as pd\n",
        "pd.set_option('display.max_columns', 10)\n",
        "df = get_data('https://www.ishelp.info/data/housing_full.csv', drop=['Id'])\n",
        "df.head()"
      ]
    },
    {
      "cell_type": "markdown",
      "metadata": {
        "id": "DkUONHJu5jno"
      },
      "source": [
        "## **Data Cleaning**"
      ]
    },
    {
      "cell_type": "markdown",
      "metadata": {
        "id": "s-ABN-NjEf_E"
      },
      "source": [
        "## Binning Categorial Features"
      ]
    },
    {
      "cell_type": "code",
      "execution_count": 2,
      "metadata": {
        "colab": {
          "base_uri": "https://localhost:8080/"
        },
        "id": "u6N3AT5UEffO",
        "outputId": "ce07ea78-6a8b-4ff1-c896-c8fe09d6982d"
      },
      "outputs": [
        {
          "name": "stdout",
          "output_type": "stream",
          "text": [
            "RL       1151\n",
            "RM        218\n",
            "Other      91\n",
            "Name: MSZoning, dtype: int64\n",
            "\n",
            "Pave     1454\n",
            "Other       6\n",
            "Name: Street, dtype: int64\n",
            "\n",
            "Other    91\n",
            "Name: Alley, dtype: int64\n",
            "\n",
            "Reg      925\n",
            "IR1      484\n",
            "Other     51\n",
            "Name: LotShape, dtype: int64\n",
            "\n",
            "Lvl      1311\n",
            "Other     149\n",
            "Name: LandContour, dtype: int64\n",
            "\n",
            "AllPub    1459\n",
            "Other        1\n",
            "Name: Utilities, dtype: int64\n",
            "\n",
            "Inside     1052\n",
            "Corner      263\n",
            "CulDSac      94\n",
            "Other        51\n",
            "Name: LotConfig, dtype: int64\n",
            "\n",
            "Gtl      1382\n",
            "Other      78\n",
            "Name: LandSlope, dtype: int64\n",
            "\n",
            "Other      483\n",
            "NAmes      225\n",
            "CollgCr    150\n",
            "OldTown    113\n",
            "Edwards    100\n",
            "Somerst     86\n",
            "Gilbert     79\n",
            "NridgHt     77\n",
            "Sawyer      74\n",
            "NWAmes      73\n",
            "Name: Neighborhood, dtype: int64\n",
            "\n",
            "Norm     1260\n",
            "Other     119\n",
            "Feedr      81\n",
            "Name: Condition1, dtype: int64\n",
            "\n",
            "Norm     1445\n",
            "Other      15\n",
            "Name: Condition2, dtype: int64\n",
            "\n",
            "1Fam      1220\n",
            "Other      126\n",
            "TwnhsE     114\n",
            "Name: BldgType, dtype: int64\n",
            "\n",
            "1Story    726\n",
            "2Story    445\n",
            "1.5Fin    154\n",
            "Other     135\n",
            "Name: HouseStyle, dtype: int64\n",
            "\n",
            "Gable    1141\n",
            "Hip       286\n",
            "Other      33\n",
            "Name: RoofStyle, dtype: int64\n",
            "\n",
            "CompShg    1434\n",
            "Other        26\n",
            "Name: RoofMatl, dtype: int64\n",
            "\n",
            "VinylSd    515\n",
            "HdBoard    222\n",
            "MetalSd    220\n",
            "Wd Sdng    206\n",
            "Other      189\n",
            "Plywood    108\n",
            "Name: Exterior1st, dtype: int64\n",
            "\n",
            "VinylSd    504\n",
            "MetalSd    214\n",
            "HdBoard    207\n",
            "Wd Sdng    197\n",
            "Other      196\n",
            "Plywood    142\n",
            "Name: Exterior2nd, dtype: int64\n",
            "\n",
            "None       864\n",
            "BrkFace    445\n",
            "Stone      128\n",
            "Other       15\n",
            "Name: MasVnrType, dtype: int64\n",
            "\n",
            "TA       906\n",
            "Gd       488\n",
            "Other     66\n",
            "Name: ExterQual, dtype: int64\n",
            "\n",
            "TA       1282\n",
            "Gd        146\n",
            "Other      32\n",
            "Name: ExterCond, dtype: int64\n",
            "\n",
            "PConc     647\n",
            "CBlock    634\n",
            "BrkTil    146\n",
            "Other      33\n",
            "Name: Foundation, dtype: int64\n",
            "\n",
            "TA       649\n",
            "Gd       618\n",
            "Ex       121\n",
            "Other     35\n",
            "Name: BsmtQual, dtype: int64\n",
            "\n",
            "TA       1311\n",
            "Other     112\n",
            "Name: BsmtCond, dtype: int64\n",
            "\n",
            "No    953\n",
            "Av    221\n",
            "Gd    134\n",
            "Mn    114\n",
            "Name: BsmtExposure, dtype: int64\n",
            "\n",
            "Unf    430\n",
            "GLQ    418\n",
            "ALQ    220\n",
            "BLQ    148\n",
            "Rec    133\n",
            "LwQ     74\n",
            "Name: BsmtFinType1, dtype: int64\n",
            "\n",
            "Unf      1256\n",
            "Other     166\n",
            "Name: BsmtFinType2, dtype: int64\n",
            "\n",
            "GasA     1428\n",
            "Other      32\n",
            "Name: Heating, dtype: int64\n",
            "\n",
            "Ex       741\n",
            "TA       428\n",
            "Gd       241\n",
            "Other     50\n",
            "Name: HeatingQC, dtype: int64\n",
            "\n",
            "Y    1365\n",
            "N      95\n",
            "Name: CentralAir, dtype: int64\n",
            "\n",
            "SBrkr    1334\n",
            "FuseA      94\n",
            "Other      31\n",
            "Name: Electrical, dtype: int64\n",
            "\n",
            "TA       735\n",
            "Gd       586\n",
            "Ex       100\n",
            "Other     39\n",
            "Name: KitchenQual, dtype: int64\n",
            "\n",
            "Typ      1360\n",
            "Other     100\n",
            "Name: Functional, dtype: int64\n",
            "\n",
            "Gd       380\n",
            "TA       313\n",
            "Other     77\n",
            "Name: FireplaceQu, dtype: int64\n",
            "\n",
            "Attchd     870\n",
            "Detchd     387\n",
            "BuiltIn     88\n",
            "Other       34\n",
            "Name: GarageType, dtype: int64\n",
            "\n",
            "Unf    605\n",
            "RFn    422\n",
            "Fin    352\n",
            "Name: GarageFinish, dtype: int64\n",
            "\n",
            "TA       1311\n",
            "Other      68\n",
            "Name: GarageQual, dtype: int64\n",
            "\n",
            "TA       1326\n",
            "Other      53\n",
            "Name: GarageCond, dtype: int64\n",
            "\n",
            "Y        1340\n",
            "N          90\n",
            "Other      30\n",
            "Name: PavedDrive, dtype: int64\n",
            "\n",
            "Other    7\n",
            "Name: PoolQC, dtype: int64\n",
            "\n",
            "MnPrv    157\n",
            "Other    124\n",
            "Name: Fence, dtype: int64\n",
            "\n",
            "Other    54\n",
            "Name: MiscFeature, dtype: int64\n",
            "\n",
            "WD       1267\n",
            "New       122\n",
            "Other      71\n",
            "Name: SaleType, dtype: int64\n",
            "\n",
            "Normal     1198\n",
            "Partial     125\n",
            "Abnorml     101\n",
            "Other        36\n",
            "Name: SaleCondition, dtype: int64\n",
            "\n"
          ]
        }
      ],
      "source": [
        "def bin_groups(df, percent=.05):\n",
        "  import pandas as pd\n",
        "\n",
        "  for col in df:\n",
        "    if not pd.api.types.is_numeric_dtype(df[col]):\n",
        "      for group, count in df[col].value_counts().iteritems():\n",
        "        if count / len(df) < percent:\n",
        "          df.loc[df[col] == group, col] = 'Other'\n",
        "  return df\n",
        "\n",
        "# Call the function to update the DataFrame. Pass in the Dataframe and the cutoff percent\n",
        "df = bin_groups(df, 0.05)\n",
        "\n",
        "# Check the value_counts() to see if it worked\n",
        "for col in df:\n",
        "  if not pd.api.types.is_numeric_dtype(df[col]):\n",
        "    print(df[col].value_counts())\n",
        "    print()"
      ]
    },
    {
      "cell_type": "markdown",
      "metadata": {
        "id": "KUFxZ-9REgil"
      },
      "source": [
        "## Missing Values"
      ]
    },
    {
      "cell_type": "code",
      "execution_count": 3,
      "metadata": {
        "colab": {
          "base_uri": "https://localhost:8080/"
        },
        "id": "iMaRMbv6xYIu",
        "outputId": "7a35ad6c-8ebd-448b-a707-dc8ed1907085"
      },
      "outputs": [
        {
          "name": "stdout",
          "output_type": "stream",
          "text": [
            "Feature\t Percent Missing\n",
            "\n",
            "Alley\t93.77%\n",
            "PoolQC\t99.52%\n",
            "Fence\t80.75%\n",
            "MiscFeature\t96.3%\n"
          ]
        }
      ],
      "source": [
        "print(\"Feature\\t\", \"Percent Missing\\n\")\n",
        "\n",
        "for col in df:\n",
        "  if df[col].isnull().sum() / len(df) > .5:\n",
        "    print(f'{col}\\t{round(df[col].isnull().sum() / len(df), 4) * 100}%')"
      ]
    },
    {
      "cell_type": "code",
      "execution_count": 4,
      "metadata": {
        "colab": {
          "base_uri": "https://localhost:8080/"
        },
        "id": "i-4wd1zVtYqw",
        "outputId": "04306548-9d92-439e-e897-8b2c711432c1"
      },
      "outputs": [
        {
          "name": "stdout",
          "output_type": "stream",
          "text": [
            "LotFrontage \t 17.7\n",
            "MasVnrType \t 0.5\n",
            "MasVnrArea \t 0.5\n",
            "BsmtQual \t 2.5\n",
            "BsmtCond \t 2.5\n",
            "BsmtExposure \t 2.6\n",
            "BsmtFinType1 \t 2.5\n",
            "BsmtFinType2 \t 2.6\n",
            "FireplaceQu \t 47.3\n",
            "GarageType \t 5.5\n",
            "GarageYrBlt \t 5.5\n",
            "GarageFinish \t 5.5\n",
            "GarageQual \t 5.5\n",
            "GarageCond \t 5.5\n"
          ]
        }
      ],
      "source": [
        "pd.set_option('display.max_rows', 500)\n",
        "\n",
        "def drop_columns_missing_data(df, cutoff=.5):\n",
        "  import pandas as pd\n",
        "  for col in df:\n",
        "    if df[col].isna().sum() / len(df) > cutoff:\n",
        "      df.drop(columns=[col], inplace=True)\n",
        "  return df\n",
        "\n",
        "df = drop_columns_missing_data(df)\n",
        "\n",
        "for col in df:\n",
        "  if df[col].isna().sum() / len(df) > 0.001:\n",
        "    print(col, '\\t', round(df[col].isnull().sum() / len(df), 3) * 100)"
      ]
    },
    {
      "cell_type": "markdown",
      "metadata": {
        "id": "X1Opcdk82uTw"
      },
      "source": [
        "### Missing Value Imputation: Univariate"
      ]
    },
    {
      "cell_type": "markdown",
      "metadata": {
        "id": "2HYT7cYk2xg4"
      },
      "source": [
        "Replace with Mean, Median, or Mode: SimpleImputer"
      ]
    },
    {
      "cell_type": "code",
      "execution_count": 5,
      "metadata": {
        "colab": {
          "base_uri": "https://localhost:8080/",
          "height": 329
        },
        "id": "D-dxE4L42zzS",
        "outputId": "affbe8b0-19f6-48f3-fc47-3ad0a45a3a60"
      },
      "outputs": [
        {
          "data": {
            "text/html": [
              "<div>\n",
              "<style scoped>\n",
              "    .dataframe tbody tr th:only-of-type {\n",
              "        vertical-align: middle;\n",
              "    }\n",
              "\n",
              "    .dataframe tbody tr th {\n",
              "        vertical-align: top;\n",
              "    }\n",
              "\n",
              "    .dataframe thead th {\n",
              "        text-align: right;\n",
              "    }\n",
              "</style>\n",
              "<table border=\"1\" class=\"dataframe\">\n",
              "  <thead>\n",
              "    <tr style=\"text-align: right;\">\n",
              "      <th></th>\n",
              "      <th>MSSubClass</th>\n",
              "      <th>LotFrontage</th>\n",
              "      <th>LotArea</th>\n",
              "      <th>...</th>\n",
              "      <th>SaleCondition_Normal</th>\n",
              "      <th>SaleCondition_Other</th>\n",
              "      <th>SaleCondition_Partial</th>\n",
              "    </tr>\n",
              "  </thead>\n",
              "  <tbody>\n",
              "    <tr>\n",
              "      <th>0</th>\n",
              "      <td>60.0</td>\n",
              "      <td>65.000000</td>\n",
              "      <td>8450.0</td>\n",
              "      <td>...</td>\n",
              "      <td>1.0</td>\n",
              "      <td>0.0</td>\n",
              "      <td>0.0</td>\n",
              "    </tr>\n",
              "    <tr>\n",
              "      <th>1</th>\n",
              "      <td>20.0</td>\n",
              "      <td>80.000000</td>\n",
              "      <td>9600.0</td>\n",
              "      <td>...</td>\n",
              "      <td>1.0</td>\n",
              "      <td>0.0</td>\n",
              "      <td>0.0</td>\n",
              "    </tr>\n",
              "    <tr>\n",
              "      <th>2</th>\n",
              "      <td>60.0</td>\n",
              "      <td>68.000000</td>\n",
              "      <td>11250.0</td>\n",
              "      <td>...</td>\n",
              "      <td>1.0</td>\n",
              "      <td>0.0</td>\n",
              "      <td>0.0</td>\n",
              "    </tr>\n",
              "    <tr>\n",
              "      <th>3</th>\n",
              "      <td>70.0</td>\n",
              "      <td>60.000000</td>\n",
              "      <td>9550.0</td>\n",
              "      <td>...</td>\n",
              "      <td>0.0</td>\n",
              "      <td>0.0</td>\n",
              "      <td>0.0</td>\n",
              "    </tr>\n",
              "    <tr>\n",
              "      <th>4</th>\n",
              "      <td>60.0</td>\n",
              "      <td>84.000000</td>\n",
              "      <td>14260.0</td>\n",
              "      <td>...</td>\n",
              "      <td>1.0</td>\n",
              "      <td>0.0</td>\n",
              "      <td>0.0</td>\n",
              "    </tr>\n",
              "    <tr>\n",
              "      <th>5</th>\n",
              "      <td>50.0</td>\n",
              "      <td>85.000000</td>\n",
              "      <td>14115.0</td>\n",
              "      <td>...</td>\n",
              "      <td>1.0</td>\n",
              "      <td>0.0</td>\n",
              "      <td>0.0</td>\n",
              "    </tr>\n",
              "    <tr>\n",
              "      <th>6</th>\n",
              "      <td>20.0</td>\n",
              "      <td>75.000000</td>\n",
              "      <td>10084.0</td>\n",
              "      <td>...</td>\n",
              "      <td>1.0</td>\n",
              "      <td>0.0</td>\n",
              "      <td>0.0</td>\n",
              "    </tr>\n",
              "    <tr>\n",
              "      <th>7</th>\n",
              "      <td>60.0</td>\n",
              "      <td>70.049958</td>\n",
              "      <td>10382.0</td>\n",
              "      <td>...</td>\n",
              "      <td>1.0</td>\n",
              "      <td>0.0</td>\n",
              "      <td>0.0</td>\n",
              "    </tr>\n",
              "  </tbody>\n",
              "</table>\n",
              "<p>8 rows × 128 columns</p>\n",
              "</div>"
            ],
            "text/plain": [
              "   MSSubClass  LotFrontage  LotArea  ...  SaleCondition_Normal  \\\n",
              "0        60.0    65.000000   8450.0  ...                   1.0   \n",
              "1        20.0    80.000000   9600.0  ...                   1.0   \n",
              "2        60.0    68.000000  11250.0  ...                   1.0   \n",
              "3        70.0    60.000000   9550.0  ...                   0.0   \n",
              "4        60.0    84.000000  14260.0  ...                   1.0   \n",
              "5        50.0    85.000000  14115.0  ...                   1.0   \n",
              "6        20.0    75.000000  10084.0  ...                   1.0   \n",
              "7        60.0    70.049958  10382.0  ...                   1.0   \n",
              "\n",
              "   SaleCondition_Other  SaleCondition_Partial  \n",
              "0                  0.0                    0.0  \n",
              "1                  0.0                    0.0  \n",
              "2                  0.0                    0.0  \n",
              "3                  0.0                    0.0  \n",
              "4                  0.0                    0.0  \n",
              "5                  0.0                    0.0  \n",
              "6                  0.0                    0.0  \n",
              "7                  0.0                    0.0  \n",
              "\n",
              "[8 rows x 128 columns]"
            ]
          },
          "execution_count": 5,
          "metadata": {},
          "output_type": "execute_result"
        }
      ],
      "source": [
        "def impute_mean(df):\n",
        "  from sklearn.impute import SimpleImputer\n",
        "  import pandas as pd, numpy as np\n",
        "\n",
        "  # Dummy code first; categorical features not allowed\n",
        "  for col in df:\n",
        "    if not pd.api.types.is_numeric_dtype(df[col]):\n",
        "      df = pd.get_dummies(df, columns=[col], drop_first=True)\n",
        "\n",
        "  # Change the strategy to mean, median, or mode\n",
        "  imp = SimpleImputer(missing_values=np.nan, strategy='mean')\n",
        "  df = pd.DataFrame(imp.fit_transform(df), columns=df.columns)\n",
        "\n",
        "  return df\n",
        "\n",
        "pd.set_option('display.max_columns', 6)\n",
        "df_si = impute_mean(df)\n",
        "df_si.head(8)"
      ]
    },
    {
      "cell_type": "markdown",
      "metadata": {
        "id": "8fNG534425Mv"
      },
      "source": [
        "### Missing Value Imputation: Multivariate"
      ]
    },
    {
      "cell_type": "markdown",
      "metadata": {
        "id": "G1A-2Y2QuvHl"
      },
      "source": [
        "KNN Clustering-Based Imputation: KNNImputer"
      ]
    },
    {
      "cell_type": "code",
      "execution_count": 6,
      "metadata": {
        "colab": {
          "base_uri": "https://localhost:8080/",
          "height": 329
        },
        "id": "7q23sHWTtYtl",
        "outputId": "3016f9f6-397a-46cf-8f6e-98acd0d2f825"
      },
      "outputs": [
        {
          "data": {
            "text/html": [
              "<div>\n",
              "<style scoped>\n",
              "    .dataframe tbody tr th:only-of-type {\n",
              "        vertical-align: middle;\n",
              "    }\n",
              "\n",
              "    .dataframe tbody tr th {\n",
              "        vertical-align: top;\n",
              "    }\n",
              "\n",
              "    .dataframe thead th {\n",
              "        text-align: right;\n",
              "    }\n",
              "</style>\n",
              "<table border=\"1\" class=\"dataframe\">\n",
              "  <thead>\n",
              "    <tr style=\"text-align: right;\">\n",
              "      <th></th>\n",
              "      <th>MSSubClass</th>\n",
              "      <th>LotFrontage</th>\n",
              "      <th>LotArea</th>\n",
              "      <th>...</th>\n",
              "      <th>SaleCondition_Normal</th>\n",
              "      <th>SaleCondition_Other</th>\n",
              "      <th>SaleCondition_Partial</th>\n",
              "    </tr>\n",
              "  </thead>\n",
              "  <tbody>\n",
              "    <tr>\n",
              "      <th>0</th>\n",
              "      <td>0.235294</td>\n",
              "      <td>0.150685</td>\n",
              "      <td>0.033420</td>\n",
              "      <td>...</td>\n",
              "      <td>1.0</td>\n",
              "      <td>0.0</td>\n",
              "      <td>0.0</td>\n",
              "    </tr>\n",
              "    <tr>\n",
              "      <th>1</th>\n",
              "      <td>0.000000</td>\n",
              "      <td>0.202055</td>\n",
              "      <td>0.038795</td>\n",
              "      <td>...</td>\n",
              "      <td>1.0</td>\n",
              "      <td>0.0</td>\n",
              "      <td>0.0</td>\n",
              "    </tr>\n",
              "    <tr>\n",
              "      <th>2</th>\n",
              "      <td>0.235294</td>\n",
              "      <td>0.160959</td>\n",
              "      <td>0.046507</td>\n",
              "      <td>...</td>\n",
              "      <td>1.0</td>\n",
              "      <td>0.0</td>\n",
              "      <td>0.0</td>\n",
              "    </tr>\n",
              "    <tr>\n",
              "      <th>3</th>\n",
              "      <td>0.294118</td>\n",
              "      <td>0.133562</td>\n",
              "      <td>0.038561</td>\n",
              "      <td>...</td>\n",
              "      <td>0.0</td>\n",
              "      <td>0.0</td>\n",
              "      <td>0.0</td>\n",
              "    </tr>\n",
              "    <tr>\n",
              "      <th>4</th>\n",
              "      <td>0.235294</td>\n",
              "      <td>0.215753</td>\n",
              "      <td>0.060576</td>\n",
              "      <td>...</td>\n",
              "      <td>1.0</td>\n",
              "      <td>0.0</td>\n",
              "      <td>0.0</td>\n",
              "    </tr>\n",
              "    <tr>\n",
              "      <th>5</th>\n",
              "      <td>0.176471</td>\n",
              "      <td>0.219178</td>\n",
              "      <td>0.059899</td>\n",
              "      <td>...</td>\n",
              "      <td>1.0</td>\n",
              "      <td>0.0</td>\n",
              "      <td>0.0</td>\n",
              "    </tr>\n",
              "    <tr>\n",
              "      <th>6</th>\n",
              "      <td>0.000000</td>\n",
              "      <td>0.184932</td>\n",
              "      <td>0.041057</td>\n",
              "      <td>...</td>\n",
              "      <td>1.0</td>\n",
              "      <td>0.0</td>\n",
              "      <td>0.0</td>\n",
              "    </tr>\n",
              "    <tr>\n",
              "      <th>7</th>\n",
              "      <td>0.235294</td>\n",
              "      <td>0.228767</td>\n",
              "      <td>0.042450</td>\n",
              "      <td>...</td>\n",
              "      <td>1.0</td>\n",
              "      <td>0.0</td>\n",
              "      <td>0.0</td>\n",
              "    </tr>\n",
              "  </tbody>\n",
              "</table>\n",
              "<p>8 rows × 128 columns</p>\n",
              "</div>"
            ],
            "text/plain": [
              "   MSSubClass  LotFrontage   LotArea  ...  SaleCondition_Normal  \\\n",
              "0    0.235294     0.150685  0.033420  ...                   1.0   \n",
              "1    0.000000     0.202055  0.038795  ...                   1.0   \n",
              "2    0.235294     0.160959  0.046507  ...                   1.0   \n",
              "3    0.294118     0.133562  0.038561  ...                   0.0   \n",
              "4    0.235294     0.215753  0.060576  ...                   1.0   \n",
              "5    0.176471     0.219178  0.059899  ...                   1.0   \n",
              "6    0.000000     0.184932  0.041057  ...                   1.0   \n",
              "7    0.235294     0.228767  0.042450  ...                   1.0   \n",
              "\n",
              "   SaleCondition_Other  SaleCondition_Partial  \n",
              "0                  0.0                    0.0  \n",
              "1                  0.0                    0.0  \n",
              "2                  0.0                    0.0  \n",
              "3                  0.0                    0.0  \n",
              "4                  0.0                    0.0  \n",
              "5                  0.0                    0.0  \n",
              "6                  0.0                    0.0  \n",
              "7                  0.0                    0.0  \n",
              "\n",
              "[8 rows x 128 columns]"
            ]
          },
          "execution_count": 6,
          "metadata": {},
          "output_type": "execute_result"
        }
      ],
      "source": [
        "def impute_KNN(df):\n",
        "  from sklearn.impute import KNNImputer\n",
        "  from sklearn.preprocessing import MinMaxScaler\n",
        "  import pandas as pd\n",
        "\n",
        "  # Dummy code first; categorical features not allowed\n",
        "  for col in df:\n",
        "    if not pd.api.types.is_numeric_dtype(df[col]):\n",
        "      df = pd.get_dummies(df, columns=[col], drop_first=True)\n",
        "\n",
        "  # Clustering is biased by unstandardized data; so MinMax scale it\n",
        "  df = pd.DataFrame(MinMaxScaler().fit_transform(df), columns = df.columns)\n",
        "\n",
        "  imp = KNNImputer(n_neighbors=5, weights=\"uniform\")\n",
        "  df = pd.DataFrame(imp.fit_transform(df), columns=df.columns)\n",
        "\n",
        "  return df\n",
        "\n",
        "df_knn = impute_KNN(df)\n",
        "df_knn.head(8)"
      ]
    },
    {
      "cell_type": "markdown",
      "metadata": {
        "id": "RFK3i6Pou26z"
      },
      "source": [
        "Regression-Based Imputation: IterativeImputer"
      ]
    },
    {
      "cell_type": "code",
      "execution_count": 7,
      "metadata": {
        "colab": {
          "base_uri": "https://localhost:8080/",
          "height": 329
        },
        "id": "a6_RQSXVtYwa",
        "outputId": "c61f8844-7317-443c-97ce-e49f36e0a520"
      },
      "outputs": [
        {
          "data": {
            "text/html": [
              "<div>\n",
              "<style scoped>\n",
              "    .dataframe tbody tr th:only-of-type {\n",
              "        vertical-align: middle;\n",
              "    }\n",
              "\n",
              "    .dataframe tbody tr th {\n",
              "        vertical-align: top;\n",
              "    }\n",
              "\n",
              "    .dataframe thead th {\n",
              "        text-align: right;\n",
              "    }\n",
              "</style>\n",
              "<table border=\"1\" class=\"dataframe\">\n",
              "  <thead>\n",
              "    <tr style=\"text-align: right;\">\n",
              "      <th></th>\n",
              "      <th>MSSubClass</th>\n",
              "      <th>LotFrontage</th>\n",
              "      <th>LotArea</th>\n",
              "      <th>...</th>\n",
              "      <th>SaleCondition_Normal</th>\n",
              "      <th>SaleCondition_Other</th>\n",
              "      <th>SaleCondition_Partial</th>\n",
              "    </tr>\n",
              "  </thead>\n",
              "  <tbody>\n",
              "    <tr>\n",
              "      <th>0</th>\n",
              "      <td>60.0</td>\n",
              "      <td>65.000000</td>\n",
              "      <td>8450.0</td>\n",
              "      <td>...</td>\n",
              "      <td>1.0</td>\n",
              "      <td>0.0</td>\n",
              "      <td>0.0</td>\n",
              "    </tr>\n",
              "    <tr>\n",
              "      <th>1</th>\n",
              "      <td>20.0</td>\n",
              "      <td>80.000000</td>\n",
              "      <td>9600.0</td>\n",
              "      <td>...</td>\n",
              "      <td>1.0</td>\n",
              "      <td>0.0</td>\n",
              "      <td>0.0</td>\n",
              "    </tr>\n",
              "    <tr>\n",
              "      <th>2</th>\n",
              "      <td>60.0</td>\n",
              "      <td>68.000000</td>\n",
              "      <td>11250.0</td>\n",
              "      <td>...</td>\n",
              "      <td>1.0</td>\n",
              "      <td>0.0</td>\n",
              "      <td>0.0</td>\n",
              "    </tr>\n",
              "    <tr>\n",
              "      <th>3</th>\n",
              "      <td>70.0</td>\n",
              "      <td>60.000000</td>\n",
              "      <td>9550.0</td>\n",
              "      <td>...</td>\n",
              "      <td>0.0</td>\n",
              "      <td>0.0</td>\n",
              "      <td>0.0</td>\n",
              "    </tr>\n",
              "    <tr>\n",
              "      <th>4</th>\n",
              "      <td>60.0</td>\n",
              "      <td>84.000000</td>\n",
              "      <td>14260.0</td>\n",
              "      <td>...</td>\n",
              "      <td>1.0</td>\n",
              "      <td>0.0</td>\n",
              "      <td>0.0</td>\n",
              "    </tr>\n",
              "    <tr>\n",
              "      <th>5</th>\n",
              "      <td>50.0</td>\n",
              "      <td>85.000000</td>\n",
              "      <td>14115.0</td>\n",
              "      <td>...</td>\n",
              "      <td>1.0</td>\n",
              "      <td>0.0</td>\n",
              "      <td>0.0</td>\n",
              "    </tr>\n",
              "    <tr>\n",
              "      <th>6</th>\n",
              "      <td>20.0</td>\n",
              "      <td>75.000000</td>\n",
              "      <td>10084.0</td>\n",
              "      <td>...</td>\n",
              "      <td>1.0</td>\n",
              "      <td>0.0</td>\n",
              "      <td>0.0</td>\n",
              "    </tr>\n",
              "    <tr>\n",
              "      <th>7</th>\n",
              "      <td>60.0</td>\n",
              "      <td>90.998208</td>\n",
              "      <td>10382.0</td>\n",
              "      <td>...</td>\n",
              "      <td>1.0</td>\n",
              "      <td>0.0</td>\n",
              "      <td>0.0</td>\n",
              "    </tr>\n",
              "  </tbody>\n",
              "</table>\n",
              "<p>8 rows × 128 columns</p>\n",
              "</div>"
            ],
            "text/plain": [
              "   MSSubClass  LotFrontage  LotArea  ...  SaleCondition_Normal  \\\n",
              "0        60.0    65.000000   8450.0  ...                   1.0   \n",
              "1        20.0    80.000000   9600.0  ...                   1.0   \n",
              "2        60.0    68.000000  11250.0  ...                   1.0   \n",
              "3        70.0    60.000000   9550.0  ...                   0.0   \n",
              "4        60.0    84.000000  14260.0  ...                   1.0   \n",
              "5        50.0    85.000000  14115.0  ...                   1.0   \n",
              "6        20.0    75.000000  10084.0  ...                   1.0   \n",
              "7        60.0    90.998208  10382.0  ...                   1.0   \n",
              "\n",
              "   SaleCondition_Other  SaleCondition_Partial  \n",
              "0                  0.0                    0.0  \n",
              "1                  0.0                    0.0  \n",
              "2                  0.0                    0.0  \n",
              "3                  0.0                    0.0  \n",
              "4                  0.0                    0.0  \n",
              "5                  0.0                    0.0  \n",
              "6                  0.0                    0.0  \n",
              "7                  0.0                    0.0  \n",
              "\n",
              "[8 rows x 128 columns]"
            ]
          },
          "execution_count": 7,
          "metadata": {},
          "output_type": "execute_result"
        }
      ],
      "source": [
        "def impute_reg(df):\n",
        "  from sklearn.experimental import enable_iterative_imputer\n",
        "  from sklearn.impute import IterativeImputer\n",
        "  import pandas as pd\n",
        "\n",
        "  # Dummy code first; categorical features not allowed\n",
        "  for col in df:\n",
        "    if not pd.api.types.is_numeric_dtype(df[col]):\n",
        "      df = pd.get_dummies(df, columns=[col], drop_first=True)\n",
        "\n",
        "  # Scaling is unnecessary for regression-based imputation\n",
        "\n",
        "  imp = IterativeImputer(max_iter=10, random_state=12345)\n",
        "  df = pd.DataFrame(imp.fit_transform(df), columns=df.columns)\n",
        "\n",
        "  return df\n",
        "\n",
        "df_reg = impute_reg(df)\n",
        "df_reg.head(8)"
      ]
    },
    {
      "cell_type": "markdown",
      "metadata": {
        "id": "UL54j4WH7y_T"
      },
      "source": [
        "### Compare Impute Methods"
      ]
    },
    {
      "cell_type": "code",
      "execution_count": 8,
      "metadata": {
        "colab": {
          "base_uri": "https://localhost:8080/"
        },
        "id": "DK9EYphr7zG5",
        "outputId": "943e0d3f-c025-416c-fa83-4be8431c1829"
      },
      "outputs": [],
      "source": [
        "# Uncomment this block to compare the speed of the imputation method\n",
        "# Mean is the fastest but is artificially inflated\n",
        "\n",
        "# %timeit impute_mean(df)\n",
        "# %timeit impute_KNN(df)\n",
        "# %timeit impute_reg(df)"
      ]
    },
    {
      "cell_type": "markdown",
      "metadata": {
        "id": "vCyKkyddLOCx"
      },
      "source": [
        "## **Model Fitting**"
      ]
    },
    {
      "cell_type": "code",
      "execution_count": 9,
      "metadata": {
        "colab": {
          "base_uri": "https://localhost:8080/"
        },
        "id": "wqG7Z2v_tzja",
        "outputId": "52fbcb31-101b-4f9d-ac2a-12769b6a15de"
      },
      "outputs": [
        {
          "name": "stdout",
          "output_type": "stream",
          "text": [
            "R-squared (mlr): \t0.8176633275142347\n"
          ]
        }
      ],
      "source": [
        "def fit_mlr(df, test_size=.2, random_state=12345, label=''):\n",
        "  from sklearn.linear_model import LinearRegression\n",
        "  from sklearn.model_selection import train_test_split\n",
        "  import pandas as pd\n",
        "  \n",
        "  X = df.drop(label,axis=1)\n",
        "  y = df[label]\n",
        "\n",
        "  X_train, X_test, y_train, y_test = train_test_split(X, y, test_size=test_size, random_state=random_state)\n",
        "\n",
        "  model = LinearRegression().fit(X_train, y_train)\n",
        "  print(f'R-squared (mlr): \\t{model.score(X_test, y_test)}')\n",
        "\n",
        "  return model\n",
        "\n",
        "#change this to change the impute method you used\n",
        "df_impute_method = df_reg\n",
        "\n",
        "model = fit_mlr(df_impute_method, .3, 12345, 'SalePrice')"
      ]
    },
    {
      "cell_type": "code",
      "execution_count": 10,
      "metadata": {
        "colab": {
          "base_uri": "https://localhost:8080/"
        },
        "id": "AqhOJCtXy93g",
        "outputId": "0b9ae001-7170-43ba-da7f-f91419b67b83"
      },
      "outputs": [
        {
          "name": "stdout",
          "output_type": "stream",
          "text": [
            "Average R-squared:\t0.7975108601968875\n"
          ]
        }
      ],
      "source": [
        "def fit_crossvalidate_mlr(df, k, label, repeat=True):\n",
        "  from sklearn.linear_model import LinearRegression\n",
        "  from sklearn.model_selection import KFold, RepeatedKFold, cross_val_score\n",
        "  import pandas as pd\n",
        "  from numpy import mean, std\n",
        "  X = df.drop(label,axis=1)\n",
        "  y = df[label]\n",
        "\n",
        "  # prepare the cross-validation procedure\n",
        "  if repeat:\n",
        "    cv = RepeatedKFold(n_splits=k, n_repeats=5, random_state=12345)\n",
        "  else:\n",
        "    cv = KFold(n_splits=k, random_state=12345, shuffle=True)\n",
        "  \n",
        "\n",
        "  # evaluate model\n",
        "  scores = cross_val_score(LinearRegression(), X, y, scoring='r2', cv=cv, n_jobs=-1)\n",
        "\n",
        "  # report performance\n",
        "  print(f'Average R-squared:\\t{mean(scores)}')\n",
        "\n",
        "  return LinearRegression().fit(X, y)\n",
        "\n",
        "model = fit_crossvalidate_mlr(df_si, 10, 'SalePrice', True)"
      ]
    },
    {
      "cell_type": "markdown",
      "metadata": {
        "id": "BGLDfkeutzue"
      },
      "source": [
        "## **Model Deployment**"
      ]
    },
    {
      "cell_type": "code",
      "execution_count": 11,
      "metadata": {
        "id": "1ikfvRETt0B-"
      },
      "outputs": [],
      "source": [
        "# Save models using two different packages to compare speed\n",
        "\n",
        "def dump_pickle(model, file_name):\n",
        "  import pickle\n",
        "  pickle.dump(model, open(file_name, \"wb\"))\n",
        "\n",
        "def dump_joblib(model, file_name):\n",
        "  import joblib\n",
        "  joblib.dump(model, file_name)"
      ]
    },
    {
      "cell_type": "code",
      "execution_count": 12,
      "metadata": {
        "id": "3FLInxjyFmOG"
      },
      "outputs": [],
      "source": [
        "# Load models using two different packages to compare speed\n",
        "\n",
        "def load_pickle(file_name):\n",
        "  import pickle\n",
        "  model = pickle.load(open(file_name, \"rb\"))\n",
        "  return model\n",
        "\n",
        "def load_joblib(file_name):\n",
        "  import joblib\n",
        "  model = joblib.load(file_name)\n",
        "  return model"
      ]
    },
    {
      "cell_type": "code",
      "execution_count": 13,
      "metadata": {
        "colab": {
          "base_uri": "https://localhost:8080/"
        },
        "id": "isSOWei6FmQ3",
        "outputId": "78ad56f7-347e-4130-defb-fe99f9af39e8"
      },
      "outputs": [
        {
          "name": "stdout",
          "output_type": "stream",
          "text": [
            "619 µs ± 40.7 µs per loop (mean ± std. dev. of 7 runs, 1000 loops each)\n",
            "1.84 ms ± 307 µs per loop (mean ± std. dev. of 7 runs, 1000 loops each)\n",
            "\n",
            "310 µs ± 55.5 µs per loop (mean ± std. dev. of 7 runs, 1000 loops each)\n",
            "1.02 ms ± 118 µs per loop (mean ± std. dev. of 7 runs, 1000 loops each)\n"
          ]
        }
      ],
      "source": [
        "# Compare the packages for speed\n",
        "\n",
        "%timeit dump_pickle(model, \"model_pickle.sav\")\n",
        "%timeit dump_joblib(model, \"model_joblib.sav\")\n",
        "print()\n",
        "%timeit model = load_pickle(\"model_pickle.sav\")\n",
        "%timeit model = load_joblib(\"model_joblib.sav\")"
      ]
    },
    {
      "cell_type": "markdown",
      "metadata": {
        "id": "-3Mpx3iwx2i5"
      },
      "source": [
        "## **Create Pipelines** (these are the full pipelines for each method; only use one at a time)"
      ]
    },
    {
      "cell_type": "markdown",
      "metadata": {
        "id": "sf20_1sRKI-A"
      },
      "source": [
        "KNN imputed pipeline"
      ]
    },
    {
      "cell_type": "code",
      "execution_count": 14,
      "metadata": {
        "colab": {
          "base_uri": "https://localhost:8080/"
        },
        "id": "tZmwW5vtx2qe",
        "outputId": "d2371227-2e53-434c-f52b-5407763a155d"
      },
      "outputs": [
        {
          "name": "stdout",
          "output_type": "stream",
          "text": [
            "Average R-squared:\t-6.30012315768053e+18\n"
          ]
        }
      ],
      "source": [
        "# Ingest data\n",
        "df = get_data('https://www.ishelp.info/data/housing_full.csv', drop=['Id'])\n",
        "\n",
        "# Clean data\n",
        "df = bin_groups(df, percent=0.05)\n",
        "df = drop_columns_missing_data(df, .5)\n",
        "df = impute_KNN(df)\n",
        "\n",
        "# Model data\n",
        "model_mlr = fit_crossvalidate_mlr(df, 10, \"SalePrice\", True)\n",
        "\n",
        "# Deploy model\n",
        "dump_pickle(model_mlr, \"model_pickle.sav\")"
      ]
    },
    {
      "cell_type": "markdown",
      "metadata": {
        "id": "vWv9W6RXKJYs"
      },
      "source": [
        "Mean replacement pipeline"
      ]
    },
    {
      "cell_type": "code",
      "execution_count": 15,
      "metadata": {
        "colab": {
          "base_uri": "https://localhost:8080/"
        },
        "id": "0abd2v4GAgqm",
        "outputId": "06b48123-57e5-4d73-97ca-ce0023f4f902"
      },
      "outputs": [
        {
          "name": "stdout",
          "output_type": "stream",
          "text": [
            "Average R-squared:\t0.7975108601968875\n"
          ]
        }
      ],
      "source": [
        "df = get_data('https://www.ishelp.info/data/housing_full.csv', drop=['Id'])\n",
        "df = bin_groups(df, percent=0.05)\n",
        "df = drop_columns_missing_data(df, .5)\n",
        "df = impute_mean(df)\n",
        "model_mlr = fit_crossvalidate_mlr(df, 10, \"SalePrice\", True)\n",
        "dump_pickle(model_mlr, \"model_pickle.sav\")"
      ]
    },
    {
      "cell_type": "markdown",
      "metadata": {
        "id": "WL8sDW17KJ1Z"
      },
      "source": [
        "Regression replacement pipeline"
      ]
    },
    {
      "cell_type": "code",
      "execution_count": 16,
      "metadata": {
        "colab": {
          "base_uri": "https://localhost:8080/"
        },
        "id": "VxTsoLzXA5I8",
        "outputId": "8d059b98-8b84-43ee-a254-a3d765fac8eb"
      },
      "outputs": [
        {
          "name": "stdout",
          "output_type": "stream",
          "text": [
            "Average R-squared:\t0.7983762915366868\n"
          ]
        }
      ],
      "source": [
        "df = get_data('https://www.ishelp.info/data/housing_full.csv', drop=['Id'])\n",
        "df = bin_groups(df, percent=0.05)\n",
        "df = drop_columns_missing_data(df, .5)\n",
        "df = impute_reg(df)\n",
        "model_mlr = fit_crossvalidate_mlr(df, 10, \"SalePrice\", True)\n",
        "dump_pickle(model_mlr, \"model_pickle.sav\")"
      ]
    },
    {
      "cell_type": "markdown",
      "metadata": {
        "id": "teaitI-1JZnL"
      },
      "source": [
        "## **Load Model for Later Use**"
      ]
    },
    {
      "cell_type": "markdown",
      "metadata": {
        "id": "0EuCgyxJPw15"
      },
      "source": [
        "Single Prediction"
      ]
    },
    {
      "cell_type": "code",
      "execution_count": 21,
      "metadata": {
        "colab": {
          "base_uri": "https://localhost:8080/"
        },
        "id": "jRXSd14SPw-U",
        "outputId": "21808a8d-bb3c-454d-d18b-a9ee797acc8c"
      },
      "outputs": [
        {
          "name": "stderr",
          "output_type": "stream",
          "text": [
            "C:\\Users\\Acer\\AppData\\Local\\Packages\\PythonSoftwareFoundation.Python.3.8_qbz5n2kfra8p0\\LocalCache\\local-packages\\Python38\\site-packages\\sklearn\\base.py:484: FutureWarning: The feature names should match those that were passed during fit. Starting version 1.2, an error will be raised.\n",
            "Feature names unseen at fit time:\n",
            "- BldgType_2fmCon\n",
            "- BldgType_Duplex\n",
            "- BldgType_Twnhs\n",
            "- BsmtCond_Gd\n",
            "- BsmtCond_Po\n",
            "- ...\n",
            "Feature names seen at fit time, yet now missing:\n",
            "- BldgType_Other\n",
            "- BsmtQual_Other\n",
            "- Condition1_Other\n",
            "- Condition2_Other\n",
            "- Electrical_Other\n",
            "- ...\n",
            "\n",
            "  warnings.warn(message, FutureWarning)\n"
          ]
        },
        {
          "ename": "ValueError",
          "evalue": "X has 236 features, but LinearRegression is expecting 127 features as input.",
          "output_type": "error",
          "traceback": [
            "\u001b[1;31m---------------------------------------------------------------------------\u001b[0m",
            "\u001b[1;31mValueError\u001b[0m                                Traceback (most recent call last)",
            "\u001b[1;32m~\\AppData\\Local\\Temp/ipykernel_1528/1548196785.py\u001b[0m in \u001b[0;36m<module>\u001b[1;34m\u001b[0m\n\u001b[0;32m      1\u001b[0m \u001b[1;31m# Load the stored model\u001b[0m\u001b[1;33m\u001b[0m\u001b[1;33m\u001b[0m\u001b[1;33m\u001b[0m\u001b[0m\n\u001b[0;32m      2\u001b[0m \u001b[0mmodel\u001b[0m \u001b[1;33m=\u001b[0m \u001b[0mload_pickle\u001b[0m\u001b[1;33m(\u001b[0m\u001b[1;34m\"model_pickle.sav\"\u001b[0m\u001b[1;33m)\u001b[0m\u001b[1;33m\u001b[0m\u001b[1;33m\u001b[0m\u001b[0m\n\u001b[1;32m----> 3\u001b[1;33m \u001b[0mmodel\u001b[0m\u001b[1;33m.\u001b[0m\u001b[0mpredict\u001b[0m\u001b[1;33m(\u001b[0m\u001b[0mdf\u001b[0m\u001b[1;33m.\u001b[0m\u001b[0mdrop\u001b[0m\u001b[1;33m(\u001b[0m\u001b[0mcolumns\u001b[0m\u001b[1;33m=\u001b[0m\u001b[1;33m[\u001b[0m\u001b[1;34m'SalePrice'\u001b[0m\u001b[1;33m]\u001b[0m\u001b[1;33m)\u001b[0m\u001b[1;33m)\u001b[0m\u001b[1;33m\u001b[0m\u001b[1;33m\u001b[0m\u001b[0m\n\u001b[0m\u001b[0;32m      4\u001b[0m \u001b[1;31m# round(model.predict([[20,80,9600,6,8,1976,1976,0,978,0,284,1262,1262,0,0,1262,\u001b[0m\u001b[1;33m\u001b[0m\u001b[1;33m\u001b[0m\u001b[1;33m\u001b[0m\u001b[0m\n\u001b[0;32m      5\u001b[0m \u001b[1;31m#                     0,1,2,0,3,1,6,1,1976,2,460,298,0,0,0,0,0,0,5,2007,0,0,1,\u001b[0m\u001b[1;33m\u001b[0m\u001b[1;33m\u001b[0m\u001b[1;33m\u001b[0m\u001b[0m\n",
            "\u001b[1;32m~\\AppData\\Local\\Packages\\PythonSoftwareFoundation.Python.3.8_qbz5n2kfra8p0\\LocalCache\\local-packages\\Python38\\site-packages\\sklearn\\linear_model\\_base.py\u001b[0m in \u001b[0;36mpredict\u001b[1;34m(self, X)\u001b[0m\n\u001b[0;32m    360\u001b[0m             \u001b[0mReturns\u001b[0m \u001b[0mpredicted\u001b[0m \u001b[0mvalues\u001b[0m\u001b[1;33m.\u001b[0m\u001b[1;33m\u001b[0m\u001b[1;33m\u001b[0m\u001b[0m\n\u001b[0;32m    361\u001b[0m         \"\"\"\n\u001b[1;32m--> 362\u001b[1;33m         \u001b[1;32mreturn\u001b[0m \u001b[0mself\u001b[0m\u001b[1;33m.\u001b[0m\u001b[0m_decision_function\u001b[0m\u001b[1;33m(\u001b[0m\u001b[0mX\u001b[0m\u001b[1;33m)\u001b[0m\u001b[1;33m\u001b[0m\u001b[1;33m\u001b[0m\u001b[0m\n\u001b[0m\u001b[0;32m    363\u001b[0m \u001b[1;33m\u001b[0m\u001b[0m\n\u001b[0;32m    364\u001b[0m     \u001b[0m_preprocess_data\u001b[0m \u001b[1;33m=\u001b[0m \u001b[0mstaticmethod\u001b[0m\u001b[1;33m(\u001b[0m\u001b[0m_preprocess_data\u001b[0m\u001b[1;33m)\u001b[0m\u001b[1;33m\u001b[0m\u001b[1;33m\u001b[0m\u001b[0m\n",
            "\u001b[1;32m~\\AppData\\Local\\Packages\\PythonSoftwareFoundation.Python.3.8_qbz5n2kfra8p0\\LocalCache\\local-packages\\Python38\\site-packages\\sklearn\\linear_model\\_base.py\u001b[0m in \u001b[0;36m_decision_function\u001b[1;34m(self, X)\u001b[0m\n\u001b[0;32m    343\u001b[0m         \u001b[0mcheck_is_fitted\u001b[0m\u001b[1;33m(\u001b[0m\u001b[0mself\u001b[0m\u001b[1;33m)\u001b[0m\u001b[1;33m\u001b[0m\u001b[1;33m\u001b[0m\u001b[0m\n\u001b[0;32m    344\u001b[0m \u001b[1;33m\u001b[0m\u001b[0m\n\u001b[1;32m--> 345\u001b[1;33m         \u001b[0mX\u001b[0m \u001b[1;33m=\u001b[0m \u001b[0mself\u001b[0m\u001b[1;33m.\u001b[0m\u001b[0m_validate_data\u001b[0m\u001b[1;33m(\u001b[0m\u001b[0mX\u001b[0m\u001b[1;33m,\u001b[0m \u001b[0maccept_sparse\u001b[0m\u001b[1;33m=\u001b[0m\u001b[1;33m[\u001b[0m\u001b[1;34m\"csr\"\u001b[0m\u001b[1;33m,\u001b[0m \u001b[1;34m\"csc\"\u001b[0m\u001b[1;33m,\u001b[0m \u001b[1;34m\"coo\"\u001b[0m\u001b[1;33m]\u001b[0m\u001b[1;33m,\u001b[0m \u001b[0mreset\u001b[0m\u001b[1;33m=\u001b[0m\u001b[1;32mFalse\u001b[0m\u001b[1;33m)\u001b[0m\u001b[1;33m\u001b[0m\u001b[1;33m\u001b[0m\u001b[0m\n\u001b[0m\u001b[0;32m    346\u001b[0m         \u001b[1;32mreturn\u001b[0m \u001b[0msafe_sparse_dot\u001b[0m\u001b[1;33m(\u001b[0m\u001b[0mX\u001b[0m\u001b[1;33m,\u001b[0m \u001b[0mself\u001b[0m\u001b[1;33m.\u001b[0m\u001b[0mcoef_\u001b[0m\u001b[1;33m.\u001b[0m\u001b[0mT\u001b[0m\u001b[1;33m,\u001b[0m \u001b[0mdense_output\u001b[0m\u001b[1;33m=\u001b[0m\u001b[1;32mTrue\u001b[0m\u001b[1;33m)\u001b[0m \u001b[1;33m+\u001b[0m \u001b[0mself\u001b[0m\u001b[1;33m.\u001b[0m\u001b[0mintercept_\u001b[0m\u001b[1;33m\u001b[0m\u001b[1;33m\u001b[0m\u001b[0m\n\u001b[0;32m    347\u001b[0m \u001b[1;33m\u001b[0m\u001b[0m\n",
            "\u001b[1;32m~\\AppData\\Local\\Packages\\PythonSoftwareFoundation.Python.3.8_qbz5n2kfra8p0\\LocalCache\\local-packages\\Python38\\site-packages\\sklearn\\base.py\u001b[0m in \u001b[0;36m_validate_data\u001b[1;34m(self, X, y, reset, validate_separately, **check_params)\u001b[0m\n\u001b[0;32m    574\u001b[0m \u001b[1;33m\u001b[0m\u001b[0m\n\u001b[0;32m    575\u001b[0m         \u001b[1;32mif\u001b[0m \u001b[1;32mnot\u001b[0m \u001b[0mno_val_X\u001b[0m \u001b[1;32mand\u001b[0m \u001b[0mcheck_params\u001b[0m\u001b[1;33m.\u001b[0m\u001b[0mget\u001b[0m\u001b[1;33m(\u001b[0m\u001b[1;34m\"ensure_2d\"\u001b[0m\u001b[1;33m,\u001b[0m \u001b[1;32mTrue\u001b[0m\u001b[1;33m)\u001b[0m\u001b[1;33m:\u001b[0m\u001b[1;33m\u001b[0m\u001b[1;33m\u001b[0m\u001b[0m\n\u001b[1;32m--> 576\u001b[1;33m             \u001b[0mself\u001b[0m\u001b[1;33m.\u001b[0m\u001b[0m_check_n_features\u001b[0m\u001b[1;33m(\u001b[0m\u001b[0mX\u001b[0m\u001b[1;33m,\u001b[0m \u001b[0mreset\u001b[0m\u001b[1;33m=\u001b[0m\u001b[0mreset\u001b[0m\u001b[1;33m)\u001b[0m\u001b[1;33m\u001b[0m\u001b[1;33m\u001b[0m\u001b[0m\n\u001b[0m\u001b[0;32m    577\u001b[0m \u001b[1;33m\u001b[0m\u001b[0m\n\u001b[0;32m    578\u001b[0m         \u001b[1;32mreturn\u001b[0m \u001b[0mout\u001b[0m\u001b[1;33m\u001b[0m\u001b[1;33m\u001b[0m\u001b[0m\n",
            "\u001b[1;32m~\\AppData\\Local\\Packages\\PythonSoftwareFoundation.Python.3.8_qbz5n2kfra8p0\\LocalCache\\local-packages\\Python38\\site-packages\\sklearn\\base.py\u001b[0m in \u001b[0;36m_check_n_features\u001b[1;34m(self, X, reset)\u001b[0m\n\u001b[0;32m    393\u001b[0m \u001b[1;33m\u001b[0m\u001b[0m\n\u001b[0;32m    394\u001b[0m         \u001b[1;32mif\u001b[0m \u001b[0mn_features\u001b[0m \u001b[1;33m!=\u001b[0m \u001b[0mself\u001b[0m\u001b[1;33m.\u001b[0m\u001b[0mn_features_in_\u001b[0m\u001b[1;33m:\u001b[0m\u001b[1;33m\u001b[0m\u001b[1;33m\u001b[0m\u001b[0m\n\u001b[1;32m--> 395\u001b[1;33m             raise ValueError(\n\u001b[0m\u001b[0;32m    396\u001b[0m                 \u001b[1;34mf\"X has {n_features} features, but {self.__class__.__name__} \"\u001b[0m\u001b[1;33m\u001b[0m\u001b[1;33m\u001b[0m\u001b[0m\n\u001b[0;32m    397\u001b[0m                 \u001b[1;34mf\"is expecting {self.n_features_in_} features as input.\"\u001b[0m\u001b[1;33m\u001b[0m\u001b[1;33m\u001b[0m\u001b[0m\n",
            "\u001b[1;31mValueError\u001b[0m: X has 236 features, but LinearRegression is expecting 127 features as input."
          ]
        }
      ],
      "source": [
        "# Load the stored model\n",
        "model = load_pickle(\"model_pickle.sav\")\n",
        "model.predict(df.drop(columns=['SalePrice']))\n",
        "# round(model.predict([[20,80,9600,6,8,1976,1976,0,978,0,284,1262,1262,0,0,1262,\n",
        "#                     0,1,2,0,3,1,6,1,1976,2,460,298,0,0,0,0,0,0,5,2007,0,0,1,\n",
        "#                     0,1,0,0,1,0,0,1,0,0,1,0,0,0,0,0,0,0,0,0,0,0,0,0,0,0,0,0,\n",
        "#                     0,0,0,0,0,0,0,0,0,0,1,1,0,0,0,0,0,0,0,0,1,0,0,0,0,0,0,0,\n",
        "#                     0,0,0,1,0,0,0,0,0,1,0,0,0,0,1,0,0,0,0,0,0,0,0,0,0,0,0,0,\n",
        "#                     1,0,0,0,0,0,0,0,0,0,0,0,0,0,1,0,0,0,0,0,0,0,0,1,0,0,0,1,\n",
        "#                     0,0,0,1,1,0,0,0,0,0,1,0,0,0,1,1,0,0,0,0,0,0,0,0,0,0,0,1,\n",
        "#                     1,0,0,0,0,0,0,0,0,1,0,0,0,1,0,0,1,0,0,0,0,0,1,0,0,0,1,1,\n",
        "#                     0,0,0,0,1,0,0,0,0,1,0,0,0,1,0,1,0,0,0,0,0,0,0,1,0,0,0,1,0]])[0], 2)"
      ]
    },
    {
      "cell_type": "markdown",
      "metadata": {
        "id": "08f0pwt1PudX"
      },
      "source": [
        "Batch of Predictions"
      ]
    },
    {
      "cell_type": "code",
      "execution_count": 22,
      "metadata": {
        "colab": {
          "base_uri": "https://localhost:8080/",
          "height": 235
        },
        "id": "RQWfhYVOEZvG",
        "outputId": "048e97c0-8319-49f0-8ac4-a68a2091d106"
      },
      "outputs": [
        {
          "name": "stderr",
          "output_type": "stream",
          "text": [
            "C:\\Users\\Acer\\AppData\\Local\\Packages\\PythonSoftwareFoundation.Python.3.8_qbz5n2kfra8p0\\LocalCache\\local-packages\\Python38\\site-packages\\sklearn\\base.py:484: FutureWarning: The feature names should match those that were passed during fit. Starting version 1.2, an error will be raised.\n",
            "Feature names unseen at fit time:\n",
            "- BldgType_2fmCon\n",
            "- BldgType_Duplex\n",
            "- BldgType_Twnhs\n",
            "- BsmtCond_Gd\n",
            "- BsmtCond_Po\n",
            "- ...\n",
            "Feature names seen at fit time, yet now missing:\n",
            "- BldgType_Other\n",
            "- BsmtQual_Other\n",
            "- Condition1_Other\n",
            "- Condition2_Other\n",
            "- Electrical_Other\n",
            "- ...\n",
            "\n",
            "  warnings.warn(message, FutureWarning)\n"
          ]
        },
        {
          "ename": "ValueError",
          "evalue": "X has 236 features, but LinearRegression is expecting 127 features as input.",
          "output_type": "error",
          "traceback": [
            "\u001b[1;31m---------------------------------------------------------------------------\u001b[0m",
            "\u001b[1;31mValueError\u001b[0m                                Traceback (most recent call last)",
            "\u001b[1;32m~\\AppData\\Local\\Temp/ipykernel_1528/2946943407.py\u001b[0m in \u001b[0;36m<module>\u001b[1;34m\u001b[0m\n\u001b[0;32m     10\u001b[0m \u001b[1;33m\u001b[0m\u001b[0m\n\u001b[0;32m     11\u001b[0m \u001b[1;31m# Generate the list of predictions\u001b[0m\u001b[1;33m\u001b[0m\u001b[1;33m\u001b[0m\u001b[1;33m\u001b[0m\u001b[0m\n\u001b[1;32m---> 12\u001b[1;33m \u001b[0mpredicted\u001b[0m \u001b[1;33m=\u001b[0m \u001b[0mmodel\u001b[0m\u001b[1;33m.\u001b[0m\u001b[0mpredict\u001b[0m\u001b[1;33m(\u001b[0m\u001b[0mdf\u001b[0m\u001b[1;33m.\u001b[0m\u001b[0mdrop\u001b[0m\u001b[1;33m(\u001b[0m\u001b[0mcolumns\u001b[0m\u001b[1;33m=\u001b[0m\u001b[1;33m[\u001b[0m\u001b[1;34m'SalePrice'\u001b[0m\u001b[1;33m]\u001b[0m\u001b[1;33m)\u001b[0m\u001b[1;33m)\u001b[0m\u001b[1;33m\u001b[0m\u001b[1;33m\u001b[0m\u001b[0m\n\u001b[0m\u001b[0;32m     13\u001b[0m \u001b[1;33m\u001b[0m\u001b[0m\n\u001b[0;32m     14\u001b[0m \u001b[1;31m# Remove the dummy codes just to simplify the results; not necessary\u001b[0m\u001b[1;33m\u001b[0m\u001b[1;33m\u001b[0m\u001b[1;33m\u001b[0m\u001b[0m\n",
            "\u001b[1;32m~\\AppData\\Local\\Packages\\PythonSoftwareFoundation.Python.3.8_qbz5n2kfra8p0\\LocalCache\\local-packages\\Python38\\site-packages\\sklearn\\linear_model\\_base.py\u001b[0m in \u001b[0;36mpredict\u001b[1;34m(self, X)\u001b[0m\n\u001b[0;32m    360\u001b[0m             \u001b[0mReturns\u001b[0m \u001b[0mpredicted\u001b[0m \u001b[0mvalues\u001b[0m\u001b[1;33m.\u001b[0m\u001b[1;33m\u001b[0m\u001b[1;33m\u001b[0m\u001b[0m\n\u001b[0;32m    361\u001b[0m         \"\"\"\n\u001b[1;32m--> 362\u001b[1;33m         \u001b[1;32mreturn\u001b[0m \u001b[0mself\u001b[0m\u001b[1;33m.\u001b[0m\u001b[0m_decision_function\u001b[0m\u001b[1;33m(\u001b[0m\u001b[0mX\u001b[0m\u001b[1;33m)\u001b[0m\u001b[1;33m\u001b[0m\u001b[1;33m\u001b[0m\u001b[0m\n\u001b[0m\u001b[0;32m    363\u001b[0m \u001b[1;33m\u001b[0m\u001b[0m\n\u001b[0;32m    364\u001b[0m     \u001b[0m_preprocess_data\u001b[0m \u001b[1;33m=\u001b[0m \u001b[0mstaticmethod\u001b[0m\u001b[1;33m(\u001b[0m\u001b[0m_preprocess_data\u001b[0m\u001b[1;33m)\u001b[0m\u001b[1;33m\u001b[0m\u001b[1;33m\u001b[0m\u001b[0m\n",
            "\u001b[1;32m~\\AppData\\Local\\Packages\\PythonSoftwareFoundation.Python.3.8_qbz5n2kfra8p0\\LocalCache\\local-packages\\Python38\\site-packages\\sklearn\\linear_model\\_base.py\u001b[0m in \u001b[0;36m_decision_function\u001b[1;34m(self, X)\u001b[0m\n\u001b[0;32m    343\u001b[0m         \u001b[0mcheck_is_fitted\u001b[0m\u001b[1;33m(\u001b[0m\u001b[0mself\u001b[0m\u001b[1;33m)\u001b[0m\u001b[1;33m\u001b[0m\u001b[1;33m\u001b[0m\u001b[0m\n\u001b[0;32m    344\u001b[0m \u001b[1;33m\u001b[0m\u001b[0m\n\u001b[1;32m--> 345\u001b[1;33m         \u001b[0mX\u001b[0m \u001b[1;33m=\u001b[0m \u001b[0mself\u001b[0m\u001b[1;33m.\u001b[0m\u001b[0m_validate_data\u001b[0m\u001b[1;33m(\u001b[0m\u001b[0mX\u001b[0m\u001b[1;33m,\u001b[0m \u001b[0maccept_sparse\u001b[0m\u001b[1;33m=\u001b[0m\u001b[1;33m[\u001b[0m\u001b[1;34m\"csr\"\u001b[0m\u001b[1;33m,\u001b[0m \u001b[1;34m\"csc\"\u001b[0m\u001b[1;33m,\u001b[0m \u001b[1;34m\"coo\"\u001b[0m\u001b[1;33m]\u001b[0m\u001b[1;33m,\u001b[0m \u001b[0mreset\u001b[0m\u001b[1;33m=\u001b[0m\u001b[1;32mFalse\u001b[0m\u001b[1;33m)\u001b[0m\u001b[1;33m\u001b[0m\u001b[1;33m\u001b[0m\u001b[0m\n\u001b[0m\u001b[0;32m    346\u001b[0m         \u001b[1;32mreturn\u001b[0m \u001b[0msafe_sparse_dot\u001b[0m\u001b[1;33m(\u001b[0m\u001b[0mX\u001b[0m\u001b[1;33m,\u001b[0m \u001b[0mself\u001b[0m\u001b[1;33m.\u001b[0m\u001b[0mcoef_\u001b[0m\u001b[1;33m.\u001b[0m\u001b[0mT\u001b[0m\u001b[1;33m,\u001b[0m \u001b[0mdense_output\u001b[0m\u001b[1;33m=\u001b[0m\u001b[1;32mTrue\u001b[0m\u001b[1;33m)\u001b[0m \u001b[1;33m+\u001b[0m \u001b[0mself\u001b[0m\u001b[1;33m.\u001b[0m\u001b[0mintercept_\u001b[0m\u001b[1;33m\u001b[0m\u001b[1;33m\u001b[0m\u001b[0m\n\u001b[0;32m    347\u001b[0m \u001b[1;33m\u001b[0m\u001b[0m\n",
            "\u001b[1;32m~\\AppData\\Local\\Packages\\PythonSoftwareFoundation.Python.3.8_qbz5n2kfra8p0\\LocalCache\\local-packages\\Python38\\site-packages\\sklearn\\base.py\u001b[0m in \u001b[0;36m_validate_data\u001b[1;34m(self, X, y, reset, validate_separately, **check_params)\u001b[0m\n\u001b[0;32m    574\u001b[0m \u001b[1;33m\u001b[0m\u001b[0m\n\u001b[0;32m    575\u001b[0m         \u001b[1;32mif\u001b[0m \u001b[1;32mnot\u001b[0m \u001b[0mno_val_X\u001b[0m \u001b[1;32mand\u001b[0m \u001b[0mcheck_params\u001b[0m\u001b[1;33m.\u001b[0m\u001b[0mget\u001b[0m\u001b[1;33m(\u001b[0m\u001b[1;34m\"ensure_2d\"\u001b[0m\u001b[1;33m,\u001b[0m \u001b[1;32mTrue\u001b[0m\u001b[1;33m)\u001b[0m\u001b[1;33m:\u001b[0m\u001b[1;33m\u001b[0m\u001b[1;33m\u001b[0m\u001b[0m\n\u001b[1;32m--> 576\u001b[1;33m             \u001b[0mself\u001b[0m\u001b[1;33m.\u001b[0m\u001b[0m_check_n_features\u001b[0m\u001b[1;33m(\u001b[0m\u001b[0mX\u001b[0m\u001b[1;33m,\u001b[0m \u001b[0mreset\u001b[0m\u001b[1;33m=\u001b[0m\u001b[0mreset\u001b[0m\u001b[1;33m)\u001b[0m\u001b[1;33m\u001b[0m\u001b[1;33m\u001b[0m\u001b[0m\n\u001b[0m\u001b[0;32m    577\u001b[0m \u001b[1;33m\u001b[0m\u001b[0m\n\u001b[0;32m    578\u001b[0m         \u001b[1;32mreturn\u001b[0m \u001b[0mout\u001b[0m\u001b[1;33m\u001b[0m\u001b[1;33m\u001b[0m\u001b[0m\n",
            "\u001b[1;32m~\\AppData\\Local\\Packages\\PythonSoftwareFoundation.Python.3.8_qbz5n2kfra8p0\\LocalCache\\local-packages\\Python38\\site-packages\\sklearn\\base.py\u001b[0m in \u001b[0;36m_check_n_features\u001b[1;34m(self, X, reset)\u001b[0m\n\u001b[0;32m    393\u001b[0m \u001b[1;33m\u001b[0m\u001b[0m\n\u001b[0;32m    394\u001b[0m         \u001b[1;32mif\u001b[0m \u001b[0mn_features\u001b[0m \u001b[1;33m!=\u001b[0m \u001b[0mself\u001b[0m\u001b[1;33m.\u001b[0m\u001b[0mn_features_in_\u001b[0m\u001b[1;33m:\u001b[0m\u001b[1;33m\u001b[0m\u001b[1;33m\u001b[0m\u001b[0m\n\u001b[1;32m--> 395\u001b[1;33m             raise ValueError(\n\u001b[0m\u001b[0;32m    396\u001b[0m                 \u001b[1;34mf\"X has {n_features} features, but {self.__class__.__name__} \"\u001b[0m\u001b[1;33m\u001b[0m\u001b[1;33m\u001b[0m\u001b[0m\n\u001b[0;32m    397\u001b[0m                 \u001b[1;34mf\"is expecting {self.n_features_in_} features as input.\"\u001b[0m\u001b[1;33m\u001b[0m\u001b[1;33m\u001b[0m\u001b[0m\n",
            "\u001b[1;31mValueError\u001b[0m: X has 236 features, but LinearRegression is expecting 127 features as input."
          ]
        }
      ],
      "source": [
        "pd.set_option('display.max_columns', 8)\n",
        "\n",
        "# Load the stored model\n",
        "model = load_pickle(\"model_pickle.sav\")\n",
        "\n",
        "# Get the data you want to predict and take it through the same steps as the training data\n",
        "df = get_data('https://www.ishelp.info/data/housing_full.csv', drop=['Id'])\n",
        "df = drop_columns_missing_data(df, .5)\n",
        "df = impute_mean(df)\n",
        "\n",
        "# Generate the list of predictions\n",
        "predicted = model.predict(df.drop(columns=['SalePrice']))\n",
        "\n",
        "# Remove the dummy codes just to simplify the results; not necessary\n",
        "df.drop(df.iloc[:, 37:], inplace=True, axis=1)\n",
        "\n",
        "# Add the predictions to the DataFrame\n",
        "df['Predicted'] = predicted\n",
        "df.head()"
      ]
    }
  ],
  "metadata": {
    "colab": {
      "collapsed_sections": [],
      "name": "ML 1: Intro to ML Pipelines.ipynb",
      "provenance": [],
      "toc_visible": true
    },
    "kernelspec": {
      "display_name": "Python 3",
      "name": "python3"
    },
    "language_info": {
      "codemirror_mode": {
        "name": "ipython",
        "version": 3
      },
      "file_extension": ".py",
      "mimetype": "text/x-python",
      "name": "python",
      "nbconvert_exporter": "python",
      "pygments_lexer": "ipython3",
      "version": "3.8.10"
    }
  },
  "nbformat": 4,
  "nbformat_minor": 0
}
