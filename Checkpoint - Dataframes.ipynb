{
  "nbformat": 4,
  "nbformat_minor": 2,
  "metadata": {
    "colab": {
      "name": "Checkpoint_DataFrames_intermediate.ipynb",
      "provenance": [],
      "collapsed_sections": []
    },
    "kernelspec": {
      "name": "python3",
      "display_name": "Python 3.8.5 64-bit"
    },
    "language_info": {
      "name": "python",
      "version": "3.8.5",
      "mimetype": "text/x-python",
      "codemirror_mode": {
        "name": "ipython",
        "version": 3
      },
      "pygments_lexer": "ipython3",
      "nbconvert_exporter": "python",
      "file_extension": ".py"
    },
    "interpreter": {
      "hash": "f8ec8e2802e9ec64c1de1126b52a3a3eba2bbbc7f0465a520b33d3486dfa46c4"
    }
  },
  "cells": [
    {
      "cell_type": "markdown",
      "source": [
        "### READ ME\n",
        "\n",
        "Use the code blocks below to answer each quiz question. Only print the output required for each question. Do not edit the comments at the top of each code cell. Otherwise, the auto-grader may misinterpret your results. See Question 0 as an an example of how to complete a task (leave it in your notebook; don't delete it):"
      ],
      "metadata": {
        "id": "w9WaBkNE-YWH"
      }
    },
    {
      "cell_type": "code",
      "execution_count": 10,
      "source": [
        "# Question 0: Create a DataFrame with three rows and four columns. Name the \r\n",
        "# columns 'Col1', 'Col2', 'Col3', 'Col4'. Create an index for the DataFrame\r\n",
        "# and give the rows the index values of 'Row1', 'Row2', 'Row3'. Place a value\r\n",
        "# in each column equal to the {ColumnName/RowName}. e.g. Col1/Row1. Print\r\n",
        "# the entire DataFrame.\r\n",
        "\r\n",
        "import pandas as pd\r\n",
        "\r\n",
        "df = pd.DataFrame(columns=['Col1', 'Col2', 'Col3', 'Col4'], index=['Row1', 'Row2', 'Row3'])\r\n",
        "\r\n",
        "for col in df:\r\n",
        "  for i, value in df[col].items():\r\n",
        "    df.at[i, col] = f'{i}/{col}'\r\n",
        "\r\n",
        "df\r\n",
        "# this is a test version two"
      ],
      "outputs": [
        {
          "output_type": "execute_result",
          "data": {
            "text/plain": [
              "           Col1       Col2       Col3       Col4\n",
              "Row1  Row1/Col1  Row1/Col2  Row1/Col3  Row1/Col4\n",
              "Row2  Row2/Col1  Row2/Col2  Row2/Col3  Row2/Col4\n",
              "Row3  Row3/Col1  Row3/Col2  Row3/Col3  Row3/Col4"
            ],
            "text/html": [
              "<div>\n",
              "<style scoped>\n",
              "    .dataframe tbody tr th:only-of-type {\n",
              "        vertical-align: middle;\n",
              "    }\n",
              "\n",
              "    .dataframe tbody tr th {\n",
              "        vertical-align: top;\n",
              "    }\n",
              "\n",
              "    .dataframe thead th {\n",
              "        text-align: right;\n",
              "    }\n",
              "</style>\n",
              "<table border=\"1\" class=\"dataframe\">\n",
              "  <thead>\n",
              "    <tr style=\"text-align: right;\">\n",
              "      <th></th>\n",
              "      <th>Col1</th>\n",
              "      <th>Col2</th>\n",
              "      <th>Col3</th>\n",
              "      <th>Col4</th>\n",
              "    </tr>\n",
              "  </thead>\n",
              "  <tbody>\n",
              "    <tr>\n",
              "      <th>Row1</th>\n",
              "      <td>Row1/Col1</td>\n",
              "      <td>Row1/Col2</td>\n",
              "      <td>Row1/Col3</td>\n",
              "      <td>Row1/Col4</td>\n",
              "    </tr>\n",
              "    <tr>\n",
              "      <th>Row2</th>\n",
              "      <td>Row2/Col1</td>\n",
              "      <td>Row2/Col2</td>\n",
              "      <td>Row2/Col3</td>\n",
              "      <td>Row2/Col4</td>\n",
              "    </tr>\n",
              "    <tr>\n",
              "      <th>Row3</th>\n",
              "      <td>Row3/Col1</td>\n",
              "      <td>Row3/Col2</td>\n",
              "      <td>Row3/Col3</td>\n",
              "      <td>Row3/Col4</td>\n",
              "    </tr>\n",
              "  </tbody>\n",
              "</table>\n",
              "</div>"
            ]
          },
          "metadata": {},
          "execution_count": 10
        }
      ],
      "metadata": {
        "id": "jj4oUqyY-9GA",
        "colab": {
          "base_uri": "https://localhost:8080/"
        },
        "outputId": "2f3b21c2-db73-4437-aacd-aca1f5c4f0e1"
      }
    },
    {
      "cell_type": "code",
      "execution_count": 11,
      "source": [
        "from operator import index\r\n",
        "# Question 1: \r\n",
        "# 1. Create a new DataFrame named \"df\" out of the following actual crime data from 2015:\r\n",
        "#    NOTE: There are many ways you can do this. for example:\r\n",
        "#          a. First add the data and headers to a dictionary and then build a DataFrame from the dictionary\r\n",
        "#          b. Create the DataFrame with column names, then set the index, then add the data row-by-row. \r\n",
        "#          Several others\r\n",
        "#    Choose any method you want that works. However, some valid techniques are much harder/easier than others. \r\n",
        "#    Try to think of the easiest way to accomplish this task\r\n",
        "\r\n",
        "# agency_code\tlocation\tpopulation\thomocides\tassaults\trobberies\r\n",
        "# UT01803\tSalt Lake City, UT\t191992\t8\t874\t469\r\n",
        "# TXSPD00\tSan Antonio, TX\t1463586\t94\t5465\t1986\r\n",
        "# CA03711\tSan Diego, CA\t1400467\t37\t3601\t1378\r\n",
        "# MOSPD00\tSt. Louis, MO\t317095\t188\t3521\t1790\r\n",
        "# NY05101\tSuffolk County, NY\t1341453\t24\t895\t677\r\n",
        "\r\n",
        "# 2. Set the agency_code as the index\r\n",
        "# 3. Output the first 2 records in the \"nice looking\" Pandas DataFrame format (i.e. not the default print() format)\r\n",
        "\r\n",
        "import pandas as pd\r\n",
        "df = pd.DataFrame(columns=['agency_code', 'location', 'population', 'homocides', 'assaults', 'robberies'])\r\n",
        "df.set_index('agency_code', inplace=True)\r\n",
        "\r\n",
        "df.loc['UT01803'] = [\"Salt Lake City, UT\",\t191992,\t8,\t874,\t469]\r\n",
        "df.loc['TXSPD00'] = [\"San Antonio, TX\",\t1463586,\t94,\t5465,\t1986]\r\n",
        "df.loc['CA03711'] = [\"San Diego, CA\",\t1400467,\t37,\t3601,\t1378]\r\n",
        "df.loc['MOSPD00'] = [\"St. Louis, MO\",\t317095,\t188,\t3521,\t1790]\r\n",
        "df.loc['NY05101'] = [\"Suffolk County, NY\",\t1341453,\t24,\t895,\t677]\r\n",
        "\r\n",
        "df"
      ],
      "outputs": [
        {
          "output_type": "execute_result",
          "data": {
            "text/plain": [
              "                       location population homocides assaults robberies\n",
              "agency_code                                                            \n",
              "UT01803      Salt Lake City, UT     191992         8      874       469\n",
              "TXSPD00         San Antonio, TX    1463586        94     5465      1986\n",
              "CA03711           San Diego, CA    1400467        37     3601      1378\n",
              "MOSPD00           St. Louis, MO     317095       188     3521      1790\n",
              "NY05101      Suffolk County, NY    1341453        24      895       677"
            ],
            "text/html": [
              "<div>\n",
              "<style scoped>\n",
              "    .dataframe tbody tr th:only-of-type {\n",
              "        vertical-align: middle;\n",
              "    }\n",
              "\n",
              "    .dataframe tbody tr th {\n",
              "        vertical-align: top;\n",
              "    }\n",
              "\n",
              "    .dataframe thead th {\n",
              "        text-align: right;\n",
              "    }\n",
              "</style>\n",
              "<table border=\"1\" class=\"dataframe\">\n",
              "  <thead>\n",
              "    <tr style=\"text-align: right;\">\n",
              "      <th></th>\n",
              "      <th>location</th>\n",
              "      <th>population</th>\n",
              "      <th>homocides</th>\n",
              "      <th>assaults</th>\n",
              "      <th>robberies</th>\n",
              "    </tr>\n",
              "    <tr>\n",
              "      <th>agency_code</th>\n",
              "      <th></th>\n",
              "      <th></th>\n",
              "      <th></th>\n",
              "      <th></th>\n",
              "      <th></th>\n",
              "    </tr>\n",
              "  </thead>\n",
              "  <tbody>\n",
              "    <tr>\n",
              "      <th>UT01803</th>\n",
              "      <td>Salt Lake City, UT</td>\n",
              "      <td>191992</td>\n",
              "      <td>8</td>\n",
              "      <td>874</td>\n",
              "      <td>469</td>\n",
              "    </tr>\n",
              "    <tr>\n",
              "      <th>TXSPD00</th>\n",
              "      <td>San Antonio, TX</td>\n",
              "      <td>1463586</td>\n",
              "      <td>94</td>\n",
              "      <td>5465</td>\n",
              "      <td>1986</td>\n",
              "    </tr>\n",
              "    <tr>\n",
              "      <th>CA03711</th>\n",
              "      <td>San Diego, CA</td>\n",
              "      <td>1400467</td>\n",
              "      <td>37</td>\n",
              "      <td>3601</td>\n",
              "      <td>1378</td>\n",
              "    </tr>\n",
              "    <tr>\n",
              "      <th>MOSPD00</th>\n",
              "      <td>St. Louis, MO</td>\n",
              "      <td>317095</td>\n",
              "      <td>188</td>\n",
              "      <td>3521</td>\n",
              "      <td>1790</td>\n",
              "    </tr>\n",
              "    <tr>\n",
              "      <th>NY05101</th>\n",
              "      <td>Suffolk County, NY</td>\n",
              "      <td>1341453</td>\n",
              "      <td>24</td>\n",
              "      <td>895</td>\n",
              "      <td>677</td>\n",
              "    </tr>\n",
              "  </tbody>\n",
              "</table>\n",
              "</div>"
            ]
          },
          "metadata": {},
          "execution_count": 11
        }
      ],
      "metadata": {
        "id": "D13FWREe912e",
        "colab": {
          "base_uri": "https://localhost:8080/",
          "height": 235
        },
        "outputId": "7bc5de56-fc46-419d-ebf0-662fff216d0c"
      }
    },
    {
      "cell_type": "code",
      "execution_count": 12,
      "source": [
        "# Question 2\r\n",
        "\r\n",
        "# 1. Print just the location column\r\n",
        "# 2. Print the entire row representing Salt Lake City's data using the .loc[] property\r\n",
        "# 3. Print each of the column names/headers one-at-a-time\r\n",
        "\r\n",
        "print(df.location)\r\n",
        "print('')\r\n",
        "print(df.loc['UT01803'])\r\n",
        "print('')\r\n",
        "for col in df:\r\n",
        "    print(str(col))\r\n"
      ],
      "outputs": [
        {
          "output_type": "stream",
          "name": "stdout",
          "text": [
            "agency_code\n",
            "UT01803    Salt Lake City, UT\n",
            "TXSPD00       San Antonio, TX\n",
            "CA03711         San Diego, CA\n",
            "MOSPD00         St. Louis, MO\n",
            "NY05101    Suffolk County, NY\n",
            "Name: location, dtype: object\n",
            "\n",
            "location      Salt Lake City, UT\n",
            "population                191992\n",
            "homocides                      8\n",
            "assaults                     874\n",
            "robberies                    469\n",
            "Name: UT01803, dtype: object\n",
            "\n",
            "location\n",
            "population\n",
            "homocides\n",
            "assaults\n",
            "robberies\n"
          ]
        }
      ],
      "metadata": {
        "id": "ZLL7ef2g-sSP",
        "colab": {
          "base_uri": "https://localhost:8080/"
        },
        "outputId": "7a83c786-3fd3-4df1-af35-c5076c450cf3"
      }
    },
    {
      "cell_type": "code",
      "execution_count": 13,
      "source": [
        "# Question 3\r\n",
        "\r\n",
        "# 1. Add a new record for:\r\n",
        "#       FL02902, Tampa, FL, 364383, 27, 2730, 733\r\n",
        "# 2. Create a new DataFrame that includes the homocides per capita for each location. Call the DataFrame \"df2\" and name the column \"homocides_per_capita\"\r\n",
        "#       This is calculated as (homocides / population) * 100000\r\n",
        "#       You can use a calculator to generate these numbers and hard-code them into a DataFrame\r\n",
        "# 3. Combine that new DataFrame with the prior existing DataFrame\r\n",
        "#       This could be done in multiple ways. Take your pick. The new DataFrame should still be called \"df\"\r\n",
        "# 4. Print the entire combined DataFrame in Pandas format (i.e. not using print())\r\n",
        "# \r\n",
        "# NOTE: an easier way to accomplish the same task would be to create a new, calculated column in the \r\n",
        "# existing DataFrame. But that is not what is being tested here. So perform the steps as described above.\r\n",
        "\r\n",
        "# 1. Add a new record for Florida's data\r\n",
        "df.loc['FL02902'] = [\"Tampa, FL\", 364383, 27, 2730,\t733]\r\n",
        "\r\n",
        "# 2. Create a new DataFrame that includes the homocides per capita for each location. Call the DataFrame \"df2\" and name the column \"homocides_per_capita\"\r\n",
        "df2 = pd.DataFrame(columns=['homocides_per_capita'])\r\n",
        "df2['homocides_per_capita'] = (df.homocides / df.population) * 100000\r\n",
        "\r\n",
        "#  3. Combine that new DataFrame with the prior existing DataFrame\r\n",
        "df = pd.merge(df, df2, how='left', on='agency_code')\r\n",
        "\r\n",
        "# 4. Print the entire combined DataFrame in Pandas format (i.e. not using print())\r\n",
        "df"
      ],
      "outputs": [
        {
          "output_type": "execute_result",
          "data": {
            "text/plain": [
              "                       location population homocides assaults robberies  \\\n",
              "agency_code                                                               \n",
              "UT01803      Salt Lake City, UT     191992         8      874       469   \n",
              "TXSPD00         San Antonio, TX    1463586        94     5465      1986   \n",
              "CA03711           San Diego, CA    1400467        37     3601      1378   \n",
              "MOSPD00           St. Louis, MO     317095       188     3521      1790   \n",
              "NY05101      Suffolk County, NY    1341453        24      895       677   \n",
              "FL02902               Tampa, FL     364383        27     2730       733   \n",
              "\n",
              "            homocides_per_capita  \n",
              "agency_code                       \n",
              "UT01803                  4.16684  \n",
              "TXSPD00                  6.42258  \n",
              "CA03711                  2.64198  \n",
              "MOSPD00                  59.2882  \n",
              "NY05101                   1.7891  \n",
              "FL02902                  7.40979  "
            ],
            "text/html": [
              "<div>\n",
              "<style scoped>\n",
              "    .dataframe tbody tr th:only-of-type {\n",
              "        vertical-align: middle;\n",
              "    }\n",
              "\n",
              "    .dataframe tbody tr th {\n",
              "        vertical-align: top;\n",
              "    }\n",
              "\n",
              "    .dataframe thead th {\n",
              "        text-align: right;\n",
              "    }\n",
              "</style>\n",
              "<table border=\"1\" class=\"dataframe\">\n",
              "  <thead>\n",
              "    <tr style=\"text-align: right;\">\n",
              "      <th></th>\n",
              "      <th>location</th>\n",
              "      <th>population</th>\n",
              "      <th>homocides</th>\n",
              "      <th>assaults</th>\n",
              "      <th>robberies</th>\n",
              "      <th>homocides_per_capita</th>\n",
              "    </tr>\n",
              "    <tr>\n",
              "      <th>agency_code</th>\n",
              "      <th></th>\n",
              "      <th></th>\n",
              "      <th></th>\n",
              "      <th></th>\n",
              "      <th></th>\n",
              "      <th></th>\n",
              "    </tr>\n",
              "  </thead>\n",
              "  <tbody>\n",
              "    <tr>\n",
              "      <th>UT01803</th>\n",
              "      <td>Salt Lake City, UT</td>\n",
              "      <td>191992</td>\n",
              "      <td>8</td>\n",
              "      <td>874</td>\n",
              "      <td>469</td>\n",
              "      <td>4.16684</td>\n",
              "    </tr>\n",
              "    <tr>\n",
              "      <th>TXSPD00</th>\n",
              "      <td>San Antonio, TX</td>\n",
              "      <td>1463586</td>\n",
              "      <td>94</td>\n",
              "      <td>5465</td>\n",
              "      <td>1986</td>\n",
              "      <td>6.42258</td>\n",
              "    </tr>\n",
              "    <tr>\n",
              "      <th>CA03711</th>\n",
              "      <td>San Diego, CA</td>\n",
              "      <td>1400467</td>\n",
              "      <td>37</td>\n",
              "      <td>3601</td>\n",
              "      <td>1378</td>\n",
              "      <td>2.64198</td>\n",
              "    </tr>\n",
              "    <tr>\n",
              "      <th>MOSPD00</th>\n",
              "      <td>St. Louis, MO</td>\n",
              "      <td>317095</td>\n",
              "      <td>188</td>\n",
              "      <td>3521</td>\n",
              "      <td>1790</td>\n",
              "      <td>59.2882</td>\n",
              "    </tr>\n",
              "    <tr>\n",
              "      <th>NY05101</th>\n",
              "      <td>Suffolk County, NY</td>\n",
              "      <td>1341453</td>\n",
              "      <td>24</td>\n",
              "      <td>895</td>\n",
              "      <td>677</td>\n",
              "      <td>1.7891</td>\n",
              "    </tr>\n",
              "    <tr>\n",
              "      <th>FL02902</th>\n",
              "      <td>Tampa, FL</td>\n",
              "      <td>364383</td>\n",
              "      <td>27</td>\n",
              "      <td>2730</td>\n",
              "      <td>733</td>\n",
              "      <td>7.40979</td>\n",
              "    </tr>\n",
              "  </tbody>\n",
              "</table>\n",
              "</div>"
            ]
          },
          "metadata": {},
          "execution_count": 13
        }
      ],
      "metadata": {
        "id": "srlPjktl-sZU",
        "colab": {
          "base_uri": "https://localhost:8080/"
        },
        "outputId": "5c831186-d5d3-4d3d-daba-68e664c6ce83"
      }
    },
    {
      "cell_type": "code",
      "execution_count": null,
      "source": [
        "# Question 4\r\n",
        "\r\n",
        "# 1. Create a new calculated field in \"df\" called \"total_crimes\"\r\n",
        "# 2. Fill this column with the sum of homocides, assaults, and robberies\r\n",
        "# 3. Print the last three records of the DataFrame without using the print() statement\r\n",
        "\r\n"
      ],
      "outputs": [],
      "metadata": {
        "id": "Q11g9w1kZ4G2",
        "outputId": "a7ec3f80-9ac6-4aa7-bbe6-ab0455df8396"
      }
    },
    {
      "cell_type": "code",
      "execution_count": null,
      "source": [
        "# Question 5\r\n",
        "\r\n",
        "# 1. Relabel any total_crimes value greater than, or equal to, 2,500 as 'high'\r\n",
        "# 2. Relabel any total_crimes value lower than 2,500 as 'low' (HINT: This is a bit tricky because the population column is converted to an object/string after relabeling values >= 1000000 to 'high'. But the solution is very simple.)\r\n",
        "# 3. Print out the middle 4 records of the DataFrame\r\n",
        "\r\n"
      ],
      "outputs": [],
      "metadata": {
        "id": "7ww9CrtuZ4G3",
        "outputId": "ba15d61c-2982-4477-98e4-1b23af879531"
      }
    },
    {
      "cell_type": "code",
      "execution_count": null,
      "source": [
        "# Question 6\r\n",
        "\r\n",
        "# 1. Iterate through the rows of df\r\n",
        "# 2. For every count of assualts and robberies, print it out along with the agency code and add an additional flag \"***\" if the count per capita ((count / population) * 100000) is greater than 500 for assaults or 250 for robberies.\r\n"
      ],
      "outputs": [],
      "metadata": {
        "id": "PsINgz1EZ4G3",
        "outputId": "10ee9071-e3fa-4140-8ba1-0483cc78bb57"
      }
    },
    {
      "cell_type": "code",
      "execution_count": null,
      "source": [
        "# Question 7\n",
        "\n",
        "# 1. Sort the DataFrame by homicides per capita from greatest to least on the original DataFrame (not a copy)\n",
        "# 2. Filter/reduce the DataFrame down to only those with more than 50 total homocides OR (not 'and') over 5000 assaults\n",
        "# 3. Print the DataFrame\n"
      ],
      "outputs": [],
      "metadata": {
        "id": "SICnW9i1-sdt",
        "colab": {
          "base_uri": "https://localhost:8080/"
        },
        "outputId": "65cb116a-e929-4065-fb05-04931f4d7b92"
      }
    },
    {
      "cell_type": "code",
      "execution_count": null,
      "source": [],
      "outputs": [],
      "metadata": {
        "id": "937hGVKLZ4G4"
      }
    }
  ]
}