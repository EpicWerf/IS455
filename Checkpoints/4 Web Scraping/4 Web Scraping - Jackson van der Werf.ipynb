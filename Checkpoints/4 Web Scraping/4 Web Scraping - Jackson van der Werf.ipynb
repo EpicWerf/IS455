{
 "cells": [
  {
   "cell_type": "markdown",
   "source": [
    "### READ ME\r\n",
    "\r\n",
    "Use the code blocks below to answer each quiz question. Only print the output required for each question. Do not edit the comments at the top of each code cell. Otherwise, the auto-grader may misinterpret your results. See Question 0 as an an example of how to complete a task (leave it in your notebook; don't delete it):"
   ],
   "metadata": {}
  },
  {
   "cell_type": "code",
   "execution_count": 8,
   "source": [
    "# Question 0: Create a DataFrame with three rows and four columns. Name the \r\n",
    "# columns 'Col1', 'Col2', 'Col3', 'Col4'. Create an index for the DataFrame\r\n",
    "# and give the rows the index values of 'Row1', 'Row2', 'Row3'. Place a value\r\n",
    "# in each column equal to the {ColumnName/RowName}. e.g. Col1/Row1. Print\r\n",
    "# the entire DataFrame.\r\n",
    "\r\n",
    "import pandas as pd\r\n",
    "\r\n",
    "df = pd.DataFrame(columns=['Col1', 'Col2', 'Col3', 'Col4'], index=['Row1', 'Row2', 'Row3'])\r\n",
    "\r\n",
    "for col in df:\r\n",
    "  for i, value in df[col].items():\r\n",
    "    df.at[i, col] = f'{i}/{col}'\r\n",
    "\r\n",
    "df"
   ],
   "outputs": [
    {
     "output_type": "execute_result",
     "data": {
      "text/html": [
       "<div>\n",
       "<style scoped>\n",
       "    .dataframe tbody tr th:only-of-type {\n",
       "        vertical-align: middle;\n",
       "    }\n",
       "\n",
       "    .dataframe tbody tr th {\n",
       "        vertical-align: top;\n",
       "    }\n",
       "\n",
       "    .dataframe thead th {\n",
       "        text-align: right;\n",
       "    }\n",
       "</style>\n",
       "<table border=\"1\" class=\"dataframe\">\n",
       "  <thead>\n",
       "    <tr style=\"text-align: right;\">\n",
       "      <th></th>\n",
       "      <th>Col1</th>\n",
       "      <th>Col2</th>\n",
       "      <th>Col3</th>\n",
       "      <th>Col4</th>\n",
       "    </tr>\n",
       "  </thead>\n",
       "  <tbody>\n",
       "    <tr>\n",
       "      <th>Row1</th>\n",
       "      <td>Row1/Col1</td>\n",
       "      <td>Row1/Col2</td>\n",
       "      <td>Row1/Col3</td>\n",
       "      <td>Row1/Col4</td>\n",
       "    </tr>\n",
       "    <tr>\n",
       "      <th>Row2</th>\n",
       "      <td>Row2/Col1</td>\n",
       "      <td>Row2/Col2</td>\n",
       "      <td>Row2/Col3</td>\n",
       "      <td>Row2/Col4</td>\n",
       "    </tr>\n",
       "    <tr>\n",
       "      <th>Row3</th>\n",
       "      <td>Row3/Col1</td>\n",
       "      <td>Row3/Col2</td>\n",
       "      <td>Row3/Col3</td>\n",
       "      <td>Row3/Col4</td>\n",
       "    </tr>\n",
       "  </tbody>\n",
       "</table>\n",
       "</div>"
      ],
      "text/plain": [
       "           Col1       Col2       Col3       Col4\n",
       "Row1  Row1/Col1  Row1/Col2  Row1/Col3  Row1/Col4\n",
       "Row2  Row2/Col1  Row2/Col2  Row2/Col3  Row2/Col4\n",
       "Row3  Row3/Col1  Row3/Col2  Row3/Col3  Row3/Col4"
      ]
     },
     "metadata": {},
     "execution_count": 8
    }
   ],
   "metadata": {}
  },
  {
   "cell_type": "code",
   "execution_count": 9,
   "source": [
    "# Question 1: \r\n",
    "\r\n",
    "# Write Python code using the requests and BeautifulSoup package to scrape http://quotes.toscrape.com/\r\n",
    "# Begin by requesting the home page\r\n",
    "\r\n",
    "import requests\r\n",
    "url = 'http://quotes.toscrape.com/'\r\n",
    "req = requests.get(url)\r\n"
   ],
   "outputs": [],
   "metadata": {}
  },
  {
   "cell_type": "code",
   "execution_count": 19,
   "source": [
    "# Question 2:\r\n",
    "\r\n",
    "# Create a session and login to the website using the following credentials:\r\n",
    "#   username: [your first name]\r\n",
    "#   password: checkpoint\r\n",
    "# Print the csrf middleware token assigned during this login\r\n",
    "from bs4 import BeautifulSoup\r\n",
    "\r\n",
    "#set up the login page as the session\r\n",
    "url_login = \"http://quotes.toscrape.com/login\"\r\n",
    "page = requests.session().get(url_login)\r\n",
    "\r\n",
    "#turn the login page into a soup object\r\n",
    "soup = BeautifulSoup(page.text, \"html.parser\")\r\n",
    "\r\n",
    "#extract the csrf token from the login page\r\n",
    "csrf = soup.findAll(\"input\", {\"name\": \"csrf_token\"})[0]['value']\r\n",
    "print(csrf)\r\n",
    "\r\n",
    "#set up the payload using credentials and csrf token\r\n",
    "payload = {\r\n",
    "    \"username\": \"Jackson\", \r\n",
    "    \"password\": \"checkpoint\", \r\n",
    "    \"csrf_token\": csrf\r\n",
    "}\r\n",
    "\r\n",
    "################# this isn't actually logging in #####################\r\n",
    "#login to the webpage\r\n",
    "page = requests.session().post(\r\n",
    "    url_login, \r\n",
    "    data = payload, \r\n",
    "    headers = dict(referer=url_login)\r\n",
    ")\r\n",
    "\r\n",
    "print(page.text)"
   ],
   "outputs": [
    {
     "output_type": "stream",
     "name": "stdout",
     "text": [
      "RLpdeXOmrIjBkETiWyQqcUswuKzPYoHJflMvgtNFDCZbhanAxSVG\n",
      "<!DOCTYPE html>\n",
      "<html lang=\"en\">\n",
      "<head>\n",
      "\t<meta charset=\"UTF-8\">\n",
      "\t<title>Quotes to Scrape</title>\n",
      "    <link rel=\"stylesheet\" href=\"/static/bootstrap.min.css\">\n",
      "    <link rel=\"stylesheet\" href=\"/static/main.css\">\n",
      "</head>\n",
      "<body>\n",
      "    <div class=\"container\">\n",
      "        <div class=\"row header-box\">\n",
      "            <div class=\"col-md-8\">\n",
      "                <h1>\n",
      "                    <a href=\"/\" style=\"text-decoration: none\">Quotes to Scrape</a>\n",
      "                </h1>\n",
      "            </div>\n",
      "            <div class=\"col-md-4\">\n",
      "                <p>\n",
      "                \n",
      "                    <a href=\"/login\">Login</a>\n",
      "                \n",
      "                </p>\n",
      "            </div>\n",
      "        </div>\n",
      "    \n",
      "<body>\n",
      "    <form action=\"/login\" method=\"post\" accept-charset=\"utf-8\" >\n",
      "        <input type=\"hidden\" name=\"csrf_token\" value=\"jtNflLKvuWxXOeAUBTbZamsVrSEHihRFMYpJyDcInzgwoqGQkdCP\"/>\n",
      "        <div class=\"row\">\n",
      "            <div class=\"form-group col-xs-3\">\n",
      "                <label for=\"username\">Username</label>\n",
      "                <input type=\"text\" class=\"form-control\" id=\"username\" name=\"username\" />\n",
      "            </div>\n",
      "        </div>\n",
      "        <div class=\"row\">\n",
      "            <div class=\"form-group col-xs-3\">\n",
      "                <label for=\"username\">Password</label>\n",
      "                <input type=\"password\" class=\"form-control\" id=\"password\" name=\"password\" />\n",
      "            </div>\n",
      "        </div>\n",
      "        <input type=\"submit\" value=\"Login\" class=\"btn btn-primary\" />\n",
      "        \n",
      "        <p class=\"error\">Error while logging in: invalid CRSF token.</p>\n",
      "        \n",
      "    </form>\n",
      "</body>\n",
      "\n",
      "    </div>\n",
      "    <footer class=\"footer\">\n",
      "        <div class=\"container\">\n",
      "            <p class=\"text-muted\">\n",
      "                Quotes by: <a href=\"https://www.goodreads.com/quotes\">GoodReads.com</a>\n",
      "            </p>\n",
      "            <p class=\"copyright\">\n",
      "                Made with <span class='sh-red'>❤</span> by <a href=\"https://scrapinghub.com\">Scrapinghub</a>\n",
      "            </p>\n",
      "        </div>\n",
      "    </footer>\n",
      "</body>\n",
      "</html>\n"
     ]
    }
   ],
   "metadata": {}
  },
  {
   "cell_type": "code",
   "execution_count": null,
   "source": [
    "# Question 3:\r\n",
    "\r\n",
    "# Print the headers dictionary from your login request\r\n"
   ],
   "outputs": [],
   "metadata": {}
  },
  {
   "cell_type": "code",
   "execution_count": null,
   "source": [
    "# Question 4:\r\n",
    "\r\n",
    "# Create a loop that will scrape the first 10 pages of quotes into a DataFrame\r\n",
    "# Include the Quote, Author Name, Birthdate (see \"about\" page of each author), Birth Location, and Tags as columns\r\n",
    "#   Since there are a variable number of tags, you can store all of them as a list object in the Tags column\r\n",
    "# Sort the DataFrame by Birth Location descending\r\n",
    "# Print the first five rows of the resulting DataFrame\r\n",
    " \r\n"
   ],
   "outputs": [],
   "metadata": {}
  },
  {
   "cell_type": "code",
   "execution_count": null,
   "source": [
    "# Question 5:\r\n",
    "\r\n",
    "# Print the value_counts() of the Author Name column\r\n",
    "\r\n"
   ],
   "outputs": [],
   "metadata": {}
  }
 ],
 "metadata": {
  "orig_nbformat": 4,
  "language_info": {
   "name": "python",
   "version": "3.8.5",
   "mimetype": "text/x-python",
   "codemirror_mode": {
    "name": "ipython",
    "version": 3
   },
   "pygments_lexer": "ipython3",
   "nbconvert_exporter": "python",
   "file_extension": ".py"
  },
  "kernelspec": {
   "name": "python3",
   "display_name": "Python 3.8.5 64-bit"
  },
  "interpreter": {
   "hash": "f8ec8e2802e9ec64c1de1126b52a3a3eba2bbbc7f0465a520b33d3486dfa46c4"
  }
 },
 "nbformat": 4,
 "nbformat_minor": 2
}