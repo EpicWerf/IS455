{
 "cells": [
  {
   "cell_type": "markdown",
   "source": [
    "### READ ME\r\n",
    "\r\n",
    "Use the code blocks below to answer each quiz question. Only print the output required for each question. Do not edit the comments at the top of each code cell. Otherwise, the auto-grader may misinterpret your results. See Question 0 as an an example of how to complete a task (leave it in your notebook; don't delete it):"
   ],
   "metadata": {}
  },
  {
   "cell_type": "code",
   "execution_count": 1,
   "source": [
    "# Question 0: Create a DataFrame with three rows and four columns. Name the \r\n",
    "# columns 'Col1', 'Col2', 'Col3', 'Col4'. Create an index for the DataFrame\r\n",
    "# and give the rows the index values of 'Row1', 'Row2', 'Row3'. Place a value\r\n",
    "# in each column equal to the {ColumnName/RowName}. e.g. Col1/Row1. Print\r\n",
    "# the entire DataFrame.\r\n",
    "\r\n",
    "import pandas as pd\r\n",
    "\r\n",
    "df = pd.DataFrame(columns=['Col1', 'Col2', 'Col3', 'Col4'], index=['Row1', 'Row2', 'Row3'])\r\n",
    "\r\n",
    "for col in df:\r\n",
    "  for i, value in df[col].items():\r\n",
    "    df.at[i, col] = f'{i}/{col}'\r\n",
    "\r\n",
    "df"
   ],
   "outputs": [
    {
     "output_type": "execute_result",
     "data": {
      "text/html": [
       "<div>\n",
       "<style scoped>\n",
       "    .dataframe tbody tr th:only-of-type {\n",
       "        vertical-align: middle;\n",
       "    }\n",
       "\n",
       "    .dataframe tbody tr th {\n",
       "        vertical-align: top;\n",
       "    }\n",
       "\n",
       "    .dataframe thead th {\n",
       "        text-align: right;\n",
       "    }\n",
       "</style>\n",
       "<table border=\"1\" class=\"dataframe\">\n",
       "  <thead>\n",
       "    <tr style=\"text-align: right;\">\n",
       "      <th></th>\n",
       "      <th>Col1</th>\n",
       "      <th>Col2</th>\n",
       "      <th>Col3</th>\n",
       "      <th>Col4</th>\n",
       "    </tr>\n",
       "  </thead>\n",
       "  <tbody>\n",
       "    <tr>\n",
       "      <th>Row1</th>\n",
       "      <td>Row1/Col1</td>\n",
       "      <td>Row1/Col2</td>\n",
       "      <td>Row1/Col3</td>\n",
       "      <td>Row1/Col4</td>\n",
       "    </tr>\n",
       "    <tr>\n",
       "      <th>Row2</th>\n",
       "      <td>Row2/Col1</td>\n",
       "      <td>Row2/Col2</td>\n",
       "      <td>Row2/Col3</td>\n",
       "      <td>Row2/Col4</td>\n",
       "    </tr>\n",
       "    <tr>\n",
       "      <th>Row3</th>\n",
       "      <td>Row3/Col1</td>\n",
       "      <td>Row3/Col2</td>\n",
       "      <td>Row3/Col3</td>\n",
       "      <td>Row3/Col4</td>\n",
       "    </tr>\n",
       "  </tbody>\n",
       "</table>\n",
       "</div>"
      ],
      "text/plain": [
       "           Col1       Col2       Col3       Col4\n",
       "Row1  Row1/Col1  Row1/Col2  Row1/Col3  Row1/Col4\n",
       "Row2  Row2/Col1  Row2/Col2  Row2/Col3  Row2/Col4\n",
       "Row3  Row3/Col1  Row3/Col2  Row3/Col3  Row3/Col4"
      ]
     },
     "metadata": {},
     "execution_count": 1
    }
   ],
   "metadata": {}
  },
  {
   "cell_type": "code",
   "execution_count": 11,
   "source": [
    "# Question 1: \r\n",
    "\r\n",
    "# Read each dataset into its own DataFrame; e.g. df_projects, df_resources, df_schools, etc.\r\n",
    "# NOTE: donors.db contains a single table called \"donors\"\r\n",
    "# print the columns found in each DataFrame in any order you want\r\n",
    "\r\n",
    "import pandas as pd\r\n",
    "import pyodbc\r\n",
    "import sqlite3\r\n",
    "\r\n",
    "#donors\r\n",
    "conn = sqlite3.connect('donors.db')\r\n",
    "df_donors = pd.read_sql(sql=\"SELECT * FROM donors\", con=conn)\r\n",
    "print('donors')\r\n",
    "print(df_donors.columns)\r\n",
    "print('___________________________________')\r\n",
    "\r\n",
    "#donations\r\n",
    "df_donations = pd.read_json('donations.json')\r\n",
    "print('donations')\r\n",
    "print(df_donations.columns)\r\n",
    "print('___________________________________')\r\n",
    "\r\n",
    "#insurance\r\n",
    "df_insurance = pd.read_csv('insurance.csv')\r\n",
    "print('insurance')\r\n",
    "print(df_insurance.columns)\r\n",
    "print('___________________________________')\r\n",
    "\r\n",
    "#projects\r\n",
    "df_projects = pd.read_csv('projects.csv')\r\n",
    "print('projects')\r\n",
    "print(df_projects.columns)\r\n",
    "print('___________________________________')\r\n",
    "\r\n",
    "#resources\r\n",
    "df_resources = pd.read_csv('resources.csv')\r\n",
    "print('resources')\r\n",
    "print(df_resources.columns)\r\n",
    "print('___________________________________')\r\n",
    "\r\n",
    "#schools\r\n",
    "df_schools = pd.read_csv('schools.csv')\r\n",
    "print('schools')\r\n",
    "print(df_schools.columns)\r\n",
    "print('___________________________________')\r\n",
    "\r\n",
    "#teachers\r\n",
    "df_teachers = pd.read_csv('teachers.csv')\r\n",
    "print('teachers')\r\n",
    "print(df_teachers.columns)\r\n",
    "print('___________________________________')"
   ],
   "outputs": [
    {
     "output_type": "stream",
     "name": "stdout",
     "text": [
      "donors\n",
      "Index(['Donor ID', 'Donor City', 'Donor State', 'Donor Is Teacher'], dtype='object')\n",
      "___________________________________\n",
      "donations\n",
      "Index(['Project ID', 'Donation ID', 'Donor ID',\n",
      "       'Donation Included Optional Donation', 'Donation Amount',\n",
      "       'Donor Cart Sequence', 'Donation Received Date'],\n",
      "      dtype='object')\n",
      "___________________________________\n",
      "insurance\n",
      "Index(['age', 'sex', 'bmi', 'children', 'smoker', 'region', 'charges'], dtype='object')\n",
      "___________________________________\n",
      "projects\n",
      "Index(['Project ID', 'School ID', 'Teacher ID',\n",
      "       'Teacher Project Posted Sequence', 'Project Type', 'Project Title',\n",
      "       'Project Essay', 'Project Short Description', 'Project Need Statement',\n",
      "       'Project Subject Category Tree', 'Project Subject Subcategory Tree',\n",
      "       'Project Grade Level Category', 'Project Resource Category',\n",
      "       'Project Cost', 'Year', 'Month', 'Weekday', 'Project Current Status',\n",
      "       'Days to Funded', 'Days Live'],\n",
      "      dtype='object')\n",
      "___________________________________\n",
      "resources\n",
      "Index(['Project ID', 'Resource Item Name', 'Resource Quantity',\n",
      "       'Resource Unit Price', 'Resource Vendor Name'],\n",
      "      dtype='object')\n",
      "___________________________________\n",
      "schools\n",
      "Index(['School ID', 'School Name', 'School Metro Type',\n",
      "       'School Percentage Free Lunch', 'School State', 'School Zip',\n",
      "       'School City', 'School County', 'School District'],\n",
      "      dtype='object')\n",
      "___________________________________\n",
      "teachers\n",
      "Index(['Teacher ID', 'Teacher Prefix', 'Teacher First Project Posted Date'], dtype='object')\n",
      "___________________________________\n"
     ]
    }
   ],
   "metadata": {}
  },
  {
   "cell_type": "code",
   "execution_count": 3,
   "source": [
    "# Question 2: \r\n",
    "\r\n",
    "# Merge the six DataFrames into a single DataFrame called df\r\n",
    "# Infer the primary key/foreign key relationships based on connecting matching column ID names\r\n",
    "# Print the complete column list of df\r\n",
    "# Print the first five records\r\n",
    "\r\n",
    "\r\n"
   ],
   "outputs": [],
   "metadata": {}
  },
  {
   "cell_type": "code",
   "execution_count": 4,
   "source": [
    "# Question 3:\r\n",
    "\r\n",
    "# Print the number of rows in this new DataFrame df\r\n"
   ],
   "outputs": [
    {
     "output_type": "stream",
     "name": "stdout",
     "text": [
      "3\n"
     ]
    }
   ],
   "metadata": {}
  },
  {
   "cell_type": "code",
   "execution_count": 5,
   "source": [
    "# Question 4:\r\n",
    "\r\n",
    "# Filter out all records that are not in Utah County. In other words, only Utah County records should remain in the DataFrame df\r\n",
    "# Print the number of rows in this reduced DataFrame\r\n",
    "\r\n"
   ],
   "outputs": [],
   "metadata": {}
  },
  {
   "cell_type": "code",
   "execution_count": 6,
   "source": [
    "# Question 5:\r\n",
    "\r\n",
    "# Print the average donation value from this reduced dataset\r\n",
    "\r\n",
    "\r\n"
   ],
   "outputs": [],
   "metadata": {}
  },
  {
   "cell_type": "code",
   "execution_count": 7,
   "source": [
    "# Question 6:\r\n",
    "\r\n",
    "# Print the median donation value from this reduced dataset\r\n",
    "\r\n"
   ],
   "outputs": [],
   "metadata": {}
  },
  {
   "cell_type": "code",
   "execution_count": 8,
   "source": [
    "# Question 7:\r\n",
    "\r\n",
    "# Print the donation value skewness from this reduced dataset\r\n",
    "\r\n"
   ],
   "outputs": [],
   "metadata": {}
  },
  {
   "cell_type": "code",
   "execution_count": 9,
   "source": [
    "# Question 8:\r\n",
    "\r\n",
    "# Store df in a new sqlite db called donors_choose.db using the table name donors_choose\r\n",
    "\r\n"
   ],
   "outputs": [],
   "metadata": {}
  },
  {
   "cell_type": "code",
   "execution_count": null,
   "source": [],
   "outputs": [],
   "metadata": {}
  }
 ],
 "metadata": {
  "orig_nbformat": 4,
  "language_info": {
   "name": "python",
   "version": "3.8.5",
   "mimetype": "text/x-python",
   "codemirror_mode": {
    "name": "ipython",
    "version": 3
   },
   "pygments_lexer": "ipython3",
   "nbconvert_exporter": "python",
   "file_extension": ".py"
  },
  "kernelspec": {
   "name": "python3",
   "display_name": "Python 3.8.5 64-bit"
  },
  "interpreter": {
   "hash": "f8ec8e2802e9ec64c1de1126b52a3a3eba2bbbc7f0465a520b33d3486dfa46c4"
  }
 },
 "nbformat": 4,
 "nbformat_minor": 2
}