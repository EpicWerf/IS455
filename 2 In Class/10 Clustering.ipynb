{
 "cells": [
  {
   "cell_type": "markdown",
   "metadata": {},
   "source": [
    "## Junior Core Personality Data Set"
   ]
  },
  {
   "cell_type": "code",
   "execution_count": 1,
   "metadata": {},
   "outputs": [
    {
     "data": {
      "text/html": [
       "<div>\n",
       "<style scoped>\n",
       "    .dataframe tbody tr th:only-of-type {\n",
       "        vertical-align: middle;\n",
       "    }\n",
       "\n",
       "    .dataframe tbody tr th {\n",
       "        vertical-align: top;\n",
       "    }\n",
       "\n",
       "    .dataframe thead th {\n",
       "        text-align: right;\n",
       "    }\n",
       "</style>\n",
       "<table border=\"1\" class=\"dataframe\">\n",
       "  <thead>\n",
       "    <tr style=\"text-align: right;\">\n",
       "      <th></th>\n",
       "      <th>AGR1</th>\n",
       "      <th>AGR2</th>\n",
       "      <th>AGR3</th>\n",
       "      <th>AGR4</th>\n",
       "      <th>AGR5</th>\n",
       "      <th>CON1</th>\n",
       "      <th>CON2</th>\n",
       "      <th>CON3</th>\n",
       "      <th>CON4</th>\n",
       "      <th>CON5</th>\n",
       "      <th>...</th>\n",
       "      <th>CON</th>\n",
       "      <th>EXT</th>\n",
       "      <th>INT</th>\n",
       "      <th>NEU</th>\n",
       "      <th>IDV</th>\n",
       "      <th>IVR</th>\n",
       "      <th>LTO</th>\n",
       "      <th>MAS</th>\n",
       "      <th>PD</th>\n",
       "      <th>UAI</th>\n",
       "    </tr>\n",
       "  </thead>\n",
       "  <tbody>\n",
       "    <tr>\n",
       "      <th>0</th>\n",
       "      <td>5</td>\n",
       "      <td>5</td>\n",
       "      <td>7</td>\n",
       "      <td>5</td>\n",
       "      <td>5</td>\n",
       "      <td>7</td>\n",
       "      <td>5</td>\n",
       "      <td>7</td>\n",
       "      <td>7</td>\n",
       "      <td>5</td>\n",
       "      <td>...</td>\n",
       "      <td>6.2</td>\n",
       "      <td>5.0</td>\n",
       "      <td>5.6</td>\n",
       "      <td>3.8</td>\n",
       "      <td>4.75</td>\n",
       "      <td>3.50</td>\n",
       "      <td>4.75</td>\n",
       "      <td>4.00</td>\n",
       "      <td>4.50</td>\n",
       "      <td>3.00</td>\n",
       "    </tr>\n",
       "    <tr>\n",
       "      <th>1</th>\n",
       "      <td>4</td>\n",
       "      <td>5</td>\n",
       "      <td>7</td>\n",
       "      <td>5</td>\n",
       "      <td>3</td>\n",
       "      <td>7</td>\n",
       "      <td>5</td>\n",
       "      <td>5</td>\n",
       "      <td>5</td>\n",
       "      <td>3</td>\n",
       "      <td>...</td>\n",
       "      <td>5.0</td>\n",
       "      <td>5.2</td>\n",
       "      <td>5.0</td>\n",
       "      <td>6.4</td>\n",
       "      <td>4.50</td>\n",
       "      <td>3.75</td>\n",
       "      <td>3.75</td>\n",
       "      <td>3.25</td>\n",
       "      <td>4.75</td>\n",
       "      <td>3.00</td>\n",
       "    </tr>\n",
       "    <tr>\n",
       "      <th>2</th>\n",
       "      <td>5</td>\n",
       "      <td>5</td>\n",
       "      <td>7</td>\n",
       "      <td>5</td>\n",
       "      <td>7</td>\n",
       "      <td>5</td>\n",
       "      <td>7</td>\n",
       "      <td>5</td>\n",
       "      <td>7</td>\n",
       "      <td>4</td>\n",
       "      <td>...</td>\n",
       "      <td>5.6</td>\n",
       "      <td>5.2</td>\n",
       "      <td>5.6</td>\n",
       "      <td>5.4</td>\n",
       "      <td>5.00</td>\n",
       "      <td>3.25</td>\n",
       "      <td>4.00</td>\n",
       "      <td>4.50</td>\n",
       "      <td>4.25</td>\n",
       "      <td>2.75</td>\n",
       "    </tr>\n",
       "    <tr>\n",
       "      <th>3</th>\n",
       "      <td>7</td>\n",
       "      <td>5</td>\n",
       "      <td>5</td>\n",
       "      <td>5</td>\n",
       "      <td>5</td>\n",
       "      <td>7</td>\n",
       "      <td>7</td>\n",
       "      <td>7</td>\n",
       "      <td>7</td>\n",
       "      <td>5</td>\n",
       "      <td>...</td>\n",
       "      <td>6.6</td>\n",
       "      <td>5.2</td>\n",
       "      <td>5.8</td>\n",
       "      <td>5.0</td>\n",
       "      <td>4.25</td>\n",
       "      <td>3.75</td>\n",
       "      <td>5.75</td>\n",
       "      <td>4.25</td>\n",
       "      <td>4.00</td>\n",
       "      <td>3.00</td>\n",
       "    </tr>\n",
       "    <tr>\n",
       "      <th>4</th>\n",
       "      <td>7</td>\n",
       "      <td>5</td>\n",
       "      <td>7</td>\n",
       "      <td>7</td>\n",
       "      <td>5</td>\n",
       "      <td>5</td>\n",
       "      <td>4</td>\n",
       "      <td>7</td>\n",
       "      <td>5</td>\n",
       "      <td>4</td>\n",
       "      <td>...</td>\n",
       "      <td>5.0</td>\n",
       "      <td>2.8</td>\n",
       "      <td>5.0</td>\n",
       "      <td>4.4</td>\n",
       "      <td>5.00</td>\n",
       "      <td>4.25</td>\n",
       "      <td>4.50</td>\n",
       "      <td>3.75</td>\n",
       "      <td>3.25</td>\n",
       "      <td>3.00</td>\n",
       "    </tr>\n",
       "    <tr>\n",
       "      <th>...</th>\n",
       "      <td>...</td>\n",
       "      <td>...</td>\n",
       "      <td>...</td>\n",
       "      <td>...</td>\n",
       "      <td>...</td>\n",
       "      <td>...</td>\n",
       "      <td>...</td>\n",
       "      <td>...</td>\n",
       "      <td>...</td>\n",
       "      <td>...</td>\n",
       "      <td>...</td>\n",
       "      <td>...</td>\n",
       "      <td>...</td>\n",
       "      <td>...</td>\n",
       "      <td>...</td>\n",
       "      <td>...</td>\n",
       "      <td>...</td>\n",
       "      <td>...</td>\n",
       "      <td>...</td>\n",
       "      <td>...</td>\n",
       "      <td>...</td>\n",
       "    </tr>\n",
       "    <tr>\n",
       "      <th>211</th>\n",
       "      <td>7</td>\n",
       "      <td>7</td>\n",
       "      <td>7</td>\n",
       "      <td>7</td>\n",
       "      <td>7</td>\n",
       "      <td>5</td>\n",
       "      <td>7</td>\n",
       "      <td>5</td>\n",
       "      <td>5</td>\n",
       "      <td>4</td>\n",
       "      <td>...</td>\n",
       "      <td>5.2</td>\n",
       "      <td>5.2</td>\n",
       "      <td>5.0</td>\n",
       "      <td>4.8</td>\n",
       "      <td>5.50</td>\n",
       "      <td>4.25</td>\n",
       "      <td>3.50</td>\n",
       "      <td>4.25</td>\n",
       "      <td>3.25</td>\n",
       "      <td>2.75</td>\n",
       "    </tr>\n",
       "    <tr>\n",
       "      <th>212</th>\n",
       "      <td>5</td>\n",
       "      <td>5</td>\n",
       "      <td>7</td>\n",
       "      <td>5</td>\n",
       "      <td>5</td>\n",
       "      <td>4</td>\n",
       "      <td>4</td>\n",
       "      <td>4</td>\n",
       "      <td>4</td>\n",
       "      <td>4</td>\n",
       "      <td>...</td>\n",
       "      <td>4.0</td>\n",
       "      <td>3.6</td>\n",
       "      <td>3.8</td>\n",
       "      <td>3.6</td>\n",
       "      <td>4.25</td>\n",
       "      <td>4.50</td>\n",
       "      <td>3.50</td>\n",
       "      <td>3.50</td>\n",
       "      <td>3.75</td>\n",
       "      <td>4.25</td>\n",
       "    </tr>\n",
       "    <tr>\n",
       "      <th>213</th>\n",
       "      <td>1</td>\n",
       "      <td>5</td>\n",
       "      <td>7</td>\n",
       "      <td>5</td>\n",
       "      <td>5</td>\n",
       "      <td>4</td>\n",
       "      <td>3</td>\n",
       "      <td>5</td>\n",
       "      <td>4</td>\n",
       "      <td>5</td>\n",
       "      <td>...</td>\n",
       "      <td>4.2</td>\n",
       "      <td>3.8</td>\n",
       "      <td>3.4</td>\n",
       "      <td>3.0</td>\n",
       "      <td>4.50</td>\n",
       "      <td>4.25</td>\n",
       "      <td>3.75</td>\n",
       "      <td>4.00</td>\n",
       "      <td>4.00</td>\n",
       "      <td>3.50</td>\n",
       "    </tr>\n",
       "    <tr>\n",
       "      <th>214</th>\n",
       "      <td>5</td>\n",
       "      <td>5</td>\n",
       "      <td>7</td>\n",
       "      <td>7</td>\n",
       "      <td>5</td>\n",
       "      <td>5</td>\n",
       "      <td>5</td>\n",
       "      <td>7</td>\n",
       "      <td>5</td>\n",
       "      <td>7</td>\n",
       "      <td>...</td>\n",
       "      <td>5.8</td>\n",
       "      <td>3.6</td>\n",
       "      <td>7.0</td>\n",
       "      <td>4.4</td>\n",
       "      <td>5.00</td>\n",
       "      <td>4.25</td>\n",
       "      <td>5.00</td>\n",
       "      <td>3.25</td>\n",
       "      <td>4.00</td>\n",
       "      <td>2.50</td>\n",
       "    </tr>\n",
       "    <tr>\n",
       "      <th>215</th>\n",
       "      <td>7</td>\n",
       "      <td>5</td>\n",
       "      <td>5</td>\n",
       "      <td>5</td>\n",
       "      <td>5</td>\n",
       "      <td>5</td>\n",
       "      <td>7</td>\n",
       "      <td>7</td>\n",
       "      <td>7</td>\n",
       "      <td>5</td>\n",
       "      <td>...</td>\n",
       "      <td>6.2</td>\n",
       "      <td>4.0</td>\n",
       "      <td>4.4</td>\n",
       "      <td>3.8</td>\n",
       "      <td>5.25</td>\n",
       "      <td>4.50</td>\n",
       "      <td>4.00</td>\n",
       "      <td>4.00</td>\n",
       "      <td>4.25</td>\n",
       "      <td>2.75</td>\n",
       "    </tr>\n",
       "  </tbody>\n",
       "</table>\n",
       "<p>216 rows × 60 columns</p>\n",
       "</div>"
      ],
      "text/plain": [
       "     AGR1  AGR2  AGR3  AGR4  AGR5  CON1  CON2  CON3  CON4  CON5  ...  CON  \\\n",
       "0       5     5     7     5     5     7     5     7     7     5  ...  6.2   \n",
       "1       4     5     7     5     3     7     5     5     5     3  ...  5.0   \n",
       "2       5     5     7     5     7     5     7     5     7     4  ...  5.6   \n",
       "3       7     5     5     5     5     7     7     7     7     5  ...  6.6   \n",
       "4       7     5     7     7     5     5     4     7     5     4  ...  5.0   \n",
       "..    ...   ...   ...   ...   ...   ...   ...   ...   ...   ...  ...  ...   \n",
       "211     7     7     7     7     7     5     7     5     5     4  ...  5.2   \n",
       "212     5     5     7     5     5     4     4     4     4     4  ...  4.0   \n",
       "213     1     5     7     5     5     4     3     5     4     5  ...  4.2   \n",
       "214     5     5     7     7     5     5     5     7     5     7  ...  5.8   \n",
       "215     7     5     5     5     5     5     7     7     7     5  ...  6.2   \n",
       "\n",
       "     EXT  INT  NEU   IDV   IVR   LTO   MAS    PD   UAI  \n",
       "0    5.0  5.6  3.8  4.75  3.50  4.75  4.00  4.50  3.00  \n",
       "1    5.2  5.0  6.4  4.50  3.75  3.75  3.25  4.75  3.00  \n",
       "2    5.2  5.6  5.4  5.00  3.25  4.00  4.50  4.25  2.75  \n",
       "3    5.2  5.8  5.0  4.25  3.75  5.75  4.25  4.00  3.00  \n",
       "4    2.8  5.0  4.4  5.00  4.25  4.50  3.75  3.25  3.00  \n",
       "..   ...  ...  ...   ...   ...   ...   ...   ...   ...  \n",
       "211  5.2  5.0  4.8  5.50  4.25  3.50  4.25  3.25  2.75  \n",
       "212  3.6  3.8  3.6  4.25  4.50  3.50  3.50  3.75  4.25  \n",
       "213  3.8  3.4  3.0  4.50  4.25  3.75  4.00  4.00  3.50  \n",
       "214  3.6  7.0  4.4  5.00  4.25  5.00  3.25  4.00  2.50  \n",
       "215  4.0  4.4  3.8  5.25  4.50  4.00  4.00  4.25  2.75  \n",
       "\n",
       "[216 rows x 60 columns]"
      ]
     },
     "execution_count": 1,
     "metadata": {},
     "output_type": "execute_result"
    }
   ],
   "source": [
    "import pandas as pd\n",
    "\n",
    "df = pd.read_csv('personality.csv')\n",
    "\n",
    "df"
   ]
  },
  {
   "cell_type": "code",
   "execution_count": 2,
   "metadata": {},
   "outputs": [
    {
     "data": {
      "text/html": [
       "<div>\n",
       "<style scoped>\n",
       "    .dataframe tbody tr th:only-of-type {\n",
       "        vertical-align: middle;\n",
       "    }\n",
       "\n",
       "    .dataframe tbody tr th {\n",
       "        vertical-align: top;\n",
       "    }\n",
       "\n",
       "    .dataframe thead th {\n",
       "        text-align: right;\n",
       "    }\n",
       "</style>\n",
       "<table border=\"1\" class=\"dataframe\">\n",
       "  <thead>\n",
       "    <tr style=\"text-align: right;\">\n",
       "      <th></th>\n",
       "      <th>AGR</th>\n",
       "      <th>CON</th>\n",
       "      <th>EXT</th>\n",
       "      <th>INT</th>\n",
       "      <th>NEU</th>\n",
       "      <th>IDV</th>\n",
       "      <th>IVR</th>\n",
       "      <th>LTO</th>\n",
       "      <th>MAS</th>\n",
       "      <th>PD</th>\n",
       "      <th>UAI</th>\n",
       "    </tr>\n",
       "  </thead>\n",
       "  <tbody>\n",
       "    <tr>\n",
       "      <th>0</th>\n",
       "      <td>5.4</td>\n",
       "      <td>6.2</td>\n",
       "      <td>5.0</td>\n",
       "      <td>5.6</td>\n",
       "      <td>3.8</td>\n",
       "      <td>4.75</td>\n",
       "      <td>3.50</td>\n",
       "      <td>4.75</td>\n",
       "      <td>4.00</td>\n",
       "      <td>4.50</td>\n",
       "      <td>3.00</td>\n",
       "    </tr>\n",
       "    <tr>\n",
       "      <th>1</th>\n",
       "      <td>4.8</td>\n",
       "      <td>5.0</td>\n",
       "      <td>5.2</td>\n",
       "      <td>5.0</td>\n",
       "      <td>6.4</td>\n",
       "      <td>4.50</td>\n",
       "      <td>3.75</td>\n",
       "      <td>3.75</td>\n",
       "      <td>3.25</td>\n",
       "      <td>4.75</td>\n",
       "      <td>3.00</td>\n",
       "    </tr>\n",
       "    <tr>\n",
       "      <th>2</th>\n",
       "      <td>5.8</td>\n",
       "      <td>5.6</td>\n",
       "      <td>5.2</td>\n",
       "      <td>5.6</td>\n",
       "      <td>5.4</td>\n",
       "      <td>5.00</td>\n",
       "      <td>3.25</td>\n",
       "      <td>4.00</td>\n",
       "      <td>4.50</td>\n",
       "      <td>4.25</td>\n",
       "      <td>2.75</td>\n",
       "    </tr>\n",
       "    <tr>\n",
       "      <th>3</th>\n",
       "      <td>5.4</td>\n",
       "      <td>6.6</td>\n",
       "      <td>5.2</td>\n",
       "      <td>5.8</td>\n",
       "      <td>5.0</td>\n",
       "      <td>4.25</td>\n",
       "      <td>3.75</td>\n",
       "      <td>5.75</td>\n",
       "      <td>4.25</td>\n",
       "      <td>4.00</td>\n",
       "      <td>3.00</td>\n",
       "    </tr>\n",
       "    <tr>\n",
       "      <th>4</th>\n",
       "      <td>6.2</td>\n",
       "      <td>5.0</td>\n",
       "      <td>2.8</td>\n",
       "      <td>5.0</td>\n",
       "      <td>4.4</td>\n",
       "      <td>5.00</td>\n",
       "      <td>4.25</td>\n",
       "      <td>4.50</td>\n",
       "      <td>3.75</td>\n",
       "      <td>3.25</td>\n",
       "      <td>3.00</td>\n",
       "    </tr>\n",
       "  </tbody>\n",
       "</table>\n",
       "</div>"
      ],
      "text/plain": [
       "   AGR  CON  EXT  INT  NEU   IDV   IVR   LTO   MAS    PD   UAI\n",
       "0  5.4  6.2  5.0  5.6  3.8  4.75  3.50  4.75  4.00  4.50  3.00\n",
       "1  4.8  5.0  5.2  5.0  6.4  4.50  3.75  3.75  3.25  4.75  3.00\n",
       "2  5.8  5.6  5.2  5.6  5.4  5.00  3.25  4.00  4.50  4.25  2.75\n",
       "3  5.4  6.6  5.2  5.8  5.0  4.25  3.75  5.75  4.25  4.00  3.00\n",
       "4  6.2  5.0  2.8  5.0  4.4  5.00  4.25  4.50  3.75  3.25  3.00"
      ]
     },
     "execution_count": 2,
     "metadata": {},
     "output_type": "execute_result"
    }
   ],
   "source": [
    "import plotly.express as px\n",
    "import sklearn.cluster as cluster\n",
    "from scipy.spatial import distance as sdist\n",
    "\n",
    "df_cluster = df[['AGR', 'CON', 'EXT', 'INT', 'NEU', 'IDV', 'IVR', 'LTO', 'MAS', 'PD', 'UAI']]\n",
    "df_cluster.head()"
   ]
  },
  {
   "cell_type": "code",
   "execution_count": 3,
   "metadata": {},
   "outputs": [
    {
     "data": {
      "image/png": "[encoded data removed]",
      "text/plain": [
       "<Figure size 432x288 with 1 Axes>"
      ]
     },
     "metadata": {
      "needs_background": "light"
     },
     "output_type": "display_data"
    }
   ],
   "source": [
    "from sklearn.cluster import KMeans\n",
    "from sklearn.metrics import calinski_harabasz_score\n",
    "from matplotlib import pyplot as plt\n",
    "\n",
    "# Calinski and Harabasz Criterion\n",
    "\n",
    "ch_criterion = []\n",
    "for n in range(2, 21):\n",
    "  kmeans = KMeans(n, random_state=12345).fit(df_cluster)\n",
    "  ch_criterion.append(calinski_harabasz_score(df_cluster, labels=kmeans.labels_))\n",
    "\n",
    "plt.plot(range(2, 21), ch_criterion, 'bx-')\n",
    "plt.show()"
   ]
  },
  {
   "cell_type": "code",
   "execution_count": 4,
   "metadata": {},
   "outputs": [],
   "source": [
    "# Silhouette Analyhsis\n",
    "\n",
    "from sklearn.metrics import silhouette_score\n",
    "\n",
    "silhouette_avg = []\n",
    "for n in range(2, 21):\n",
    "  kmeans = KMeans(n, random_state=12345).fit(df_cluster)\n",
    "  silhouette_avg.append(silhouette_score(df_cluster, kmeans.labels_))"
   ]
  },
  {
   "cell_type": "code",
   "execution_count": 5,
   "metadata": {},
   "outputs": [
    {
     "data": {
      "image/png": "[encoded data removed]",
      "text/plain": [
       "<Figure size 432x288 with 1 Axes>"
      ]
     },
     "metadata": {
      "needs_background": "light"
     },
     "output_type": "display_data"
    }
   ],
   "source": [
    "# WCSS (a.k.a. Elbow Method)\n",
    "\n",
    "ss_distances = []\n",
    "for n in range (2, 21):\n",
    "  kmeans = KMeans(n, random_state=12345).fit(df_cluster)\n",
    "  ss_distances.append(kmeans.inertia_)\n",
    "\n",
    "plt.plot(range(2, 21), ss_distances, 'bx-')\n",
    "plt.show()"
   ]
  },
  {
   "cell_type": "code",
   "execution_count": 6,
   "metadata": {},
   "outputs": [
    {
     "data": {
      "text/html": [
       "<div>\n",
       "<style scoped>\n",
       "    .dataframe tbody tr th:only-of-type {\n",
       "        vertical-align: middle;\n",
       "    }\n",
       "\n",
       "    .dataframe tbody tr th {\n",
       "        vertical-align: top;\n",
       "    }\n",
       "\n",
       "    .dataframe thead th {\n",
       "        text-align: right;\n",
       "    }\n",
       "</style>\n",
       "<table border=\"1\" class=\"dataframe\">\n",
       "  <thead>\n",
       "    <tr style=\"text-align: right;\">\n",
       "      <th></th>\n",
       "      <th>AGR</th>\n",
       "      <th>CON</th>\n",
       "      <th>EXT</th>\n",
       "      <th>INT</th>\n",
       "      <th>NEU</th>\n",
       "      <th>IDV</th>\n",
       "      <th>IVR</th>\n",
       "      <th>LTO</th>\n",
       "      <th>MAS</th>\n",
       "      <th>PD</th>\n",
       "      <th>UAI</th>\n",
       "      <th>cluster</th>\n",
       "    </tr>\n",
       "  </thead>\n",
       "  <tbody>\n",
       "    <tr>\n",
       "      <th>0</th>\n",
       "      <td>5.4</td>\n",
       "      <td>6.2</td>\n",
       "      <td>5.0</td>\n",
       "      <td>5.6</td>\n",
       "      <td>3.8</td>\n",
       "      <td>4.75</td>\n",
       "      <td>3.50</td>\n",
       "      <td>4.75</td>\n",
       "      <td>4.00</td>\n",
       "      <td>4.50</td>\n",
       "      <td>3.00</td>\n",
       "      <td>0</td>\n",
       "    </tr>\n",
       "    <tr>\n",
       "      <th>1</th>\n",
       "      <td>4.8</td>\n",
       "      <td>5.0</td>\n",
       "      <td>5.2</td>\n",
       "      <td>5.0</td>\n",
       "      <td>6.4</td>\n",
       "      <td>4.50</td>\n",
       "      <td>3.75</td>\n",
       "      <td>3.75</td>\n",
       "      <td>3.25</td>\n",
       "      <td>4.75</td>\n",
       "      <td>3.00</td>\n",
       "      <td>1</td>\n",
       "    </tr>\n",
       "    <tr>\n",
       "      <th>2</th>\n",
       "      <td>5.8</td>\n",
       "      <td>5.6</td>\n",
       "      <td>5.2</td>\n",
       "      <td>5.6</td>\n",
       "      <td>5.4</td>\n",
       "      <td>5.00</td>\n",
       "      <td>3.25</td>\n",
       "      <td>4.00</td>\n",
       "      <td>4.50</td>\n",
       "      <td>4.25</td>\n",
       "      <td>2.75</td>\n",
       "      <td>1</td>\n",
       "    </tr>\n",
       "    <tr>\n",
       "      <th>3</th>\n",
       "      <td>5.4</td>\n",
       "      <td>6.6</td>\n",
       "      <td>5.2</td>\n",
       "      <td>5.8</td>\n",
       "      <td>5.0</td>\n",
       "      <td>4.25</td>\n",
       "      <td>3.75</td>\n",
       "      <td>5.75</td>\n",
       "      <td>4.25</td>\n",
       "      <td>4.00</td>\n",
       "      <td>3.00</td>\n",
       "      <td>1</td>\n",
       "    </tr>\n",
       "    <tr>\n",
       "      <th>4</th>\n",
       "      <td>6.2</td>\n",
       "      <td>5.0</td>\n",
       "      <td>2.8</td>\n",
       "      <td>5.0</td>\n",
       "      <td>4.4</td>\n",
       "      <td>5.00</td>\n",
       "      <td>4.25</td>\n",
       "      <td>4.50</td>\n",
       "      <td>3.75</td>\n",
       "      <td>3.25</td>\n",
       "      <td>3.00</td>\n",
       "      <td>0</td>\n",
       "    </tr>\n",
       "  </tbody>\n",
       "</table>\n",
       "</div>"
      ],
      "text/plain": [
       "   AGR  CON  EXT  INT  NEU   IDV   IVR   LTO   MAS    PD   UAI  cluster\n",
       "0  5.4  6.2  5.0  5.6  3.8  4.75  3.50  4.75  4.00  4.50  3.00        0\n",
       "1  4.8  5.0  5.2  5.0  6.4  4.50  3.75  3.75  3.25  4.75  3.00        1\n",
       "2  5.8  5.6  5.2  5.6  5.4  5.00  3.25  4.00  4.50  4.25  2.75        1\n",
       "3  5.4  6.6  5.2  5.8  5.0  4.25  3.75  5.75  4.25  4.00  3.00        1\n",
       "4  6.2  5.0  2.8  5.0  4.4  5.00  4.25  4.50  3.75  3.25  3.00        0"
      ]
     },
     "execution_count": 6,
     "metadata": {},
     "output_type": "execute_result"
    }
   ],
   "source": [
    "kmeans = KMeans(2, random_state=12345).fit(df_cluster)\n",
    "\n",
    "df_wcluster = df_cluster.copy()\n",
    "df_wcluster['cluster'] = kmeans.predict(df_cluster)\n",
    "df_wcluster.head()"
   ]
  },
  {
   "cell_type": "code",
   "execution_count": 7,
   "metadata": {},
   "outputs": [
    {
     "data": {
      "text/html": [
       "<div>\n",
       "<style scoped>\n",
       "    .dataframe tbody tr th:only-of-type {\n",
       "        vertical-align: middle;\n",
       "    }\n",
       "\n",
       "    .dataframe tbody tr th {\n",
       "        vertical-align: top;\n",
       "    }\n",
       "\n",
       "    .dataframe thead th {\n",
       "        text-align: right;\n",
       "    }\n",
       "</style>\n",
       "<table border=\"1\" class=\"dataframe\">\n",
       "  <thead>\n",
       "    <tr style=\"text-align: right;\">\n",
       "      <th></th>\n",
       "      <th>C0_means</th>\n",
       "      <th>C1_means</th>\n",
       "      <th>diff</th>\n",
       "    </tr>\n",
       "  </thead>\n",
       "  <tbody>\n",
       "    <tr>\n",
       "      <th>EXT</th>\n",
       "      <td>4.082353</td>\n",
       "      <td>5.317544</td>\n",
       "      <td>1.235191</td>\n",
       "    </tr>\n",
       "    <tr>\n",
       "      <th>NEU</th>\n",
       "      <td>3.800000</td>\n",
       "      <td>4.910526</td>\n",
       "      <td>1.110526</td>\n",
       "    </tr>\n",
       "    <tr>\n",
       "      <th>cluster</th>\n",
       "      <td>0.000000</td>\n",
       "      <td>1.000000</td>\n",
       "      <td>1.000000</td>\n",
       "    </tr>\n",
       "    <tr>\n",
       "      <th>INT</th>\n",
       "      <td>4.596078</td>\n",
       "      <td>5.387719</td>\n",
       "      <td>0.791641</td>\n",
       "    </tr>\n",
       "    <tr>\n",
       "      <th>AGR</th>\n",
       "      <td>5.556863</td>\n",
       "      <td>6.329825</td>\n",
       "      <td>0.772962</td>\n",
       "    </tr>\n",
       "    <tr>\n",
       "      <th>UAI</th>\n",
       "      <td>3.198529</td>\n",
       "      <td>2.971491</td>\n",
       "      <td>0.227038</td>\n",
       "    </tr>\n",
       "    <tr>\n",
       "      <th>LTO</th>\n",
       "      <td>4.546569</td>\n",
       "      <td>4.418860</td>\n",
       "      <td>0.127709</td>\n",
       "    </tr>\n",
       "    <tr>\n",
       "      <th>CON</th>\n",
       "      <td>5.470588</td>\n",
       "      <td>5.528070</td>\n",
       "      <td>0.057482</td>\n",
       "    </tr>\n",
       "    <tr>\n",
       "      <th>IDV</th>\n",
       "      <td>4.433824</td>\n",
       "      <td>4.486842</td>\n",
       "      <td>0.053019</td>\n",
       "    </tr>\n",
       "    <tr>\n",
       "      <th>PD</th>\n",
       "      <td>3.882353</td>\n",
       "      <td>3.932018</td>\n",
       "      <td>0.049665</td>\n",
       "    </tr>\n",
       "    <tr>\n",
       "      <th>MAS</th>\n",
       "      <td>3.867647</td>\n",
       "      <td>3.828947</td>\n",
       "      <td>0.038700</td>\n",
       "    </tr>\n",
       "  </tbody>\n",
       "</table>\n",
       "</div>"
      ],
      "text/plain": [
       "         C0_means  C1_means      diff\n",
       "EXT      4.082353  5.317544  1.235191\n",
       "NEU      3.800000  4.910526  1.110526\n",
       "cluster  0.000000  1.000000  1.000000\n",
       "INT      4.596078  5.387719  0.791641\n",
       "AGR      5.556863  6.329825  0.772962\n",
       "UAI      3.198529  2.971491  0.227038\n",
       "LTO      4.546569  4.418860  0.127709\n",
       "CON      5.470588  5.528070  0.057482\n",
       "IDV      4.433824  4.486842  0.053019\n",
       "PD       3.882353  3.932018  0.049665\n",
       "MAS      3.867647  3.828947  0.038700"
      ]
     },
     "execution_count": 7,
     "metadata": {},
     "output_type": "execute_result"
    }
   ],
   "source": [
    "output_df = pd.DataFrame({'C0_means':df_wcluster[df_wcluster.cluster==0].mean(), \n",
    "                          'C1_means':df_wcluster[df_wcluster.cluster==1].mean()})\n",
    "output_df['diff'] = abs(output_df['C0_means'] - output_df['C1_means'])\n",
    "output_df.sort_values(by=['diff'], ascending=False).head(11)"
   ]
  },
  {
   "cell_type": "code",
   "execution_count": 8,
   "metadata": {},
   "outputs": [
    {
     "data": {
      "application/vnd.plotly.v1+json": {
       "config": {
        "plotlyServerURL": "https://plot.ly"
       },
       "data": [
        {
         "hovertemplate": "EXT=%{x}<br>NEU=%{y}<br>AGR=%{z}<br>cluster=%{marker.color}<extra></extra>",
         "legendgroup": "",
         "marker": {
          "color": [
           0,
           1,
           1,
           1,
           0,
           1,
           0,
           1,
           0,
           1,
           0,
           0,
           0,
           1,
           0,
           0,
           1,
           0,
           0,
           0,
           1,
           0,
           0,
           1,
           1,
           0,
           1,
           1,
           1,
           0,
           0,
           0,
           0,
           0,
           0,
           1,
           0,
           1,
           1,
           1,
           0,
           1,
           1,
           1,
           1,
           1,
           1,
           1,
           0,
           0,
           0,
           0,
           1,
           0,
           0,
           0,
           1,
           1,
           1,
           0,
           0,
           0,
           1,
           0,
           1,
           1,
           0,
           0,
           0,
           0,
           1,
           1,
           0,
           0,
           1,
           1,
           1,
           1,
           1,
           0,
           0,
           1,
           1,
           1,
           0,
           0,
           0,
           0,
           0,
           0,
           0,
           1,
           0,
           1,
           0,
           0,
           1,
           1,
           1,
           1,
           1,
           0,
           1,
           0,
           0,
           0,
           0,
           1,
           1,
           1,
           0,
           1,
           1,
           1,
           1,
           1,
           1,
           1,
           1,
           0,
           0,
           1,
           1,
           1,
           1,
           1,
           1,
           1,
           0,
           0,
           1,
           1,
           0,
           0,
           1,
           1,
           1,
           0,
           0,
           1,
           1,
           1,
           1,
           0,
           1,
           1,
           1,
           1,
           0,
           1,
           1,
           1,
           0,
           0,
           0,
           1,
           0,
           0,
           1,
           1,
           0,
           1,
           1,
           1,
           0,
           1,
           0,
           0,
           1,
           0,
           0,
           0,
           1,
           0,
           1,
           0,
           0,
           1,
           0,
           0,
           1,
           0,
           1,
           1,
           1,
           1,
           0,
           0,
           0,
           1,
           0,
           0,
           0,
           1,
           1,
           0,
           0,
           1,
           1,
           0,
           1,
           1,
           1,
           1,
           1,
           0,
           0,
           1,
           0,
           1,
           0,
           1,
           0,
           0,
           1,
           0
          ],
          "coloraxis": "coloraxis",
          "symbol": "circle"
         },
         "mode": "markers",
         "name": "",
         "scene": "scene",
         "showlegend": false,
         "type": "scatter3d",
         "x": [
          5,
          5.2,
          5.2,
          5.2,
          2.8,
          3.8,
          5,
          5.8,
          3.4,
          5.2,
          4.2,
          5.2,
          3.8,
          6.6,
          4.8,
          4,
          5.4,
          4,
          4.2,
          4,
          6.2,
          3.2,
          4.6,
          4.8,
          4.8,
          3.8,
          4.2,
          7,
          5.8,
          4.4,
          3.6,
          2.6,
          4.6,
          5.4,
          4.8,
          5.8,
          3.4,
          4.8,
          6.6,
          5.4,
          1.4,
          4.8,
          4.6,
          2.6,
          4.2,
          5.4,
          5.2,
          5.2,
          3.8,
          4.4,
          4,
          3.4,
          6.2,
          4.6,
          4.8,
          5.2,
          4.6,
          5.6,
          6.2,
          3.2,
          3.6,
          3.8,
          5.2,
          2.6,
          5.6,
          4.2,
          4.2,
          3.8,
          3.8,
          5,
          6,
          5.4,
          5.8,
          2.8,
          5,
          5.2,
          5.4,
          3.8,
          6.2,
          3.8,
          3.6,
          4.2,
          6.6,
          6,
          3.4,
          4.2,
          4.6,
          3.6,
          4.2,
          3.6,
          2.4,
          4.8,
          4.2,
          4.6,
          4.8,
          1.8,
          5.2,
          6.2,
          6,
          7,
          5,
          4.4,
          5.8,
          4.4,
          4.4,
          3.4,
          5.2,
          5.4,
          6.2,
          4.2,
          4.4,
          4.8,
          5,
          4,
          5.6,
          6.6,
          4.6,
          7,
          5.6,
          4,
          5,
          7,
          6.2,
          6.2,
          6,
          6.2,
          3.8,
          6.6,
          5,
          5.4,
          5.8,
          4.4,
          3.4,
          4.2,
          5,
          4.6,
          3.8,
          4.2,
          4.2,
          5.8,
          5,
          5.8,
          5.6,
          5,
          5.2,
          5,
          6,
          4.8,
          4.2,
          6.2,
          5.6,
          5.8,
          4.2,
          2.8,
          5.4,
          4,
          3,
          4.4,
          6.4,
          5.6,
          3.6,
          4.8,
          6.6,
          5.8,
          3.8,
          4.8,
          3.6,
          4.4,
          6.6,
          5,
          5.2,
          4.4,
          6.6,
          5,
          4.6,
          5.4,
          3.8,
          6.6,
          3.4,
          3.8,
          4.2,
          4.4,
          4.6,
          5.8,
          6.2,
          7,
          4.2,
          4.8,
          4.4,
          5,
          3.8,
          4.8,
          3.6,
          5.4,
          5.8,
          4.2,
          5,
          5.2,
          5.2,
          4.8,
          3.6,
          2.6,
          4.2,
          5.8,
          5.4,
          4.4,
          3.4,
          5.8,
          3.8,
          2,
          2.2,
          5.2,
          3.6,
          3.8,
          3.6,
          4
         ],
         "y": [
          3.8,
          6.4,
          5.4,
          5,
          4.4,
          5.2,
          4.2,
          4.4,
          3,
          5.8,
          2.6,
          3.8,
          3.2,
          5,
          2.8,
          4,
          5.6,
          3.4,
          4.4,
          5,
          4.8,
          4.2,
          3.8,
          4,
          4.8,
          3.4,
          5.8,
          3.4,
          5.8,
          3.4,
          4.2,
          3.4,
          3.6,
          2.6,
          4.4,
          4,
          4.2,
          4.8,
          6.6,
          4.4,
          2.2,
          4.2,
          4.6,
          6.2,
          4.2,
          3.8,
          4.8,
          5,
          4,
          4.6,
          4.8,
          2.6,
          4.6,
          4,
          5.2,
          1.8,
          6.6,
          5.2,
          3.8,
          5,
          4.6,
          4,
          6.2,
          4,
          5.8,
          5.6,
          4,
          3.8,
          4,
          3.6,
          5.6,
          6.6,
          3.4,
          4.2,
          5.2,
          4.2,
          5,
          5.8,
          6.2,
          3.6,
          5.2,
          5.2,
          3.2,
          3.6,
          4.8,
          3.4,
          3.6,
          4.2,
          4.2,
          3.4,
          1.8,
          6,
          2.8,
          4.2,
          3.8,
          3.6,
          4.6,
          4.2,
          3.8,
          4.8,
          5.6,
          2.8,
          4.8,
          3.8,
          4.2,
          4,
          3,
          3.8,
          3.6,
          5,
          4.6,
          4.6,
          4.4,
          4.2,
          4,
          4.8,
          6.2,
          4.8,
          4,
          4.4,
          2.8,
          3.4,
          3.8,
          5.4,
          5,
          4.2,
          5.2,
          2.6,
          3,
          4.4,
          6.2,
          5.2,
          4.4,
          4.6,
          5,
          5,
          7,
          3.8,
          4,
          4.6,
          4,
          4,
          4.4,
          4.2,
          3.4,
          5.6,
          3.8,
          5,
          2.8,
          5,
          6.4,
          5.2,
          4,
          2.2,
          4.6,
          4.8,
          3.4,
          5,
          3.8,
          4,
          4,
          4.8,
          5,
          5,
          4.2,
          3.8,
          3.4,
          3.8,
          4.2,
          3.8,
          3.8,
          4.6,
          5.2,
          4.6,
          5,
          3.6,
          4.6,
          3.8,
          4,
          4,
          5.4,
          4.6,
          7,
          4.6,
          6.2,
          5,
          4,
          4,
          4.4,
          5.4,
          4.2,
          3.8,
          3,
          3.8,
          4.8,
          3,
          4.4,
          4.8,
          5,
          3.8,
          4.4,
          7,
          5.4,
          5.8,
          6.2,
          4,
          2.6,
          5,
          4,
          6.2,
          3,
          4.8,
          3.6,
          3,
          4.4,
          3.8
         ],
         "z": [
          5.4,
          4.8,
          5.8,
          5.4,
          6.2,
          6.2,
          6.2,
          6.2,
          5.8,
          5.4,
          5.8,
          5.4,
          5.4,
          5,
          5.8,
          5.4,
          6.6,
          6.2,
          4.6,
          6.2,
          7,
          5,
          5,
          7,
          6,
          6.6,
          6.6,
          7,
          6.6,
          5.6,
          5.8,
          5.4,
          5.8,
          5.8,
          5.6,
          7,
          5.8,
          6.6,
          5.8,
          6.2,
          5.8,
          6.6,
          7,
          6.4,
          7,
          6.6,
          4.8,
          6.6,
          6.2,
          4.8,
          5.6,
          4.6,
          7,
          4.4,
          5.4,
          5.4,
          6.6,
          6.2,
          6.2,
          4.6,
          5.4,
          6.2,
          4.4,
          7,
          6.6,
          6,
          5.4,
          5.4,
          4,
          6.4,
          7,
          6.6,
          5.8,
          4.8,
          7,
          6.2,
          5.8,
          7,
          6.6,
          6.6,
          6.2,
          5.2,
          6.6,
          5.6,
          6.2,
          4.6,
          6.2,
          7,
          5.4,
          5.8,
          5.4,
          7,
          5.8,
          6.6,
          5.6,
          5,
          6.6,
          6.6,
          5.8,
          5.6,
          6.2,
          6.2,
          6.6,
          6.2,
          5,
          5.8,
          5.8,
          6.6,
          7,
          7,
          4.8,
          6.2,
          6.6,
          7,
          5.8,
          6.6,
          6.2,
          6.6,
          5.6,
          5,
          7,
          6.6,
          5.8,
          7,
          5,
          7,
          5.4,
          6.6,
          6.6,
          5.8,
          7,
          6.2,
          4.8,
          5,
          7,
          6.2,
          5.8,
          5.4,
          6,
          6.6,
          6.6,
          7,
          6.6,
          5.4,
          6.6,
          5.8,
          6.4,
          5.2,
          4.2,
          5.8,
          6.2,
          6.6,
          5.8,
          5.8,
          3.8,
          6.6,
          5,
          5,
          7,
          6.2,
          5.8,
          5.8,
          7,
          7,
          5,
          6.6,
          6,
          5.4,
          6.6,
          5.2,
          5.4,
          5,
          6.6,
          5.8,
          5.2,
          5.8,
          6.6,
          5.6,
          5.8,
          4.8,
          6.6,
          7,
          6.6,
          6.2,
          6.6,
          7,
          4.4,
          5.8,
          5.2,
          5.8,
          5.8,
          6.6,
          4.6,
          7,
          6.2,
          6.6,
          5.2,
          6.6,
          5,
          6.2,
          6.6,
          7,
          7,
          7,
          5.4,
          5.4,
          5.4,
          5,
          5.2,
          7,
          5.2,
          7,
          5.4,
          4.6,
          5.8,
          5.4
         ]
        }
       ],
       "layout": {
        "coloraxis": {
         "colorbar": {
          "title": {
           "text": "cluster"
          }
         },
         "colorscale": [
          [
           0,
           "#0d0887"
          ],
          [
           0.1111111111111111,
           "#46039f"
          ],
          [
           0.2222222222222222,
           "#7201a8"
          ],
          [
           0.3333333333333333,
           "#9c179e"
          ],
          [
           0.4444444444444444,
           "#bd3786"
          ],
          [
           0.5555555555555556,
           "#d8576b"
          ],
          [
           0.6666666666666666,
           "#ed7953"
          ],
          [
           0.7777777777777778,
           "#fb9f3a"
          ],
          [
           0.8888888888888888,
           "#fdca26"
          ],
          [
           1,
           "#f0f921"
          ]
         ]
        },
        "legend": {
         "tracegroupgap": 0
        },
        "margin": {
         "t": 60
        },
        "scene": {
         "domain": {
          "x": [
           0,
           1
          ],
          "y": [
           0,
           1
          ]
         },
         "xaxis": {
          "title": {
           "text": "EXT"
          }
         },
         "yaxis": {
          "title": {
           "text": "NEU"
          }
         },
         "zaxis": {
          "title": {
           "text": "AGR"
          }
         }
        },
        "template": {
         "data": {
          "bar": [
           {
            "error_x": {
             "color": "#2a3f5f"
            },
            "error_y": {
             "color": "#2a3f5f"
            },
            "marker": {
             "line": {
              "color": "#E5ECF6",
              "width": 0.5
             },
             "pattern": {
              "fillmode": "overlay",
              "size": 10,
              "solidity": 0.2
             }
            },
            "type": "bar"
           }
          ],
          "barpolar": [
           {
            "marker": {
             "line": {
              "color": "#E5ECF6",
              "width": 0.5
             },
             "pattern": {
              "fillmode": "overlay",
              "size": 10,
              "solidity": 0.2
             }
            },
            "type": "barpolar"
           }
          ],
          "carpet": [
           {
            "aaxis": {
             "endlinecolor": "#2a3f5f",
             "gridcolor": "white",
             "linecolor": "white",
             "minorgridcolor": "white",
             "startlinecolor": "#2a3f5f"
            },
            "baxis": {
             "endlinecolor": "#2a3f5f",
             "gridcolor": "white",
             "linecolor": "white",
             "minorgridcolor": "white",
             "startlinecolor": "#2a3f5f"
            },
            "type": "carpet"
           }
          ],
          "choropleth": [
           {
            "colorbar": {
             "outlinewidth": 0,
             "ticks": ""
            },
            "type": "choropleth"
           }
          ],
          "contour": [
           {
            "colorbar": {
             "outlinewidth": 0,
             "ticks": ""
            },
            "colorscale": [
             [
              0,
              "#0d0887"
             ],
             [
              0.1111111111111111,
              "#46039f"
             ],
             [
              0.2222222222222222,
              "#7201a8"
             ],
             [
              0.3333333333333333,
              "#9c179e"
             ],
             [
              0.4444444444444444,
              "#bd3786"
             ],
             [
              0.5555555555555556,
              "#d8576b"
             ],
             [
              0.6666666666666666,
              "#ed7953"
             ],
             [
              0.7777777777777778,
              "#fb9f3a"
             ],
             [
              0.8888888888888888,
              "#fdca26"
             ],
             [
              1,
              "#f0f921"
             ]
            ],
            "type": "contour"
           }
          ],
          "contourcarpet": [
           {
            "colorbar": {
             "outlinewidth": 0,
             "ticks": ""
            },
            "type": "contourcarpet"
           }
          ],
          "heatmap": [
           {
            "colorbar": {
             "outlinewidth": 0,
             "ticks": ""
            },
            "colorscale": [
             [
              0,
              "#0d0887"
             ],
             [
              0.1111111111111111,
              "#46039f"
             ],
             [
              0.2222222222222222,
              "#7201a8"
             ],
             [
              0.3333333333333333,
              "#9c179e"
             ],
             [
              0.4444444444444444,
              "#bd3786"
             ],
             [
              0.5555555555555556,
              "#d8576b"
             ],
             [
              0.6666666666666666,
              "#ed7953"
             ],
             [
              0.7777777777777778,
              "#fb9f3a"
             ],
             [
              0.8888888888888888,
              "#fdca26"
             ],
             [
              1,
              "#f0f921"
             ]
            ],
            "type": "heatmap"
           }
          ],
          "heatmapgl": [
           {
            "colorbar": {
             "outlinewidth": 0,
             "ticks": ""
            },
            "colorscale": [
             [
              0,
              "#0d0887"
             ],
             [
              0.1111111111111111,
              "#46039f"
             ],
             [
              0.2222222222222222,
              "#7201a8"
             ],
             [
              0.3333333333333333,
              "#9c179e"
             ],
             [
              0.4444444444444444,
              "#bd3786"
             ],
             [
              0.5555555555555556,
              "#d8576b"
             ],
             [
              0.6666666666666666,
              "#ed7953"
             ],
             [
              0.7777777777777778,
              "#fb9f3a"
             ],
             [
              0.8888888888888888,
              "#fdca26"
             ],
             [
              1,
              "#f0f921"
             ]
            ],
            "type": "heatmapgl"
           }
          ],
          "histogram": [
           {
            "marker": {
             "pattern": {
              "fillmode": "overlay",
              "size": 10,
              "solidity": 0.2
             }
            },
            "type": "histogram"
           }
          ],
          "histogram2d": [
           {
            "colorbar": {
             "outlinewidth": 0,
             "ticks": ""
            },
            "colorscale": [
             [
              0,
              "#0d0887"
             ],
             [
              0.1111111111111111,
              "#46039f"
             ],
             [
              0.2222222222222222,
              "#7201a8"
             ],
             [
              0.3333333333333333,
              "#9c179e"
             ],
             [
              0.4444444444444444,
              "#bd3786"
             ],
             [
              0.5555555555555556,
              "#d8576b"
             ],
             [
              0.6666666666666666,
              "#ed7953"
             ],
             [
              0.7777777777777778,
              "#fb9f3a"
             ],
             [
              0.8888888888888888,
              "#fdca26"
             ],
             [
              1,
              "#f0f921"
             ]
            ],
            "type": "histogram2d"
           }
          ],
          "histogram2dcontour": [
           {
            "colorbar": {
             "outlinewidth": 0,
             "ticks": ""
            },
            "colorscale": [
             [
              0,
              "#0d0887"
             ],
             [
              0.1111111111111111,
              "#46039f"
             ],
             [
              0.2222222222222222,
              "#7201a8"
             ],
             [
              0.3333333333333333,
              "#9c179e"
             ],
             [
              0.4444444444444444,
              "#bd3786"
             ],
             [
              0.5555555555555556,
              "#d8576b"
             ],
             [
              0.6666666666666666,
              "#ed7953"
             ],
             [
              0.7777777777777778,
              "#fb9f3a"
             ],
             [
              0.8888888888888888,
              "#fdca26"
             ],
             [
              1,
              "#f0f921"
             ]
            ],
            "type": "histogram2dcontour"
           }
          ],
          "mesh3d": [
           {
            "colorbar": {
             "outlinewidth": 0,
             "ticks": ""
            },
            "type": "mesh3d"
           }
          ],
          "parcoords": [
           {
            "line": {
             "colorbar": {
              "outlinewidth": 0,
              "ticks": ""
             }
            },
            "type": "parcoords"
           }
          ],
          "pie": [
           {
            "automargin": true,
            "type": "pie"
           }
          ],
          "scatter": [
           {
            "marker": {
             "colorbar": {
              "outlinewidth": 0,
              "ticks": ""
             }
            },
            "type": "scatter"
           }
          ],
          "scatter3d": [
           {
            "line": {
             "colorbar": {
              "outlinewidth": 0,
              "ticks": ""
             }
            },
            "marker": {
             "colorbar": {
              "outlinewidth": 0,
              "ticks": ""
             }
            },
            "type": "scatter3d"
           }
          ],
          "scattercarpet": [
           {
            "marker": {
             "colorbar": {
              "outlinewidth": 0,
              "ticks": ""
             }
            },
            "type": "scattercarpet"
           }
          ],
          "scattergeo": [
           {
            "marker": {
             "colorbar": {
              "outlinewidth": 0,
              "ticks": ""
             }
            },
            "type": "scattergeo"
           }
          ],
          "scattergl": [
           {
            "marker": {
             "colorbar": {
              "outlinewidth": 0,
              "ticks": ""
             }
            },
            "type": "scattergl"
           }
          ],
          "scattermapbox": [
           {
            "marker": {
             "colorbar": {
              "outlinewidth": 0,
              "ticks": ""
             }
            },
            "type": "scattermapbox"
           }
          ],
          "scatterpolar": [
           {
            "marker": {
             "colorbar": {
              "outlinewidth": 0,
              "ticks": ""
             }
            },
            "type": "scatterpolar"
           }
          ],
          "scatterpolargl": [
           {
            "marker": {
             "colorbar": {
              "outlinewidth": 0,
              "ticks": ""
             }
            },
            "type": "scatterpolargl"
           }
          ],
          "scatterternary": [
           {
            "marker": {
             "colorbar": {
              "outlinewidth": 0,
              "ticks": ""
             }
            },
            "type": "scatterternary"
           }
          ],
          "surface": [
           {
            "colorbar": {
             "outlinewidth": 0,
             "ticks": ""
            },
            "colorscale": [
             [
              0,
              "#0d0887"
             ],
             [
              0.1111111111111111,
              "#46039f"
             ],
             [
              0.2222222222222222,
              "#7201a8"
             ],
             [
              0.3333333333333333,
              "#9c179e"
             ],
             [
              0.4444444444444444,
              "#bd3786"
             ],
             [
              0.5555555555555556,
              "#d8576b"
             ],
             [
              0.6666666666666666,
              "#ed7953"
             ],
             [
              0.7777777777777778,
              "#fb9f3a"
             ],
             [
              0.8888888888888888,
              "#fdca26"
             ],
             [
              1,
              "#f0f921"
             ]
            ],
            "type": "surface"
           }
          ],
          "table": [
           {
            "cells": {
             "fill": {
              "color": "#EBF0F8"
             },
             "line": {
              "color": "white"
             }
            },
            "header": {
             "fill": {
              "color": "#C8D4E3"
             },
             "line": {
              "color": "white"
             }
            },
            "type": "table"
           }
          ]
         },
         "layout": {
          "annotationdefaults": {
           "arrowcolor": "#2a3f5f",
           "arrowhead": 0,
           "arrowwidth": 1
          },
          "autotypenumbers": "strict",
          "coloraxis": {
           "colorbar": {
            "outlinewidth": 0,
            "ticks": ""
           }
          },
          "colorscale": {
           "diverging": [
            [
             0,
             "#8e0152"
            ],
            [
             0.1,
             "#c51b7d"
            ],
            [
             0.2,
             "#de77ae"
            ],
            [
             0.3,
             "#f1b6da"
            ],
            [
             0.4,
             "#fde0ef"
            ],
            [
             0.5,
             "#f7f7f7"
            ],
            [
             0.6,
             "#e6f5d0"
            ],
            [
             0.7,
             "#b8e186"
            ],
            [
             0.8,
             "#7fbc41"
            ],
            [
             0.9,
             "#4d9221"
            ],
            [
             1,
             "#276419"
            ]
           ],
           "sequential": [
            [
             0,
             "#0d0887"
            ],
            [
             0.1111111111111111,
             "#46039f"
            ],
            [
             0.2222222222222222,
             "#7201a8"
            ],
            [
             0.3333333333333333,
             "#9c179e"
            ],
            [
             0.4444444444444444,
             "#bd3786"
            ],
            [
             0.5555555555555556,
             "#d8576b"
            ],
            [
             0.6666666666666666,
             "#ed7953"
            ],
            [
             0.7777777777777778,
             "#fb9f3a"
            ],
            [
             0.8888888888888888,
             "#fdca26"
            ],
            [
             1,
             "#f0f921"
            ]
           ],
           "sequentialminus": [
            [
             0,
             "#0d0887"
            ],
            [
             0.1111111111111111,
             "#46039f"
            ],
            [
             0.2222222222222222,
             "#7201a8"
            ],
            [
             0.3333333333333333,
             "#9c179e"
            ],
            [
             0.4444444444444444,
             "#bd3786"
            ],
            [
             0.5555555555555556,
             "#d8576b"
            ],
            [
             0.6666666666666666,
             "#ed7953"
            ],
            [
             0.7777777777777778,
             "#fb9f3a"
            ],
            [
             0.8888888888888888,
             "#fdca26"
            ],
            [
             1,
             "#f0f921"
            ]
           ]
          },
          "colorway": [
           "#636efa",
           "#EF553B",
           "#00cc96",
           "#ab63fa",
           "#FFA15A",
           "#19d3f3",
           "#FF6692",
           "#B6E880",
           "#FF97FF",
           "#FECB52"
          ],
          "font": {
           "color": "#2a3f5f"
          },
          "geo": {
           "bgcolor": "white",
           "lakecolor": "white",
           "landcolor": "#E5ECF6",
           "showlakes": true,
           "showland": true,
           "subunitcolor": "white"
          },
          "hoverlabel": {
           "align": "left"
          },
          "hovermode": "closest",
          "mapbox": {
           "style": "light"
          },
          "paper_bgcolor": "white",
          "plot_bgcolor": "#E5ECF6",
          "polar": {
           "angularaxis": {
            "gridcolor": "white",
            "linecolor": "white",
            "ticks": ""
           },
           "bgcolor": "#E5ECF6",
           "radialaxis": {
            "gridcolor": "white",
            "linecolor": "white",
            "ticks": ""
           }
          },
          "scene": {
           "xaxis": {
            "backgroundcolor": "#E5ECF6",
            "gridcolor": "white",
            "gridwidth": 2,
            "linecolor": "white",
            "showbackground": true,
            "ticks": "",
            "zerolinecolor": "white"
           },
           "yaxis": {
            "backgroundcolor": "#E5ECF6",
            "gridcolor": "white",
            "gridwidth": 2,
            "linecolor": "white",
            "showbackground": true,
            "ticks": "",
            "zerolinecolor": "white"
           },
           "zaxis": {
            "backgroundcolor": "#E5ECF6",
            "gridcolor": "white",
            "gridwidth": 2,
            "linecolor": "white",
            "showbackground": true,
            "ticks": "",
            "zerolinecolor": "white"
           }
          },
          "shapedefaults": {
           "line": {
            "color": "#2a3f5f"
           }
          },
          "ternary": {
           "aaxis": {
            "gridcolor": "white",
            "linecolor": "white",
            "ticks": ""
           },
           "baxis": {
            "gridcolor": "white",
            "linecolor": "white",
            "ticks": ""
           },
           "bgcolor": "#E5ECF6",
           "caxis": {
            "gridcolor": "white",
            "linecolor": "white",
            "ticks": ""
           }
          },
          "title": {
           "x": 0.05
          },
          "xaxis": {
           "automargin": true,
           "gridcolor": "white",
           "linecolor": "white",
           "ticks": "",
           "title": {
            "standoff": 15
           },
           "zerolinecolor": "white",
           "zerolinewidth": 2
          },
          "yaxis": {
           "automargin": true,
           "gridcolor": "white",
           "linecolor": "white",
           "ticks": "",
           "title": {
            "standoff": 15
           },
           "zerolinecolor": "white",
           "zerolinewidth": 2
          }
         }
        }
       }
      }
     },
     "metadata": {},
     "output_type": "display_data"
    }
   ],
   "source": [
    "import plotly.express as px\n",
    "\n",
    "fig = px.scatter_3d(df_wcluster, x='EXT', y='NEU', z='AGR', color='cluster')\n",
    "fig.show()"
   ]
  },
  {
   "cell_type": "markdown",
   "metadata": {},
   "source": [
    "## Insurance Data Set"
   ]
  },
  {
   "cell_type": "code",
   "execution_count": 20,
   "metadata": {},
   "outputs": [
    {
     "data": {
      "text/html": [
       "<div>\n",
       "<style scoped>\n",
       "    .dataframe tbody tr th:only-of-type {\n",
       "        vertical-align: middle;\n",
       "    }\n",
       "\n",
       "    .dataframe tbody tr th {\n",
       "        vertical-align: top;\n",
       "    }\n",
       "\n",
       "    .dataframe thead th {\n",
       "        text-align: right;\n",
       "    }\n",
       "</style>\n",
       "<table border=\"1\" class=\"dataframe\">\n",
       "  <thead>\n",
       "    <tr style=\"text-align: right;\">\n",
       "      <th></th>\n",
       "      <th>age</th>\n",
       "      <th>bmi</th>\n",
       "      <th>children</th>\n",
       "      <th>charges</th>\n",
       "      <th>sex_male</th>\n",
       "      <th>region_northwest</th>\n",
       "      <th>region_southeast</th>\n",
       "      <th>region_southwest</th>\n",
       "      <th>smoker_yes</th>\n",
       "    </tr>\n",
       "  </thead>\n",
       "  <tbody>\n",
       "    <tr>\n",
       "      <th>0</th>\n",
       "      <td>0.021739</td>\n",
       "      <td>0.321227</td>\n",
       "      <td>0.0</td>\n",
       "      <td>0.251611</td>\n",
       "      <td>0.0</td>\n",
       "      <td>0.0</td>\n",
       "      <td>0.0</td>\n",
       "      <td>1.0</td>\n",
       "      <td>1.0</td>\n",
       "    </tr>\n",
       "    <tr>\n",
       "      <th>1</th>\n",
       "      <td>0.000000</td>\n",
       "      <td>0.479150</td>\n",
       "      <td>0.2</td>\n",
       "      <td>0.009636</td>\n",
       "      <td>1.0</td>\n",
       "      <td>0.0</td>\n",
       "      <td>1.0</td>\n",
       "      <td>0.0</td>\n",
       "      <td>0.0</td>\n",
       "    </tr>\n",
       "    <tr>\n",
       "      <th>2</th>\n",
       "      <td>0.217391</td>\n",
       "      <td>0.458434</td>\n",
       "      <td>0.6</td>\n",
       "      <td>0.053115</td>\n",
       "      <td>1.0</td>\n",
       "      <td>0.0</td>\n",
       "      <td>1.0</td>\n",
       "      <td>0.0</td>\n",
       "      <td>0.0</td>\n",
       "    </tr>\n",
       "    <tr>\n",
       "      <th>3</th>\n",
       "      <td>0.326087</td>\n",
       "      <td>0.181464</td>\n",
       "      <td>0.0</td>\n",
       "      <td>0.333010</td>\n",
       "      <td>1.0</td>\n",
       "      <td>1.0</td>\n",
       "      <td>0.0</td>\n",
       "      <td>0.0</td>\n",
       "      <td>0.0</td>\n",
       "    </tr>\n",
       "    <tr>\n",
       "      <th>4</th>\n",
       "      <td>0.304348</td>\n",
       "      <td>0.347592</td>\n",
       "      <td>0.0</td>\n",
       "      <td>0.043816</td>\n",
       "      <td>1.0</td>\n",
       "      <td>1.0</td>\n",
       "      <td>0.0</td>\n",
       "      <td>0.0</td>\n",
       "      <td>0.0</td>\n",
       "    </tr>\n",
       "  </tbody>\n",
       "</table>\n",
       "</div>"
      ],
      "text/plain": [
       "        age       bmi  children   charges  sex_male  region_northwest  \\\n",
       "0  0.021739  0.321227       0.0  0.251611       0.0               0.0   \n",
       "1  0.000000  0.479150       0.2  0.009636       1.0               0.0   \n",
       "2  0.217391  0.458434       0.6  0.053115       1.0               0.0   \n",
       "3  0.326087  0.181464       0.0  0.333010       1.0               1.0   \n",
       "4  0.304348  0.347592       0.0  0.043816       1.0               1.0   \n",
       "\n",
       "   region_southeast  region_southwest  smoker_yes  \n",
       "0               0.0               1.0         1.0  \n",
       "1               1.0               0.0         0.0  \n",
       "2               1.0               0.0         0.0  \n",
       "3               0.0               0.0         0.0  \n",
       "4               0.0               0.0         0.0  "
      ]
     },
     "execution_count": 20,
     "metadata": {},
     "output_type": "execute_result"
    }
   ],
   "source": [
    "from sklearn.preprocessing import MinMaxScaler\n",
    "\n",
    "df_cluster = pd.read_csv('insurance.csv')\n",
    "\n",
    "df_cluster = pd.get_dummies(df_cluster, columns=['sex', 'region', 'smoker'], drop_first=True)\n",
    "df_cluster = pd.DataFrame(MinMaxScaler().fit_transform(df_cluster), columns=df_cluster.columns)\n",
    "df_cluster.head()"
   ]
  },
  {
   "cell_type": "code",
   "execution_count": 21,
   "metadata": {},
   "outputs": [
    {
     "data": {
      "image/png": "[encoded data removed]",
      "text/plain": [
       "<Figure size 432x288 with 1 Axes>"
      ]
     },
     "metadata": {
      "needs_background": "light"
     },
     "output_type": "display_data"
    }
   ],
   "source": [
    "# Calinski and Harabasz Criterion\n",
    "from sklearn.metrics import calinski_harabasz_score\n",
    "from matplotlib import pyplot as plt\n",
    "\n",
    "ch_criterion = []\n",
    "for n in range(2, 40):\n",
    "  kmeans = cluster.KMeans(n_clusters=n, random_state=12345).fit(df_cluster)\n",
    "  ch_criterion.append(calinski_harabasz_score(df_cluster, labels=kmeans.labels_))\n",
    "\n",
    "plt.plot(range(2, 40), ch_criterion, 'bx-')\n",
    "plt.xlabel('Values of K') \n",
    "plt.ylabel('Calinski_Harabasz Criterion') \n",
    "plt.title('Calinski_Harabasz Criterion For Optimal k')\n",
    "plt.text(12, 400, 'Higher is better', bbox=dict(facecolor='red', alpha=0.5))\n",
    "plt.show()"
   ]
  },
  {
   "cell_type": "code",
   "execution_count": 13,
   "metadata": {},
   "outputs": [
    {
     "data": {
      "image/png": "[encoded data removed]",
      "text/plain": [
       "<Figure size 432x288 with 1 Axes>"
      ]
     },
     "metadata": {
      "needs_background": "light"
     },
     "output_type": "display_data"
    }
   ],
   "source": [
    "# Silhouette Analysis\n",
    "\n",
    "from sklearn.metrics import silhouette_score\n",
    "\n",
    "silhouette_avg = []\n",
    "for num_clusters in range(2, 21):\n",
    " kmeans = cluster.KMeans(n_clusters=num_clusters).fit(df_cluster)\n",
    " silhouette_avg.append(silhouette_score(df_cluster, kmeans.labels_))\n",
    "\n",
    "plt.plot(range(2, 21), silhouette_avg, 'bx-')\n",
    "plt.xlabel('Values of K') \n",
    "plt.ylabel('Silhouette score') \n",
    "plt.title('Silhouette analysis For Optimal k')\n",
    "plt.text(5, .14, 'Higher is better', bbox=dict(facecolor='red', alpha=0.5))\n",
    "plt.show()"
   ]
  },
  {
   "cell_type": "code",
   "execution_count": 22,
   "metadata": {},
   "outputs": [
    {
     "data": {
      "image/png": "[encoded data removed]",
      "text/plain": [
       "<Figure size 432x288 with 1 Axes>"
      ]
     },
     "metadata": {
      "needs_background": "light"
     },
     "output_type": "display_data"
    }
   ],
   "source": [
    "# WCSS: Elbow Method\n",
    "\n",
    "SS_distances = []\n",
    "for k in range(1,21):\n",
    "    km = cluster.KMeans(n_clusters=k)\n",
    "    km = km.fit(df_cluster)\n",
    "    SS_distances.append(km.inertia_)\n",
    "    \n",
    "plt.plot(range(1,21), SS_distances, 'bx-')\n",
    "plt.xlabel('n')\n",
    "plt.ylabel('SS_distances')\n",
    "plt.title('Elbow Method For Optimal k')\n",
    "plt.text(5, 1100, 'The point where slope=-1 is best', bbox=dict(facecolor='red', alpha=0.5))\n",
    "plt.show()"
   ]
  },
  {
   "cell_type": "code",
   "execution_count": null,
   "metadata": {},
   "outputs": [],
   "source": [
    "output_df = pd.DataFrame(columns=['C0_mean', 'C1_mean'])\n",
    "\n",
    "for col in df_wcluster:\n",
    "  if col != 'cluster':\n",
    "    output_df.loc[col] = [df_wcluster[df_wcluster.cluster == 0][col].mean(), df_wcluster[df_wcluster.cluster == 1][col].mean()]\n",
    "\n",
    "output_df['diff'] = abs(output_df['C0_mean'] - output_df['C1_mean'])\n",
    "output_df.sort_values(by=['diff'], ascending=False).head(11)"
   ]
  }
 ],
 "metadata": {
  "interpreter": {
   "hash": "67645e4edde45144644326d4815cd26b14c8093db79836f9b69d4c3e18d9122c"
  },
  "kernelspec": {
   "display_name": "Python 3.8.10 64-bit (windows store)",
   "name": "python3"
  },
  "language_info": {
   "codemirror_mode": {
    "name": "ipython",
    "version": 3
   },
   "file_extension": ".py",
   "mimetype": "text/x-python",
   "name": "python",
   "nbconvert_exporter": "python",
   "pygments_lexer": "ipython3",
   "version": "3.8.10"
  },
  "orig_nbformat": 4
 },
 "nbformat": 4,
 "nbformat_minor": 2
}
